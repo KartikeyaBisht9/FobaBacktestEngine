{
 "cells": [
  {
   "cell_type": "code",
   "execution_count": 0,
   "metadata": {
    "application/vnd.databricks.v1+cell": {
     "cellMetadata": {
      "byteLimit": 2048000,
      "rowLimit": 10000
     },
     "inputWidgets": {},
     "nuid": "0cb23d5c-06aa-4b70-ac56-a735b8fc9557",
     "showTitle": false,
     "title": ""
    }
   },
   "outputs": [
    {
     "output_type": "stream",
     "name": "stdout",
     "output_type": "stream",
     "text": [
      "\u001B[43mNote: you may need to restart the kernel using %restart_python or dbutils.library.restartPython() to use updated packages.\u001B[0m\nLooking in indexes: https://artifactory.aus.optiver.com/artifactory/api/pypi/python-all/simple, https://artifactory.aus.optiver.com/artifactory/api/pypi/python-centos7/simple\nRequirement already satisfied: arrow in /local_disk0/.ephemeral_nfs/envs/pythonEnv-4d67cdef-1061-4f7d-8df9-461e67264600/lib/python3.11/site-packages (1.3.0)\nRequirement already satisfied: python-dateutil>=2.7.0 in /databricks/python3/lib/python3.11/site-packages (from arrow) (2.8.2)\nRequirement already satisfied: types-python-dateutil>=2.8.10 in /local_disk0/.ephemeral_nfs/envs/pythonEnv-4d67cdef-1061-4f7d-8df9-461e67264600/lib/python3.11/site-packages (from arrow) (2.9.0.20241003)\nRequirement already satisfied: six>=1.5 in /usr/lib/python3/dist-packages (from python-dateutil>=2.7.0->arrow) (1.16.0)\n\u001B[43mNote: you may need to restart the kernel using %restart_python or dbutils.library.restartPython() to use updated packages.\u001B[0m\n\u001B[43mNote: you may need to restart the kernel using %restart_python or dbutils.library.restartPython() to use updated packages.\u001B[0m\nLooking in indexes: https://artifactory.aus.optiver.com/artifactory/api/pypi/python-all/simple, https://artifactory.aus.optiver.com/artifactory/api/pypi/python-centos7/simple\nRequirement already satisfied: numba in /local_disk0/.ephemeral_nfs/envs/pythonEnv-4d67cdef-1061-4f7d-8df9-461e67264600/lib/python3.11/site-packages (0.60.0)\nRequirement already satisfied: llvmlite<0.44,>=0.43.0dev0 in /local_disk0/.ephemeral_nfs/envs/pythonEnv-4d67cdef-1061-4f7d-8df9-461e67264600/lib/python3.11/site-packages (from numba) (0.43.0)\nRequirement already satisfied: numpy<2.1,>=1.22 in /databricks/python3/lib/python3.11/site-packages (from numba) (1.23.5)\n\u001B[43mNote: you may need to restart the kernel using %restart_python or dbutils.library.restartPython() to use updated packages.\u001B[0m\n"
     ]
    }
   ],
   "source": [
    "%pip install arrow\n",
    "%pip install numba\n",
    "%pip install Jinja2"
   ]
  },
  {
   "cell_type": "code",
   "execution_count": 0,
   "metadata": {
    "application/vnd.databricks.v1+cell": {
     "cellMetadata": {
      "byteLimit": 2048000,
      "rowLimit": 10000
     },
     "inputWidgets": {},
     "nuid": "ff216139-7d06-4f81-9327-f932888d8e7f",
     "showTitle": false,
     "title": ""
    }
   },
   "outputs": [],
   "source": [
    "from common_databricks.dataframe_utils import merge_asof_pyspark\n",
    "from datetime import date, time\n",
    "from zoneinfo import ZoneInfo \n",
    "from pyspark.sql.types import IntegerType\n",
    "import pyspark.sql.functions as F\n",
    "from pyspark.sql import Window\n",
    "import datetime as dt\n",
    "import pandas as pd\n",
    "import numpy as np\n",
    "import json"
   ]
  },
  {
   "cell_type": "code",
   "execution_count": 0,
   "metadata": {
    "application/vnd.databricks.v1+cell": {
     "cellMetadata": {
      "byteLimit": 2048000,
      "rowLimit": 10000
     },
     "inputWidgets": {},
     "nuid": "8c24c157-11c2-4bab-8152-1d31a29e1626",
     "showTitle": false,
     "title": ""
    }
   },
   "outputs": [],
   "source": [
    "def get_and_persist_omdc(feedcodes, date_to_run, path=\"/Workspace/Users/kartikeya.bisht@optiver.com.au/FOBA_create/data/ConflatedBrokerQueue_{date_to_run}.parquet\"):\n",
    "    selected_columns = ['t0', 'omd_send_ts', 'eeid_event_id', 'security_code', 'side', 'item', 'type', 'broker_queue_msg_index']\n",
    "\n",
    "    OMDC = (spark.read.parquet(f\"/Volumes/external/opapac-ess-prd-apse2/hacksaw/sehk/omdc_broker_queue/market_session_date={date_to_run.isoformat()}/\")\n",
    "            .filter(F.col(\"security_code\").isin(feedcodes))\n",
    "            .select(*selected_columns)\n",
    "            .toPandas())\n",
    "\n",
    "    OMDC = OMDC.rename(columns = {\n",
    "        \"t0\": \"received_\",\n",
    "        \"omd_send_ts\": \"timestampNanos_\",\n",
    "        \"security_code\":\"securityCode_\",\n",
    "        \"side\": \"side_\",\n",
    "    })\n",
    "\n",
    "    OMDC[\"priority_pre_step\"] = np.where(OMDC[\"type\"] == \"B\", 1, 0)\n",
    "    OMDC = OMDC.sort_values(by=['eeid_event_id','securityCode_','side_','broker_queue_msg_index']).reset_index(drop=True)\n",
    "    OMDC[\"priority_\"] = OMDC.groupby(['eeid_event_id','securityCode_','side_'])[\"priority_pre_step\"].cumsum()-1\n",
    "    OMDC[\"level_pre_step\"] = np.where(OMDC[\"item\"] == 0, 0,np.where(OMDC[\"type\"] == \"S\", 1, 0))\n",
    "    OMDC[\"level_\"] = OMDC.groupby(['eeid_event_id','securityCode_','side_'])[\"level_pre_step\"].cumsum()\n",
    "\n",
    "    OMDC = OMDC.drop(columns=['priority_pre_step', 'level_pre_step'])\n",
    "    OMDC = OMDC.rename(columns = {\"item\":\"brokerNumber_\"})\n",
    "\n",
    "    OMDC[\"createdNanos_\"] = OMDC[\"received_\"]\n",
    "    OMDC = OMDC[OMDC[\"type\"]==\"B\"].sort_values(['eeid_event_id','securityCode_','side_','broker_queue_msg_index']).reset_index(drop = True)\n",
    "\n",
    "    path_final = path.format(date_to_run=date_to_run)\n",
    "    OMDC.to_parquet(path_final)\n",
    "    return path_final"
   ]
  },
  {
   "cell_type": "code",
   "execution_count": 0,
   "metadata": {
    "application/vnd.databricks.v1+cell": {
     "cellMetadata": {
      "byteLimit": 2048000,
      "rowLimit": 10000
     },
     "inputWidgets": {},
     "nuid": "580cb77b-0aa9-4a0d-bc75-4232330c50f6",
     "showTitle": false,
     "title": ""
    }
   },
   "outputs": [],
   "source": [
    "def get_sql_file(feedcodes, date_to_run,path, database='delete_operation'):\n",
    "    time_filed = \"publish_time\" if database not in [\"private_trade\",\"public_trade\"] else \"trade_time\"\n",
    "    \n",
    "    start_time = dt.datetime.combine(date_to_run, dt.time(0))\n",
    "    end_time = start_time + dt.timedelta(days=1)\n",
    "    start_time = int(start_time.timestamp() * 1e9)\n",
    "    end_time = int(end_time.timestamp() * 1e9)\n",
    "\n",
    "    feedcodes = [str(x) if isinstance(x, int) else x for x in feedcodes]\n",
    "    feedcode_list = \"', '\".join(feedcodes)\n",
    "\n",
    "    q = f\"\"\"\n",
    "    SELECT *\n",
    "    FROM\n",
    "        foundation_prod.core_trades.{database}\n",
    "    WHERE\n",
    "        {time_filed} BETWEEN {start_time} AND {end_time}\n",
    "        AND mic = 'XHKG'\n",
    "        AND feedcode IN ('{feedcode_list}')\n",
    "    \"\"\"\n",
    "    df = spark.sql(q).toPandas()\n",
    "    df.to_parquet(path)\n",
    "\n",
    "# For delete_operation (DELETES), order_insert (ADDs), private_trade"
   ]
  },
  {
   "cell_type": "code",
   "execution_count": 0,
   "metadata": {
    "application/vnd.databricks.v1+cell": {
     "cellMetadata": {
      "byteLimit": 2048000,
      "rowLimit": 10000
     },
     "inputWidgets": {},
     "nuid": "70402b10-196a-4f9c-82f5-1fb6c8b519cc",
     "showTitle": false,
     "title": ""
    }
   },
   "outputs": [],
   "source": [
    "def get_private_feed_confirms(feedcodes, date_to_run, path, database='xhkg_sst_trade'):\n",
    "    start_time = dt.datetime.combine(date_to_run, dt.time(0))\n",
    "    end_time = start_time + dt.timedelta(days=1)\n",
    "    start_time = int(start_time.timestamp() * 1e9)\n",
    "    end_time = int(end_time.timestamp() * 1e9)\n",
    "\n",
    "    feedcodes = [str(x) if isinstance(x, int) else x for x in feedcodes]\n",
    "    feedcode_list = \"', '\".join(feedcodes)\n",
    "\n",
    "    q = f\"\"\"\n",
    "    SELECT *\n",
    "    FROM\n",
    "        foundation_prod.decoded_exec.{database}\n",
    "    WHERE\n",
    "        log_time BETWEEN {start_time} AND {end_time}\n",
    "        AND feedcode IN ('{feedcode_list}')\n",
    "    \"\"\"\n",
    "    df = spark.sql(q).toPandas()\n",
    "    df.to_parquet(path)\n",
    "\n",
    "# For trade_confirms"
   ]
  },
  {
   "cell_type": "code",
   "execution_count": 0,
   "metadata": {
    "application/vnd.databricks.v1+cell": {
     "cellMetadata": {
      "byteLimit": 2048000,
      "rowLimit": 10000
     },
     "inputWidgets": {},
     "nuid": "74a2858f-b90a-4a2c-86f7-3059b11e3eb5",
     "showTitle": false,
     "title": ""
    }
   },
   "outputs": [],
   "source": [
    "import numpy as np\n",
    "from collections import defaultdict, deque\n",
    "\n",
    "# order_id, price, volume, side\n",
    "order_type = np.dtype([\n",
    "    ('order_id', np.int64),\n",
    "    ('price', np.float64),\n",
    "    ('volume', np.float64),\n",
    "    ('side', np.int8)\n",
    "])\n",
    "\n",
    "# passive_order_id, aggressive_order_id, volume_before, volume_after\n",
    "trade_type = np.dtype([\n",
    "    ('passive_order_id', np.int64),\n",
    "    ('aggressive_order_id', np.int64),\n",
    "    ('volume_before', np.float64),\n",
    "    ('volume_after', np.float64)\n",
    "])\n",
    "\n",
    "# operation, order_id, price, volume, side, changeReason\n",
    "ignored_request_type = np.dtype([\n",
    "    ('operation', np.int8),\n",
    "    ('order_id', np.int64),\n",
    "    ('price', np.float64),\n",
    "    ('volume', np.int64),\n",
    "    ('side', np.int8),\n",
    "    ('changeReason', np.int8)\n",
    "])\n",
    "\n",
    "\n",
    "def process_order_book(messages, delete_order_ids):\n",
    "    bids = defaultdict(deque)\n",
    "    asks = defaultdict(deque)\n",
    "\n",
    "    trades = []\n",
    "    ignored_requests = []\n",
    "    \"\"\"\n",
    "    For the aggressive add orders we want to make a LIST of modify + delete we expect for PASSIVE orders\n",
    "    We also want to store this information for the passive orders\n",
    "    \"\"\"\n",
    "\n",
    "    aggressive_orders_expected = {}\n",
    "    passive_orders_expected = {}\n",
    "\n",
    "\n",
    "    for msg in messages:\n",
    "        operation_code = msg['operation_code']\n",
    "        order_id = int(msg['order_id'])\n",
    "        price = msg['price']\n",
    "        volume = int(msg['volume'])\n",
    "        side = msg['side']\n",
    "\n",
    "        if operation_code == 0:  # ADD\n",
    "            add_order(bids, asks, order_id, price, volume, side, trades, aggressive_orders_expected, passive_orders_expected, delete_order_ids)\n",
    "        elif operation_code == 1:  # MODIFY\n",
    "            modify_order(bids, asks, order_id, volume, ignored_requests, msg, aggressive_orders_expected, passive_orders_expected)\n",
    "        elif operation_code == 2:  # DELETE\n",
    "            delete_order(bids, asks, order_id, ignored_requests, msg, aggressive_orders_expected, passive_orders_expected)\n",
    "\n",
    "    return trades, ignored_requests, aggressive_orders_expected, passive_orders_expected\n",
    "\n",
    "\n",
    "def add_order(bids, asks, order_id, price, volume, side, trades, aggressive_orders_expected, passive_orders_expected, delete_order_ids):\n",
    "    if side == 0:  # Buy order\n",
    "        if asks:\n",
    "            best_ask_price = min(asks.keys())\n",
    "            if price >= best_ask_price:\n",
    "                remaining_volume = match_order(\n",
    "                    order_id, price, volume, side, asks, trades, aggressive_orders_expected, passive_orders_expected\n",
    "                )\n",
    "                if remaining_volume > 0:\n",
    "                    if order_id in delete_order_ids:\n",
    "                        \"\"\"\n",
    "                        This is a FAK - they have done ADD then DELETE\n",
    "                        \"\"\"\n",
    "                        pass\n",
    "                    else:\n",
    "                        insert_order(bids, order_id, price, remaining_volume, side)\n",
    "            else:\n",
    "                insert_order(bids, order_id, price, volume, side)\n",
    "        else:\n",
    "            insert_order(bids, order_id, price, volume, side)\n",
    "    else:  # Sell order\n",
    "        if bids:\n",
    "            best_bid_price = max(bids.keys())\n",
    "            if price <= best_bid_price:\n",
    "                remaining_volume = match_order(\n",
    "                    order_id, price, volume, side, bids, trades, aggressive_orders_expected, passive_orders_expected\n",
    "                )\n",
    "                if remaining_volume > 0:\n",
    "                    if order_id in delete_order_ids:\n",
    "                        \"\"\"\n",
    "                        This is a FAK - they have done ADD then DELETE\n",
    "                        \"\"\"\n",
    "                        pass\n",
    "                    else:\n",
    "                        insert_order(asks, order_id, price, remaining_volume, side)\n",
    "            else:\n",
    "                insert_order(asks, order_id, price, volume, side)\n",
    "        else:\n",
    "            insert_order(asks, order_id, price, volume, side)\n",
    "\n",
    "\n",
    "def insert_order(book, order_id, price, volume, side):\n",
    "    order = {'order_id': order_id, 'price': price, 'volume': volume, 'side': side}\n",
    "    book[price].append(order)\n",
    "\n",
    "\n",
    "def match_order(active_order_id, active_price, active_volume, active_side, opposite_book, trades, aggressive_orders_expected, passive_orders_expected):\n",
    "    remaining_volume = active_volume\n",
    "    prices = list(opposite_book.keys())\n",
    "    \n",
    "    if active_side == 0:  \n",
    "        prices.sort()\n",
    "    else:  \n",
    "        prices.sort(reverse=True)\n",
    "    \n",
    "    for price in prices:\n",
    "        if (active_side == 0 and active_price < price) or (active_side == 1 and active_price > price):\n",
    "            break\n",
    "\n",
    "        while opposite_book[price] and remaining_volume > 0:\n",
    "            resting_order = opposite_book[price][0] \n",
    "            trade_volume = min(remaining_volume, resting_order['volume'])\n",
    "            \"\"\"\n",
    "            Passive order - do we expect a MODIFY or DELETE\n",
    "            \"\"\"\n",
    "            if trade_volume < resting_order['volume']:\n",
    "                passive_orders_expected.setdefault(resting_order['order_id'], []).append(\n",
    "                    (resting_order['order_id'], resting_order['volume'] - trade_volume, \"Modify\", active_order_id)\n",
    "                )\n",
    "            else:\n",
    "                passive_orders_expected.setdefault(resting_order['order_id'], []).append(\n",
    "                    (resting_order['order_id'], 0, \"Delete\", active_order_id)\n",
    "                )\n",
    "            \n",
    "            \"\"\"\n",
    "            Aggressive order - do we expect a MODIFY or DELETE\n",
    "            \"\"\"\n",
    "            if trade_volume < remaining_volume:\n",
    "                aggressive_orders_expected.setdefault(active_order_id, []).append(\n",
    "                    (active_order_id, remaining_volume - trade_volume, \"Modify\", resting_order['order_id'])\n",
    "                )\n",
    "            else:\n",
    "                aggressive_orders_expected.setdefault(active_order_id, []).append(\n",
    "                    (active_order_id, 0, \"Delete\", resting_order['order_id'])\n",
    "                )\n",
    "        \n",
    "            trade = {\n",
    "                'passive_order_id': resting_order['order_id'],\n",
    "                'aggressive_order_id': active_order_id,\n",
    "                'volume_before': resting_order['volume'],\n",
    "                'volume_after': resting_order['volume'] - trade_volume\n",
    "            }\n",
    "            trades.append(trade)\n",
    "\n",
    "            remaining_volume -= trade_volume\n",
    "            updated_volume = resting_order['volume'] - trade_volume\n",
    "\n",
    "            if updated_volume == 0:\n",
    "                opposite_book[price].popleft()\n",
    "            else:\n",
    "                opposite_book[price][0]['volume'] = updated_volume\n",
    "\n",
    "        if not opposite_book[price]:\n",
    "            del opposite_book[price]\n",
    "\n",
    "        if remaining_volume == 0:\n",
    "            break\n",
    "\n",
    "    return remaining_volume\n",
    "\n",
    "def modify_order(bids, asks, order_id, new_volume, ignored_requests, msg, aggressive_orders_expected, passive_orders_expected):\n",
    "    \"\"\"\n",
    "    If the modify is for an AGGRESSIVE ORDER\n",
    "        a) Check that the orderIf exists in aggressive_order \n",
    "            -- If it DOESNT ... do the passive order check\n",
    "            -- If it DOES ... this is the modify following an aggressor ADD\n",
    "\n",
    "    If the modify is for a PASSIVE ORDER:\n",
    "        a)  Check that the orderId exists in passive_expected\n",
    "            -- If it DOESNT ... this is genuinge modify\n",
    "            -- If it DOES ... we check if we can find the exact object:\n",
    "                b) if we can ... this is related to trade\n",
    "                        -- check if this is the LAST message -- if it is ... then it should have end_ = True\n",
    "                        -- if not the last message ... end_ = False\n",
    "                -- if we cannot ... this is genuinge modify \n",
    "    \"\"\"\n",
    "    if order_id in aggressive_orders_expected:\n",
    "        record_ignored_request(ignored_requests, msg, change_reason=4, last_message=False, agg_id = None) # Genuine modify for aggressor\n",
    "\n",
    "    elif order_id in passive_orders_expected:\n",
    "        full_match_list = passive_orders_expected[order_id]\n",
    "        potential_matches = [x for x in full_match_list if (x[1] == new_volume and x[2] == \"Modify\")]\n",
    "        if len(potential_matches) > 0:\n",
    "            last_message = passive_orders_expected[order_id].index(potential_matches[0]) == len(passive_orders_expected[order_id])-1\n",
    "            aggressor = potential_matches[0][-1]\n",
    "            record_ignored_request(ignored_requests, msg, change_reason=3, last_message=last_message, agg_id=aggressor)\n",
    "        else:\n",
    "            record_ignored_request(ignored_requests, msg, change_reason=2, last_message=True, agg_id=None) # Genuine modify \n",
    "            search_and_modify_order(bids, order_id, new_volume, ignored_requests, msg)\n",
    "            search_and_modify_order(asks, order_id, new_volume, ignored_requests, msg)\n",
    "    else:\n",
    "        record_ignored_request(ignored_requests, msg, change_reason=2, last_message=True, agg_id=None) # Genuine modify \n",
    "        search_and_modify_order(bids, order_id, new_volume, ignored_requests, msg)\n",
    "        search_and_modify_order(asks, order_id, new_volume, ignored_requests, msg)\n",
    "\n",
    "\n",
    "def search_and_modify_order(book, order_id, new_volume, ignored_requests, msg):\n",
    "    for price in book:\n",
    "        level_orders = book[price]\n",
    "        for order in level_orders:\n",
    "            if order['order_id'] == order_id:\n",
    "                if new_volume >= order['volume']:\n",
    "                    return True\n",
    "                else:\n",
    "                    order['volume'] = new_volume\n",
    "                    return True\n",
    "    return False\n",
    "\n",
    "def delete_order(bids, asks, order_id, ignored_requests, msg, aggressive_orders_expected, passive_orders_expected):\n",
    "    \"\"\"\n",
    "    If the delete is for an AGGRESSIVE ORDER\n",
    "        a) Check that the orderIf exists in aggressive_order \n",
    "            -- If it DOESNT ... do the passive order check\n",
    "            -- If it DOES ... this is a delete following an ADD\n",
    "\n",
    "    If the modify is for a PASSIVE ORDER:\n",
    "        a)  Check that the orderId exists in passive_expected\n",
    "            -- If it DOESNT ... this is genuinge modify\n",
    "            -- If it DOES ... we check if we can find the exact object:\n",
    "                b) if we can ... this is related to trade\n",
    "                        -- check if this is the LAST message -- if it is ... then it should have end_ = True\n",
    "                        -- if not the last message ... end_ = False\n",
    "                -- if we cannot ... this is genuinge modify \n",
    "    \"\"\"\n",
    "    if order_id in aggressive_orders_expected:\n",
    "        record_ignored_request(ignored_requests, msg, change_reason=4, last_message=False, agg_id = None)   # Genuine delete for competitor. \n",
    "    elif order_id in passive_orders_expected:\n",
    "        potential_matches = [x for x in passive_orders_expected[order_id] if (x[1] == 0 and x[2] == \"Delete\")]\n",
    "        if len(potential_matches) > 0:\n",
    "            last_message = passive_orders_expected[order_id].index(potential_matches[0]) == len(passive_orders_expected[order_id])-1\n",
    "            aggressor = potential_matches[0][-1]\n",
    "            record_ignored_request(ignored_requests, msg, change_reason=3, last_message=last_message, agg_id=aggressor)\n",
    "        else:\n",
    "            record_ignored_request(ignored_requests, msg, change_reason=1, last_message=True, agg_id=None) # Genuine Delete \n",
    "            search_and_delete_order(asks, order_id)\n",
    "            search_and_delete_order(bids, order_id)\n",
    "    else:\n",
    "        record_ignored_request(ignored_requests, msg, change_reason=1, last_message=True, agg_id=None) # Genuine Delete \n",
    "        search_and_delete_order(asks, order_id)\n",
    "        search_and_delete_order(bids, order_id)\n",
    "\n",
    "\n",
    "def search_and_delete_order(book, order_id):\n",
    "    for price in list(book.keys()):\n",
    "        level_orders = book[price]\n",
    "        for i in range(len(level_orders)):\n",
    "            if level_orders[i]['order_id'] == order_id:\n",
    "                del level_orders[i]\n",
    "                if not level_orders:\n",
    "                    del book[price]\n",
    "                return True\n",
    "    return False\n",
    "\n",
    "def record_ignored_request(ignored_requests, msg, change_reason, last_message, agg_id):\n",
    "    ignored_request = {\n",
    "        'sequence' : msg['sequence'],\n",
    "        'operation': msg['operation_code'],\n",
    "        'order_id': msg['order_id'],\n",
    "        'price': msg['price'],\n",
    "        'volume': msg['volume'],\n",
    "        'side': msg['side'],\n",
    "        'changeReason': change_reason,\n",
    "        'aggressorId':agg_id,\n",
    "        'end':last_message\n",
    "    }\n",
    "    ignored_requests.append(ignored_request)\n"
   ]
  },
  {
   "cell_type": "code",
   "execution_count": 0,
   "metadata": {
    "application/vnd.databricks.v1+cell": {
     "cellMetadata": {
      "byteLimit": 2048000,
      "rowLimit": 10000
     },
     "inputWidgets": {},
     "nuid": "633d347d-4e72-4618-a570-7ce6819d3676",
     "showTitle": false,
     "title": ""
    }
   },
   "outputs": [],
   "source": [
    "def prepare_messages(df):\n",
    "    operation_mapping = {'Add': 0, 'Modify': 1, 'Delete': 2}\n",
    "    side_mapping = {'B': 0, 'A': 1}\n",
    "    df['operation_code'] = df['operation'].map(operation_mapping)\n",
    "    df['side'] = df['side'].map(side_mapping)\n",
    "    required_columns = ['sequence', 'operation_code', 'order_id', 'price', 'volume', 'side']\n",
    "    for col in required_columns:\n",
    "        if col not in df.columns:\n",
    "            raise ValueError(f\"Column '{col}' is missing from the DataFrame.\")\n",
    "\n",
    "    message_dtype = np.dtype([\n",
    "        ('sequence', np.int64),\n",
    "        ('operation_code', np.int8),\n",
    "        ('order_id', np.int64),\n",
    "        ('price', np.float64),\n",
    "        ('volume', np.float64),\n",
    "        ('side', np.int8),\n",
    "    ])\n",
    "\n",
    "    data = df[required_columns].to_records(index=False)\n",
    "    messages_array = np.array(data, dtype=message_dtype)\n",
    "\n",
    "    return messages_array\n"
   ]
  },
  {
   "cell_type": "code",
   "execution_count": 0,
   "metadata": {
    "application/vnd.databricks.v1+cell": {
     "cellMetadata": {
      "byteLimit": 2048000,
      "rowLimit": 10000
     },
     "inputWidgets": {},
     "nuid": "9eb461e8-186d-4f16-91cb-7accdace78e8",
     "showTitle": false,
     "title": ""
    }
   },
   "outputs": [],
   "source": [
    "from concurrent.futures import ProcessPoolExecutor, as_completed\n",
    "import pandas as pd\n",
    "import numpy as np\n",
    "import os\n",
    "\n",
    "def process_change_reason(orderBook, trades, ignored_requests):\n",
    "    change_reason_map = {item['sequence']: item['changeReason'] for item in ignored_requests}\n",
    "    sequence_to_aggressorId = {item[\"sequence\"]:item[\"aggressorId\"] for item in ignored_requests}\n",
    "    sequence_to_end = {item[\"sequence\"]:item[\"end\"] for item in ignored_requests}\n",
    "    orderBook[\"end_\"] = orderBook[\"sequence\"].map(sequence_to_end).fillna(True)\n",
    "    orderBook[\"aggressorId_\"] = orderBook[\"sequence\"].map(sequence_to_aggressorId)\n",
    "    orderBook[\"changeReason_traded\"] = orderBook[\"sequence\"].map(change_reason_map).fillna(0).astype(int)\n",
    "    try:\n",
    "        orderBook[\"changeReason_\"] = np.where(\n",
    "            orderBook[\"changeReason_traded\"] == 0, \n",
    "            orderBook[\"changeReason_\"], \n",
    "            orderBook[\"changeReason_traded\"]\n",
    "        )\n",
    "    except ValueError as e:\n",
    "        print(f\"Broadcasting error in np.where for 'changeReason_': {e}\")\n",
    "        print(f\"Shapes: changeReason_traded: {orderBook['changeReason_traded'].shape}, changeReason_: {orderBook['changeReason_'].shape}\")\n",
    "        raise\n",
    "\n",
    "    mask = orderBook[\"changeReason_\"] == 4\n",
    "    subset = orderBook[mask].copy()\n",
    "    grouped = subset.groupby('order_id')\n",
    "    orders_with_delete = grouped.apply(lambda g: 'Delete' in g['operation'].values)\n",
    "    orders_with_delete = orders_with_delete[orders_with_delete].index.tolist()\n",
    "    orders_without_delete = grouped.apply(lambda g: 'Delete' not in g['operation'].values).index.tolist()\n",
    "\n",
    "    if orders_with_delete:\n",
    "        \"\"\"\n",
    "        Delete operations related to aggressive order. \n",
    "        \"\"\"\n",
    "        delete_mask = (orderBook['changeReason_'] == 4) & \\\n",
    "                      (orderBook['operation'] == 'Delete') & \\\n",
    "                      (orderBook['order_id'].isin(orders_with_delete))\n",
    "        orderBook.loc[delete_mask, 'end_'] = True\n",
    "        remove_mask_with_delete = (mask) & \\\n",
    "                                   (orderBook['order_id'].isin(orders_with_delete)) & \\\n",
    "                                   (~delete_mask)\n",
    "        orderBook = orderBook[~remove_mask_with_delete]\n",
    "    \n",
    "    if orders_without_delete:\n",
    "        isin_orders_without_delete = orderBook['order_id'].isin(orders_without_delete)\n",
    "        subset = orderBook.loc[mask & isin_orders_without_delete]\n",
    "        \"\"\"\n",
    "        Orders without delete operations. Here we find the LAST MODIFY associated w/ the delete and remove all other useless shit. \n",
    "        \"\"\"\n",
    "        subset_sorted = subset.sort_values(['order_id', 'sequence', 't0', 'omd_send_ts'], ascending=[True, True, True, True])\n",
    "        last_modifies = subset_sorted.groupby('order_id').tail(1)\n",
    "        \n",
    "        last_modify_indices = last_modifies.index.tolist()\n",
    "        orderBook.loc[last_modify_indices, 'end_'] = True\n",
    "\n",
    "        remove_mask_without_delete = (orderBook[\"changeReason_\"]==4) & (orderBook['order_id'].isin(orders_without_delete)) & (~orderBook.index.isin(last_modify_indices))\n",
    "        orderBook = orderBook[~remove_mask_without_delete]\n",
    "    \n",
    "    try:\n",
    "        condition = orderBook[\"changeReason_\"] == 4\n",
    "        orderBook.loc[condition & (orderBook[\"operation\"] == \"Delete\"), \"changeReason_\"] = 1\n",
    "        orderBook.loc[condition & (orderBook[\"operation\"] != \"Delete\"), \"changeReason_\"] = 2\n",
    "    except ValueError as e:\n",
    "        print(f\"Broadcasting error while updating 'changeReason_': {e}\")\n",
    "        print(f\"Shapes: changeReason_: {orderBook['changeReason_'].shape}, operation: {orderBook['operation'].shape}\")\n",
    "        raise\n",
    "\n",
    "    orderBook=orderBook.sort_values(\"sequence\").reset_index(drop = True)\n",
    "    \n",
    "    return orderBook\n",
    "\n",
    "def _process_feedcode(feedcode, OB_subset):\n",
    "    \"\"\"\n",
    "    Helper function to process a single feedcode subset.\n",
    "    \"\"\"\n",
    "    OB_subset[\"changeReason_\"] = np.where(\n",
    "        OB_subset[\"operation\"] == \"Add\", 0,\n",
    "        np.where(\n",
    "            OB_subset[\"operation\"] == \"Modify\", 2, \n",
    "            np.where(OB_subset[\"operation\"] == \"Delete\", 1, np.nan)\n",
    "        )\n",
    "    )\n",
    "    \n",
    "    OB_subset = OB_subset.sort_values([\"sequence\", \"eeid_event_id\"]).reset_index(drop=True)\n",
    "\n",
    "    delete_order_ids = OB_subset[OB_subset[\"operation\"] == \"Delete\"][\"order_id\"].values\n",
    "    orderBook_messages = prepare_messages(OB_subset)\n",
    "    trades, ignored_requests, aggressive_orders_expected, passive_orders_expected = process_order_book(orderBook_messages, delete_order_ids)\n",
    "    OB_subset = process_change_reason(OB_subset, trades, ignored_requests)\n",
    "    \n",
    "    return OB_subset, ignored_requests, trades, aggressive_orders_expected, passive_orders_expected\n",
    "\n",
    "def get_process_and_persist_orderbook(feedcodes, date_to_run, path=\"/Workspace/Users/kartikeya.bisht@optiver.com.au/FOBA_create/data/OMDCRaw_{date_to_run}.parquet\"):\n",
    "    selected_columns = [\n",
    "        \"feedcode\", \"order_id\", \"t0\", \"eeid_event_id\", \"operation\", \n",
    "        \"orderbook_id\", \"omd_send_ts\", \"volume\", \"price\", \"sequence\", \"side\"\n",
    "    ]\n",
    "\n",
    "    OB = (\n",
    "        spark.read.parquet(\n",
    "            f\"/Volumes/external/opapac-ess-prd-apse2/hacksaw/sehk/omdc_orderbook/market_session_date={date_to_run}/\"\n",
    "        )\n",
    "        .filter(F.col(\"feedcode\").isin(feedcodes))\n",
    "        .select(*selected_columns)\n",
    "        .toPandas()\n",
    "    )\n",
    "    orderbook_list = []\n",
    "\n",
    "    unique_feedcodes = OB[\"feedcode\"].unique()\n",
    "\n",
    "    max_workers = min(32, os.cpu_count() + 4)  # Example heuristic\n",
    "\n",
    "    ignored = {}\n",
    "    trades_dict = {}\n",
    "    aggressive = {}\n",
    "    passive = {}\n",
    "    with ProcessPoolExecutor(max_workers=max_workers) as executor:\n",
    "        future_to_feedcode = {\n",
    "            executor.submit(_process_feedcode, feedcode, OB[OB[\"feedcode\"] == feedcode].copy()): feedcode\n",
    "            for feedcode in unique_feedcodes\n",
    "        }\n",
    "        for future in as_completed(future_to_feedcode):\n",
    "            feedcode = future_to_feedcode[future]\n",
    "            try:\n",
    "                processed_subset, ignored_requests, trades, aggressive_orders_expected, passive_orders_expected = future.result()\n",
    "                trades_dict[feedcode] = trades\n",
    "                aggressive[feedcode] = aggressive_orders_expected\n",
    "                passive[feedcode] = passive_orders_expected\n",
    "                ignored[feedcode] = ignored_requests\n",
    "                orderbook_list.append(processed_subset)\n",
    "            except Exception as exc:\n",
    "                print(f'Feedcode {feedcode} generated an exception: {exc}')\n",
    "\n",
    "    orderBook = pd.concat(orderbook_list, ignore_index=True)\n",
    "    operations_map = {\n",
    "        \"Add\": 0,\n",
    "        \"Modify\": 1,\n",
    "        \"Delete\": 2,\n",
    "        \"Clear\": 3,\n",
    "    }\n",
    "    orderBook = orderBook.rename(columns={\n",
    "        \"feedcode\": \"securityCode_\",\n",
    "        \"order_id\": \"orderId_\",\n",
    "        \"t0\": \"received_\",\n",
    "        \"omd_send_ts\": \"timestampNanos_\",\n",
    "        \"sequence\": \"sequenceNumber_\",\n",
    "        \"volume\": \"volume_\",\n",
    "        \"price\": \"price_\",\n",
    "    })\n",
    "    orderBook[\"aggressorOrderId_\"] = np.nan\n",
    "    orderBook[\"createdNanos_\"] = orderBook[\"received_\"]\n",
    "    orderBook[\"side\"] = orderBook[\"side\"].map({0:\"B\", 1:\"S\"})\n",
    "    orderBook[\"side_\"] = orderBook[\"side\"].apply(lambda x: ord(x))\n",
    "    orderBook[\"class_\"] = orderBook[\"operation\"].map(operations_map)\n",
    "\n",
    "    final_path = path.format(date_to_run=date_to_run)\n",
    "    os.makedirs(os.path.dirname(final_path), exist_ok=True)\n",
    "    orderBook.to_parquet(final_path, index=False)\n",
    "\n",
    "    return final_path, orderBook, ignored, trades, aggressive_orders_expected, passive_orders_expected"
   ]
  },
  {
   "cell_type": "markdown",
   "metadata": {
    "application/vnd.databricks.v1+cell": {
     "cellMetadata": {},
     "inputWidgets": {},
     "nuid": "afe90bd7-9c2a-4381-bad7-0751ff9068eb",
     "showTitle": false,
     "title": ""
    }
   },
   "source": [
    "##### **Get raw data & store**\n",
    "1) order_insert\n",
    "2) delete_operation_path\n",
    "3) private_trade_path\n",
    "4) private_feed_confirm (w/ counterparty)\n",
    "5) OMDC conflated-broker-queue\n",
    "6) OMDC_orderbook (add, modify, deletes)"
   ]
  },
  {
   "cell_type": "code",
   "execution_count": 0,
   "metadata": {
    "application/vnd.databricks.v1+cell": {
     "cellMetadata": {
      "byteLimit": 2048000,
      "rowLimit": 10000
     },
     "inputWidgets": {},
     "nuid": "71f7a541-0884-43dd-ac2d-6895c3006ea4",
     "showTitle": false,
     "title": ""
    }
   },
   "outputs": [],
   "source": [
    "with open(\"/Workspace/Users/kartikeya.bisht@optiver.com.au/universe.json\", \"r\") as file:\n",
    "    universe = json.load(file)\n",
    "\n",
    "feedcodes =sorted([x[5:] for x in universe['all']])\n",
    "\n",
    "date_to_run = dt.datetime.now().date() - dt.timedelta(days = 1)\n",
    "date_to_run = dt.datetime(2024,9,20).date()"
   ]
  },
  {
   "cell_type": "code",
   "execution_count": 0,
   "metadata": {
    "application/vnd.databricks.v1+cell": {
     "cellMetadata": {
      "byteLimit": 2048000,
      "rowLimit": 10000
     },
     "inputWidgets": {},
     "nuid": "891fba04-07b2-43f3-865a-1021de3eed95",
     "showTitle": false,
     "title": ""
    }
   },
   "outputs": [
    {
     "output_type": "stream",
     "name": "stdout",
     "output_type": "stream",
     "text": [
      "RUNNING FOBA CREATE for 2024-09-20 for 148 symbols in HK-CASH universe\n"
     ]
    }
   ],
   "source": [
    "print(f\"RUNNING FOBA CREATE for {date_to_run.isoformat()} for {len(feedcodes)} symbols in HK-CASH universe\")"
   ]
  },
  {
   "cell_type": "code",
   "execution_count": 0,
   "metadata": {
    "application/vnd.databricks.v1+cell": {
     "cellMetadata": {
      "byteLimit": 2048000,
      "rowLimit": 10000
     },
     "inputWidgets": {},
     "nuid": "e63d18d1-d6fd-4b6f-818c-65fc2735bd35",
     "showTitle": false,
     "title": ""
    }
   },
   "outputs": [],
   "source": [
    "raw_data_paths = {}"
   ]
  },
  {
   "cell_type": "code",
   "execution_count": 0,
   "metadata": {
    "application/vnd.databricks.v1+cell": {
     "cellMetadata": {
      "byteLimit": 2048000,
      "rowLimit": 10000
     },
     "inputWidgets": {},
     "nuid": "5ea4e023-450b-4c06-83d8-0d53eb7a91b6",
     "showTitle": false,
     "title": ""
    }
   },
   "outputs": [],
   "source": [
    "data_base_mapping = {\n",
    "    \"order_insert_path\":\"order_insert\",\n",
    "    \"delete_operation_path\":\"delete_operation\",\n",
    "    \"private_trade_path\":\"private_trade\",\n",
    "    \"private_feed_path\":\"xhkg_sst_trade\"\n",
    "}"
   ]
  },
  {
   "cell_type": "code",
   "execution_count": 0,
   "metadata": {
    "application/vnd.databricks.v1+cell": {
     "cellMetadata": {
      "byteLimit": 2048000,
      "rowLimit": 10000
     },
     "inputWidgets": {},
     "nuid": "620fcdb5-ac32-4620-81e9-f52b6dd11c33",
     "showTitle": false,
     "title": ""
    }
   },
   "outputs": [
    {
     "output_type": "stream",
     "name": "stdout",
     "output_type": "stream",
     "text": [
      "Finished order_insert_path\nFinished delete_operation_path\nFinished private_trade_path\nFinished private_feed_path\n"
     ]
    }
   ],
   "source": [
    "generic_path = \"/Workspace/Users/kartikeya.bisht@optiver.com.au/FOBA_create/data/{key}_{date_to_run}.parquet\"\n",
    "\n",
    "for key, value in data_base_mapping.items():\n",
    "    raw_data_paths[key] = generic_path.format(key=key, date_to_run=date_to_run)\n",
    "    if key != \"private_feed_path\":\n",
    "        get_sql_file(feedcodes, date_to_run, path=raw_data_paths[key], database=value)\n",
    "    else:\n",
    "        get_private_feed_confirms(feedcodes, date_to_run, path=raw_data_paths[key], database=value)\n",
    "    \n",
    "    print(f\"Finished {key}\")"
   ]
  },
  {
   "cell_type": "code",
   "execution_count": 0,
   "metadata": {
    "application/vnd.databricks.v1+cell": {
     "cellMetadata": {
      "byteLimit": 2048000,
      "rowLimit": 10000
     },
     "inputWidgets": {},
     "nuid": "5e1fdb34-0f73-4010-bd99-4efc905fa8d7",
     "showTitle": false,
     "title": ""
    }
   },
   "outputs": [],
   "source": [
    "final_CBQ_path = get_and_persist_omdc(feedcodes, date_to_run)\n",
    "raw_data_paths[\"conflated_broker_queue_path\"] = final_CBQ_path"
   ]
  },
  {
   "cell_type": "code",
   "execution_count": 0,
   "metadata": {
    "application/vnd.databricks.v1+cell": {
     "cellMetadata": {
      "byteLimit": 2048000,
      "rowLimit": 10000
     },
     "inputWidgets": {},
     "nuid": "d4d9f78c-d449-4882-a3ce-cad91ced6ebf",
     "showTitle": false,
     "title": ""
    }
   },
   "outputs": [],
   "source": [
    "final_OMDC_path, orderBook, ignored_requests, trades, aggressive, passive = get_process_and_persist_orderbook(feedcodes, date_to_run)\n",
    "raw_data_paths[\"order_book_path\"] = final_OMDC_path"
   ]
  },
  {
   "cell_type": "code",
   "execution_count": 0,
   "metadata": {
    "application/vnd.databricks.v1+cell": {
     "cellMetadata": {
      "byteLimit": 2048000,
      "rowLimit": 10000
     },
     "inputWidgets": {},
     "nuid": "b3287cfc-5b39-4059-a168-98976f37d291",
     "showTitle": false,
     "title": ""
    }
   },
   "outputs": [],
   "source": [
    "config  = {\n",
    "    **raw_data_paths,\n",
    "    \"fee_info_path\":\"/Workspace/Users/kartikeya.bisht@optiver.com.au/FOBA_create/FeeInfo.feather\",\n",
    "    \"tick_schedule_path\" : \"/Workspace/Users/kartikeya.bisht@optiver.com.au/FOBA_create/TickSchedule.feather\",\n",
    "    \"fee_schedule_path\" : \"/Workspace/Users/kartikeya.bisht@optiver.com.au/FOBA_create/FeeSchedule.feather\"\n",
    "}"
   ]
  },
  {
   "cell_type": "code",
   "execution_count": 0,
   "metadata": {
    "application/vnd.databricks.v1+cell": {
     "cellMetadata": {
      "byteLimit": 2048000,
      "rowLimit": 10000
     },
     "inputWidgets": {},
     "nuid": "92209da5-babe-424c-b34c-76eb5323974f",
     "showTitle": false,
     "title": ""
    }
   },
   "outputs": [
    {
     "output_type": "stream",
     "name": "stderr",
     "output_type": "stream",
     "text": [
      "/local_disk0/.ephemeral_nfs/envs/pythonEnv-4d67cdef-1061-4f7d-8df9-461e67264600/lib/python3.11/site-packages/numba/np/ufunc/parallel.py:371: NumbaWarning: The TBB threading layer requires TBB version 2021 update 6 or later i.e., TBB_INTERFACE_VERSION >= 12060. Found TBB_INTERFACE_VERSION = 12050. The TBB threading layer is disabled.\n  warnings.warn(problem)\n"
     ]
    }
   ],
   "source": [
    "import foba_backtest_engine.engine as FOBA\n",
    "from importlib import reload\n",
    "FOBA = reload(FOBA)"
   ]
  },
  {
   "cell_type": "code",
   "execution_count": 0,
   "metadata": {
    "application/vnd.databricks.v1+cell": {
     "cellMetadata": {
      "byteLimit": 2048000,
      "rowLimit": 10000
     },
     "inputWidgets": {},
     "nuid": "4c2f0535-9bc9-4456-ba79-67c8329eafa6",
     "showTitle": false,
     "title": ""
    }
   },
   "outputs": [],
   "source": [
    "def run_foba_analysis(\n",
    "    date,\n",
    "    mode=\"passive_analysis\",\n",
    "    book_ids=[],\n",
    "    config=None,\n",
    "    result_type=\"dataframe\", \n",
    "):\n",
    "    if book_ids is None:\n",
    "        raise ValueError(\"need to provide symbols\")\n",
    "    if isinstance(book_ids, str):\n",
    "        book_ids = [book_ids]\n",
    "\n",
    "    engine = FOBA.Engine(\n",
    "        mode=mode,\n",
    "        book_ids=book_ids,\n",
    "        date=date,\n",
    "        config=config,\n",
    "        result_type=result_type\n",
    "    )\n",
    "    engine.run()\n",
    "    \n",
    "    return engine"
   ]
  },
  {
   "cell_type": "code",
   "execution_count": 0,
   "metadata": {
    "application/vnd.databricks.v1+cell": {
     "cellMetadata": {
      "byteLimit": 2048000,
      "rowLimit": 10000
     },
     "inputWidgets": {},
     "nuid": "93a60a62-71b8-456f-a8ab-33ecacc3139b",
     "showTitle": false,
     "title": ""
    }
   },
   "outputs": [
    {
     "output_type": "execute_result",
     "data": {
      "text/plain": [
       "{'order_insert_path': '/Workspace/Users/kartikeya.bisht@optiver.com.au/FOBA_create/data/order_insert_path_2024-09-20.parquet',\n",
       " 'delete_operation_path': '/Workspace/Users/kartikeya.bisht@optiver.com.au/FOBA_create/data/delete_operation_path_2024-09-20.parquet',\n",
       " 'private_trade_path': '/Workspace/Users/kartikeya.bisht@optiver.com.au/FOBA_create/data/private_trade_path_2024-09-20.parquet',\n",
       " 'private_feed_path': '/Workspace/Users/kartikeya.bisht@optiver.com.au/FOBA_create/data/private_feed_path_2024-09-20.parquet',\n",
       " 'conflated_broker_queue_path': '/Workspace/Users/kartikeya.bisht@optiver.com.au/FOBA_create/data/ConflatedBrokerQueue_2024-09-20.parquet',\n",
       " 'order_book_path': '/Workspace/Users/kartikeya.bisht@optiver.com.au/FOBA_create/data/OMDCRaw_2024-09-20.parquet',\n",
       " 'fee_info_path': '/Workspace/Users/kartikeya.bisht@optiver.com.au/FOBA_create/FeeInfo.feather',\n",
       " 'tick_schedule_path': '/Workspace/Users/kartikeya.bisht@optiver.com.au/FOBA_create/TickSchedule.feather',\n",
       " 'fee_schedule_path': '/Workspace/Users/kartikeya.bisht@optiver.com.au/FOBA_create/FeeSchedule.feather'}"
      ]
     },
     "execution_count": 52,
     "metadata": {},
     "output_type": "execute_result"
    }
   ],
   "source": [
    "config"
   ]
  },
  {
   "cell_type": "code",
   "execution_count": 0,
   "metadata": {
    "application/vnd.databricks.v1+cell": {
     "cellMetadata": {
      "byteLimit": 2048000,
      "rowLimit": 10000
     },
     "inputWidgets": {},
     "nuid": "8252095e-4883-4707-a183-4f505e352473",
     "showTitle": false,
     "title": ""
    }
   },
   "outputs": [],
   "source": [
    "# config = {'order_insert_path': '/Workspace/Users/kartikeya.bisht@optiver.com.au/FOBA_create/data/order_insert_path_2024-09-20.parquet',\n",
    "#  'delete_operation_path': '/Workspace/Users/kartikeya.bisht@optiver.com.au/FOBA_create/data/delete_operation_path_2024-09-20.parquet',\n",
    "#  'private_trade_path': '/Workspace/Users/kartikeya.bisht@optiver.com.au/FOBA_create/data/private_trade_path_2024-09-20.parquet',\n",
    "#  'private_feed_path': '/Workspace/Users/kartikeya.bisht@optiver.com.au/FOBA_create/data/private_feed_path_2024-09-20.parquet',\n",
    "#  'conflated_broker_queue_path': '/Workspace/Users/kartikeya.bisht@optiver.com.au/FOBA_create/data/ConflatedBrokerQueue_2024-09-20.parquet',\n",
    "#  'order_book_path': '/Workspace/Users/kartikeya.bisht@optiver.com.au/FOBA_create/data/OMDCRaw_2024-09-20.parquet',\n",
    "#  'fee_info_path': '/Workspace/Users/kartikeya.bisht@optiver.com.au/FOBA_create/FeeInfo.feather',\n",
    "#  'tick_schedule_path': '/Workspace/Users/kartikeya.bisht@optiver.com.au/FOBA_create/TickSchedule.feather',\n",
    "#  'fee_schedule_path': '/Workspace/Users/kartikeya.bisht@optiver.com.au/FOBA_create/FeeSchedule.feather'}"
   ]
  },
  {
   "cell_type": "code",
   "execution_count": 0,
   "metadata": {
    "application/vnd.databricks.v1+cell": {
     "cellMetadata": {
      "byteLimit": 2048000,
      "rowLimit": 10000
     },
     "inputWidgets": {},
     "nuid": "1b188fc5-a0e3-4591-90bd-8f324d496f4c",
     "showTitle": false,
     "title": ""
    }
   },
   "outputs": [
    {
     "output_type": "stream",
     "name": "stderr",
     "output_type": "stream",
     "text": [
      "2024-10-25 06:56:41,734 - foba_backtest_engine.engine - DEBUG - Passive Analysis Mode: Started\n2024-10-25 06:56:41,737 - foba_backtest_engine.enrichment - DEBUG - Running processor: order_numbers_filtered\n2024-10-25 06:56:42,830 - foba_backtest_engine.enrichment - DEBUG - order_numbers_filtered produced 174 results\n2024-10-25 06:56:42,830 - foba_backtest_engine.enrichment - DEBUG - Running processor: pybuilders\n2024-10-25 06:56:48,672 - foba_backtest_engine.components.order_book.builders.multi_book_builder - DEBUG - build_books using OmdcBookBuilder: Started\n2024-10-25 06:56:48,673 - foba_backtest_engine.components.order_book.builders.multi_book_builder - DEBUG - build_books using OmdcBookBuilder: Timerange - 2024-09-20 06:00:00-2024-09-20 16:01:00\n2024-10-25 06:56:48,673 - foba_backtest_engine.components.order_book.builders.multi_book_builder - DEBUG - build_books using OmdcBookBuilder: feed_update_count - 74994\n2024-10-25 06:56:54,339 - foba_backtest_engine.components.order_book.builders.multi_book_builder - DEBUG - build_books using OmdcBookBuilder: Percent Complete - 0.1\n2024-10-25 06:57:00,906 - foba_backtest_engine.components.order_book.builders.multi_book_builder - DEBUG - build_books using OmdcBookBuilder: Percent Complete - 0.2\n2024-10-25 06:57:07,357 - foba_backtest_engine.components.order_book.builders.multi_book_builder - DEBUG - build_books using OmdcBookBuilder: Percent Complete - 0.3\n2024-10-25 06:57:15,379 - foba_backtest_engine.components.order_book.builders.multi_book_builder - DEBUG - build_books using OmdcBookBuilder: Percent Complete - 0.4\n2024-10-25 06:57:23,061 - foba_backtest_engine.components.order_book.builders.multi_book_builder - DEBUG - build_books using OmdcBookBuilder: Percent Complete - 0.5\n2024-10-25 06:57:31,171 - foba_backtest_engine.components.order_book.builders.multi_book_builder - DEBUG - build_books using OmdcBookBuilder: Percent Complete - 0.6\n2024-10-25 06:57:41,041 - foba_backtest_engine.components.order_book.builders.multi_book_builder - DEBUG - build_books using OmdcBookBuilder: Percent Complete - 0.7\n2024-10-25 06:57:51,321 - foba_backtest_engine.components.order_book.builders.multi_book_builder - DEBUG - build_books using OmdcBookBuilder: Percent Complete - 0.8\n2024-10-25 06:58:00,103 - foba_backtest_engine.components.order_book.builders.multi_book_builder - DEBUG - build_books using OmdcBookBuilder: Percent Complete - 0.9\n2024-10-25 06:58:11,890 - foba_backtest_engine.components.order_book.builders.multi_book_builder - DEBUG - build_books using OmdcBookBuilder: Percent Complete - 1.0\n2024-10-25 06:58:11,891 - foba_backtest_engine.components.order_book.builders.multi_book_builder - DEBUG - build_books using OmdcBookBuilder: Completed\n2024-10-25 06:58:11,898 - foba_backtest_engine.enrichment - DEBUG - pybuilders produced 1 results\n2024-10-25 06:58:11,899 - foba_backtest_engine.enrichment - DEBUG - Running processor: extract_foba_events\n2024-10-25 06:58:12,023 - foba_backtest_engine.enrichment - DEBUG - extract_foba_events produced 7978 results\n2024-10-25 06:58:12,024 - foba_backtest_engine.enrichment - DEBUG - Deleting resource from memory: optiver_order_numbers\n2024-10-25 06:58:12,024 - foba_backtest_engine.enrichment - DEBUG - Running processor: static_data_info\n2024-10-25 06:58:12,441 - foba_backtest_engine.enrichment - DEBUG - static_data_info produced 165 results\n2024-10-25 06:58:12,442 - foba_backtest_engine.enrichment - DEBUG - Running processor: static_data_enrichment\n2024-10-25 06:58:12,499 - foba_backtest_engine.enrichment - DEBUG - static_data_enrichment produced 7978 results\n2024-10-25 06:58:12,500 - foba_backtest_engine.enrichment - DEBUG - Deleting resource from memory: static_data_info\n2024-10-25 06:58:12,500 - foba_backtest_engine.enrichment - DEBUG - Running processor: send_times\n2024-10-25 06:58:12,593 - foba_backtest_engine.enrichment - DEBUG - send_times produced 7978 results\n2024-10-25 06:58:12,594 - foba_backtest_engine.enrichment - DEBUG - Running processor: fetch_feed_stats_from_book_builders\n2024-10-25 06:58:12,608 - foba_backtest_engine.enrichment - DEBUG - fetch_feed_stats_from_book_builders produced 74994 results\n2024-10-25 06:58:12,609 - foba_backtest_engine.enrichment - DEBUG - Running processor: annotate_slippages\n2024-10-25 06:58:20,541 - foba_backtest_engine.enrichment - DEBUG - annotate_slippages produced 74994 results\n2024-10-25 06:58:20,541 - foba_backtest_engine.enrichment - DEBUG - Running processor: full_feed_state_enrichment\n2024-10-25 06:58:21,050 - foba_backtest_engine.enrichment - DEBUG - full_feed_state_enrichment produced 7978 results\n2024-10-25 06:58:21,051 - foba_backtest_engine.enrichment - DEBUG - Running processor: feed_states_at_join\n2024-10-25 06:58:21,366 - foba_backtest_engine.enrichment - DEBUG - feed_states_at_join produced 7978 results\n2024-10-25 06:58:21,367 - foba_backtest_engine.enrichment - DEBUG - Deleting resource from memory: foba_slippages\n2024-10-25 06:58:21,387 - foba_backtest_engine.enrichment - DEBUG - Running processor: order_state_creates\n2024-10-25 06:58:22,337 - foba_backtest_engine.enrichment - DEBUG - order_state_creates produced 207 results\n2024-10-25 06:58:22,338 - foba_backtest_engine.enrichment - DEBUG - Running processor: order_matches\n2024-10-25 06:58:22,356 - foba_backtest_engine.enrichment - DEBUG - order_matches produced 7978 results\n2024-10-25 06:58:22,356 - foba_backtest_engine.enrichment - DEBUG - Deleting resource from memory: optiver_order_state_creates\n2024-10-25 06:58:22,359 - foba_backtest_engine.enrichment - DEBUG - Deleting resource from memory: feed_states_at_join\n2024-10-25 06:58:22,359 - foba_backtest_engine.enrichment - DEBUG - Deleting resource from memory: order_matches\n2024-10-25 06:58:22,359 - foba_backtest_engine.enrichment - DEBUG - Running processor: order_deletes\n2024-10-25 06:58:22,483 - foba_backtest_engine.enrichment - DEBUG - order_deletes produced 135 results\n2024-10-25 06:58:22,484 - foba_backtest_engine.enrichment - DEBUG - Running processor: order_delete_matches\n2024-10-25 06:58:22,499 - foba_backtest_engine.enrichment - DEBUG - order_delete_matches produced 7978 results\n2024-10-25 06:58:22,499 - foba_backtest_engine.enrichment - DEBUG - Deleting resource from memory: optiver_order_deletes\n2024-10-25 06:58:22,499 - foba_backtest_engine.enrichment - DEBUG - Running processor: omdc_broker_number_to_name\n2024-10-25 06:58:22,877 - foba_backtest_engine.enrichment - DEBUG - omdc_broker_number_to_name produced 2663 results\n2024-10-25 06:58:22,877 - foba_backtest_engine.enrichment - DEBUG - Running processor: get_optiver_trades\n2024-10-25 06:58:24,108 - foba_backtest_engine.enrichment - DEBUG - get_optiver_trades produced 290 results\n2024-10-25 06:58:24,109 - foba_backtest_engine.enrichment - DEBUG - Running processor: optiver_trade_and_quotes\n2024-10-25 06:58:24,134 - foba_backtest_engine.enrichment - DEBUG - optiver_trade_and_quotes produced 7978 results\n2024-10-25 06:58:24,135 - foba_backtest_engine.enrichment - DEBUG - Deleting resource from memory: order_delete_matches\n2024-10-25 06:58:24,135 - foba_backtest_engine.enrichment - DEBUG - Running processor: category_enrichment\n2024-10-25 06:58:24,146 - foba_backtest_engine.enrichment - DEBUG - category_enrichment produced 7978 results\n2024-10-25 06:58:24,146 - foba_backtest_engine.enrichment - DEBUG - Deleting resource from memory: category_enrichment\n2024-10-25 06:58:24,147 - foba_backtest_engine.enrichment - DEBUG - Running processor: derived_enrichment\n2024-10-25 06:58:24,481 - foba_backtest_engine.enrichment - DEBUG - derived_enrichment produced 7978 results\n2024-10-25 06:58:24,482 - foba_backtest_engine.enrichment - DEBUG - Deleting resource from memory: derived_enrichment\n2024-10-25 06:58:24,482 - foba_backtest_engine.enrichment - DEBUG - Running processor: event_enricher\n2024-10-25 06:58:43,167 - foba_backtest_engine.enrichment - DEBUG - event_enricher produced 7978 results\n2024-10-25 06:58:43,168 - foba_backtest_engine.enrichment - DEBUG - Deleting resource from memory: full_feed_state_enrichment\n2024-10-25 06:58:43,168 - foba_backtest_engine.enrichment - DEBUG - Deleting resource from memory: feed_states\n2024-10-25 06:58:43,170 - foba_backtest_engine.enrichment - DEBUG - Deleting resource from memory: static_data_enrichment\n2024-10-25 06:58:43,170 - foba_backtest_engine.enrichment - DEBUG - Deleting resource from memory: event_enrichment\n2024-10-25 06:58:43,171 - foba_backtest_engine.enrichment - DEBUG - Deleting resource from memory: send_times\n2024-10-25 06:58:43,171 - foba_backtest_engine.enrichment - DEBUG - Running processor: omdc_broker_queue\n2024-10-25 06:59:39,096 - foba_backtest_engine.enrichment - DEBUG - omdc_broker_queue produced 1 results\n2024-10-25 06:59:39,097 - foba_backtest_engine.enrichment - DEBUG - Running processor: omdc_order_number_to_broker_number\n2024-10-25 07:00:21,689 - foba_backtest_engine.enrichment - DEBUG - omdc_order_number_to_broker_number produced 1 results\n2024-10-25 07:00:21,690 - foba_backtest_engine.enrichment - DEBUG - Deleting resource from memory: pybuilders\n2024-10-25 07:00:22,917 - foba_backtest_engine.enrichment - DEBUG - Deleting resource from memory: omdc_broker_queue\n2024-10-25 07:00:23,281 - foba_backtest_engine.enrichment - DEBUG - Running processor: competitor_enrichment\n2024-10-25 07:00:23,347 - foba_backtest_engine.enrichment - DEBUG - competitor_enrichment produced 7978 results\n2024-10-25 07:00:23,347 - foba_backtest_engine.enrichment - DEBUG - Deleting resource from memory: optiver_trades\n2024-10-25 07:00:23,348 - foba_backtest_engine.enrichment - DEBUG - Deleting resource from memory: order_num_to_broker_num\n2024-10-25 07:00:23,348 - foba_backtest_engine.enrichment - DEBUG - Running processor: foreign_counterparty_enrichment\n2024-10-25 07:00:23,369 - foba_backtest_engine.enrichment - DEBUG - foreign_counterparty_enrichment produced 7978 results\n2024-10-25 07:00:23,370 - foba_backtest_engine.enrichment - DEBUG - Deleting resource from memory: optiver_hit_or_quote\n2024-10-25 07:00:23,370 - foba_backtest_engine.enrichment - DEBUG - Deleting resource from memory: broker_number_to_broker_name\n2024-10-25 07:00:23,371 - foba_backtest_engine.enrichment - DEBUG - Deleting resource from memory: aggressive_enrichment\n2024-10-25 07:00:23,371 - foba_backtest_engine.enrichment - DEBUG - Running processor: broker_orders_enrichment\n2024-10-25 07:00:24,235 - foba_backtest_engine.enrichment - DEBUG - broker_orders_enrichment produced 7978 results\n"
     ]
    },
    {
     "output_type": "stream",
     "name": "stdout",
     "output_type": "stream",
     "text": [
      "                                     TimeTaken\npybuilders                           89.068314\nomdc_broker_queue                    55.929159\nomdc_order_number_to_broker_number   42.592908\nevent_enricher                       18.685942\nannotate_slippages                    7.932564\ncompetitor_enrichment                 1.657632\nget_optiver_trades                    1.231650\norder_numbers_filtered                1.093078\norder_state_creates                   0.970626\nbroker_orders_enrichment              0.865629\nfull_feed_state_enrichment            0.509295\nstatic_data_info                      0.418169\nomdc_broker_number_to_name            0.378129\nderived_enrichment                    0.335209\nfeed_states_at_join                   0.316462\norder_deletes                         0.127622\nextract_foba_events                   0.125262\nsend_times                            0.093729\nstatic_data_enrichment                0.057899\noptiver_trade_and_quotes              0.025806\nforeign_counterparty_enrichment       0.022879\norder_matches                         0.018759\nfetch_feed_stats_from_book_builders   0.015141\norder_delete_matches                  0.015030\ncategory_enrichment                   0.011652\n"
     ]
    },
    {
     "output_type": "stream",
     "name": "stderr",
     "output_type": "stream",
     "text": [
      "2024-10-25 07:00:25,010 - foba_backtest_engine.engine - DEBUG - Passive Analysis Mode: Completed\n"
     ]
    }
   ],
   "source": [
    "omdc_foba = run_foba_analysis(\n",
    "    date=dt.datetime.combine(date_to_run, time(0,0)),\n",
    "    mode=\"passive_analysis\",\n",
    "    book_ids=[\"5\"],\n",
    "    config=config\n",
    ")"
   ]
  },
  {
   "cell_type": "code",
   "execution_count": 0,
   "metadata": {
    "application/vnd.databricks.v1+cell": {
     "cellMetadata": {
      "byteLimit": 2048000,
      "rowLimit": 10000
     },
     "inputWidgets": {},
     "nuid": "b84b880f-c4f5-4f3d-996e-644d04c3598e",
     "showTitle": false,
     "title": ""
    }
   },
   "outputs": [],
   "source": [
    "FOBA_df = omdc_foba.results"
   ]
  },
  {
   "cell_type": "markdown",
   "metadata": {
    "application/vnd.databricks.v1+cell": {
     "cellMetadata": {},
     "inputWidgets": {},
     "nuid": "c64366a4-b854-4c4f-aac3-a63a0e7c53df",
     "showTitle": false,
     "title": ""
    }
   },
   "source": [
    "### **FOBA Analsysis for 1 day**"
   ]
  },
  {
   "cell_type": "code",
   "execution_count": 0,
   "metadata": {
    "application/vnd.databricks.v1+cell": {
     "cellMetadata": {
      "byteLimit": 2048000,
      "rowLimit": 10000
     },
     "inputWidgets": {},
     "nuid": "5485ee10-308a-460b-aef0-6b8636547ed4",
     "showTitle": false,
     "title": ""
    }
   },
   "outputs": [],
   "source": [
    "from foba_backtest_engine.components.order_book.utils.foba_report_enrichments import enrich_foba\n",
    "from foba_backtest_engine.components.order_book.utils.enums import EventType, Side"
   ]
  },
  {
   "cell_type": "code",
   "execution_count": 0,
   "metadata": {
    "application/vnd.databricks.v1+cell": {
     "cellMetadata": {
      "byteLimit": 2048000,
      "rowLimit": 10000
     },
     "inputWidgets": {},
     "nuid": "c5bc0160-464c-43ec-ba12-f36bb9bf9a87",
     "showTitle": false,
     "title": ""
    }
   },
   "outputs": [],
   "source": [
    "CURRENCY_RATE = 0.195\n",
    "\n",
    "enriched_df = enrich_foba(\n",
    "    FOBA_df,\n",
    "    currency_rate=CURRENCY_RATE,\n",
    "    pnl_slippages=[5, 15, 30, 60, 120, 240, 300, 600, 900, 1800, 3600, 7200]\n",
    ")"
   ]
  },
  {
   "cell_type": "code",
   "execution_count": 0,
   "metadata": {
    "application/vnd.databricks.v1+cell": {
     "cellMetadata": {
      "byteLimit": 2048000,
      "rowLimit": 10000
     },
     "inputWidgets": {},
     "nuid": "f4cd2b08-99b3-4f1d-bfd3-f0ecc687c93a",
     "showTitle": false,
     "title": ""
    }
   },
   "outputs": [],
   "source": [
    "trade_data = enriched_df[enriched_df[\"event_type\"]==EventType.TRADE]\n",
    "trade_data = trade_data.sort_values(\"createdNanos_\").reset_index(drop = True)\n",
    "\n",
    "\n",
    "\n",
    "import datetime\n",
    "from IPython.display import HTML\n",
    "import IPython.display as iDisp\n",
    "import warnings\n",
    "import matplotlib.pyplot as plt\n",
    "\n",
    "warnings.filterwarnings('ignore')\n",
    "\n",
    "currency_rate = 0.195\n"
   ]
  },
  {
   "cell_type": "code",
   "execution_count": 0,
   "metadata": {
    "application/vnd.databricks.v1+cell": {
     "cellMetadata": {
      "byteLimit": 2048000,
      "rowLimit": 10000
     },
     "inputWidgets": {},
     "nuid": "ae1d582e-912a-48b5-a312-7c35b324128c",
     "showTitle": false,
     "title": ""
    }
   },
   "outputs": [],
   "source": [
    "end_prices = trade_data.groupby(['date', 'product_symbol'])[['event_price']].last().to_dict()['event_price']\n",
    "\n",
    "def get_end_price(date, symbol):\n",
    "    return end_prices[(date, symbol)]\n",
    "\n",
    "trade_data['currency_rate'] = trade_data['turnover'] / (trade_data['event_volume'] * trade_data['event_price'])\n",
    "trade_data['eod_price'] = trade_data[['date', 'product_symbol']].apply(lambda x: get_end_price(x['date'], x['product_symbol']), axis=1)"
   ]
  },
  {
   "cell_type": "code",
   "execution_count": 0,
   "metadata": {
    "application/vnd.databricks.v1+cell": {
     "cellMetadata": {
      "byteLimit": 2048000,
      "rowLimit": 10000
     },
     "inputWidgets": {},
     "nuid": "455da115-60ac-4af1-a262-6aed70dfa316",
     "showTitle": false,
     "title": ""
    }
   },
   "outputs": [],
   "source": [
    "for time in [5,15,30,60,120,240,300,600,900,1800,3600,7200]:\n",
    "    trade_data[f\"passive_pnl_{time}s\"] = np.where(trade_data.event_type==EventType.TRADE,\n",
    "                np.where(trade_data.side==Side.BID, \n",
    "                            (trade_data[f\"midspot_{time}\"]-trade_data.event_price)*(trade_data.event_volume*trade_data.contract_size),\n",
    "                                (trade_data.event_price-trade_data[f\"midspot_{time}\"])*(trade_data.event_volume*trade_data.contract_size))-trade_data.fees, 0)\n",
    "    trade_data[f\"aggressive_pnl_{time}s\"] = np.where(trade_data.event_type==EventType.TRADE,\n",
    "                -1*np.where(trade_data.side==Side.BID, \n",
    "                            (trade_data[f\"midspot_{time}\"]-trade_data.event_price)*(trade_data.event_volume*trade_data.contract_size),\n",
    "                                (trade_data.event_price-trade_data[f\"midspot_{time}\"])*(trade_data.event_volume*trade_data.contract_size))-trade_data.fees, 0)\n",
    "    trade_data[f\"aggressive_bps_{time}s\"] = 10000*(trade_data[f\"aggressive_pnl_{time}s\"]/(trade_data[\"event_volume\"]*trade_data[\"event_price\"]))\n",
    "    trade_data[f\"passive_bps_{time}s\"] = 10000*(trade_data[f\"passive_pnl_{time}s\"]/(trade_data[\"event_volume\"]*trade_data[\"event_price\"]))\n",
    "\n",
    "    trade_data[f\"aggressive_tick_{time}s\"] = (trade_data[f\"aggressive_pnl_{time}s\"]/(trade_data[\"event_volume\"])/trade_data[\"tick_size\"])\n",
    "    trade_data[f\"passive_tick_{time}s\"] = (trade_data[f\"passive_pnl_{time}s\"]/(trade_data[\"event_volume\"])/trade_data[\"tick_size\"])"
   ]
  },
  {
   "cell_type": "code",
   "execution_count": 0,
   "metadata": {
    "application/vnd.databricks.v1+cell": {
     "cellMetadata": {
      "byteLimit": 2048000,
      "rowLimit": 10000
     },
     "inputWidgets": {},
     "nuid": "773af41b-4bc7-44cf-aed2-73d1fd4c59e6",
     "showTitle": false,
     "title": ""
    }
   },
   "outputs": [],
   "source": [
    "trade_data['slipped_pnl_eod'] = np.where(trade_data['side'] == Side.BID, \n",
    "                                         (trade_data['eod_price'] - trade_data['event_price']) * trade_data['event_volume'] * trade_data['currency_rate'] - trade_data['fees'], \n",
    "                                        (trade_data['event_price'] - trade_data['eod_price']) * trade_data['event_volume'] * trade_data['currency_rate'] - trade_data['fees'])\n",
    "trade_data['aggressor_slipped_pnl_eod'] = np.where(trade_data['side'] == Side.BID, \n",
    "                                                   (trade_data['event_price'] - trade_data['eod_price']) * trade_data['event_volume'] * trade_data['currency_rate'] - trade_data['fees'], \n",
    "                                                   (trade_data['eod_price'] - trade_data['event_price']) * trade_data['event_volume'] * trade_data['currency_rate'] - trade_data['fees'])"
   ]
  },
  {
   "cell_type": "code",
   "execution_count": 0,
   "metadata": {
    "application/vnd.databricks.v1+cell": {
     "cellMetadata": {
      "byteLimit": 2048000,
      "rowLimit": 10000
     },
     "inputWidgets": {},
     "nuid": "602554da-63c0-4f8d-b33c-f58f9672953b",
     "showTitle": false,
     "title": ""
    }
   },
   "outputs": [],
   "source": [
    "pnl_fields = [f\"passive_pnl_{x}s\" for x in [5, 15, 30, 60, 120, 240, 300, 600, 900, 1800, 3600, 7200]] + \\\n",
    "             [f\"aggressive_pnl_{x}s\" for x in [5, 15, 30, 60, 120, 240, 300, 600, 900, 1800, 3600, 7200]] + [\"slipped_pnl_eod\", \"aggressor_slipped_pnl_eod\"]\n",
    "currency_rate = 0.195\n",
    "trade_data[pnl_fields] = trade_data[pnl_fields] * currency_rate\n",
    "\n",
    "trade_data[\"turnover_original\"] = trade_data[\"turnover\"]\n",
    "trade_data[\"turnover\"] = trade_data[\"turnover\"]/1_000_000"
   ]
  },
  {
   "cell_type": "code",
   "execution_count": 0,
   "metadata": {
    "application/vnd.databricks.v1+cell": {
     "cellMetadata": {
      "byteLimit": 2048000,
      "rowLimit": 10000
     },
     "inputWidgets": {},
     "nuid": "8e95eded-a9f2-40fd-8d76-3a83261697fe",
     "showTitle": false,
     "title": ""
    }
   },
   "outputs": [],
   "source": [
    "total_turnover = trade_data[\"turnover_original\"].sum()\n",
    "trade_data[\"buy_turnover\"] = np.where(trade_data[\"side\"] == Side.BID, trade_data[\"turnover_original\"], 0)\n",
    "trade_data[\"sell_turnover\"] = np.where(trade_data[\"side\"] == Side.ASK, trade_data[\"turnover_original\"], 0)\n",
    "grouped = trade_data.groupby(\"broker_name\").agg({\n",
    "    \"passive_pnl_30s\":\"sum\",\n",
    "    \"passive_pnl_60s\":\"sum\",\n",
    "    \"passive_pnl_120s\":\"sum\",\n",
    "    \"passive_pnl_300s\":\"sum\",\n",
    "    \"passive_pnl_900s\":\"sum\",\n",
    "    \"slipped_pnl_eod\":\"sum\",\n",
    "    \"turnover_original\":\"sum\",\n",
    "    \"buy_turnover\":\"sum\",\n",
    "    \"sell_turnover\":\"sum\"\n",
    "})\n",
    "grouped[\"mkt%\"] = 100*grouped[\"turnover_original\"]/total_turnover\n",
    "grouped[\"bps_pnl_120s\"] = 10_000*grouped[\"passive_pnl_120s\"]/(grouped[\"turnover_original\"]*currency_rate)\n",
    "grouped[\"bps_pnl_300s\"] = 10_000*grouped[\"passive_pnl_300s\"]/(grouped[\"turnover_original\"]*currency_rate)\n",
    "grouped[\"turnover_original\"] = grouped[\"turnover_original\"]/1_000_000\n",
    "grouped[\"buy_turnover\"] = grouped[\"buy_turnover\"]/1_000_000\n",
    "grouped[\"sell_turnover\"] = grouped[\"sell_turnover\"]/1_000_000"
   ]
  },
  {
   "cell_type": "code",
   "execution_count": 0,
   "metadata": {
    "application/vnd.databricks.v1+cell": {
     "cellMetadata": {
      "byteLimit": 2048000,
      "rowLimit": 10000
     },
     "inputWidgets": {},
     "nuid": "7334f1e3-07ca-4b2e-b7d4-ec58b66d316d",
     "showTitle": false,
     "title": ""
    }
   },
   "outputs": [
    {
     "output_type": "display_data",
     "data": {
      "text/html": [
       "<H3>by Broker Name</H3>"
      ],
      "text/plain": [
       "<IPython.core.display.HTML object>"
      ]
     },
     "metadata": {},
     "output_type": "display_data"
    },
    {
     "output_type": "execute_result",
     "data": {
      "text/html": [
       "<style type=\"text/css\">\n",
       "#T_fd8cc_row0_col0, #T_fd8cc_row0_col1, #T_fd8cc_row0_col2, #T_fd8cc_row0_col3, #T_fd8cc_row0_col4, #T_fd8cc_row0_col5 {\n",
       "  background-color: #f7fcf5;\n",
       "  color: #000000;\n",
       "}\n",
       "#T_fd8cc_row0_col6, #T_fd8cc_row0_col7, #T_fd8cc_row0_col8 {\n",
       "  background-color: #6aaed6;\n",
       "  color: #f1f1f1;\n",
       "}\n",
       "#T_fd8cc_row0_col9 {\n",
       "  background-color: #fb694a;\n",
       "  color: #f1f1f1;\n",
       "}\n",
       "#T_fd8cc_row0_col10, #T_fd8cc_row0_col11, #T_fd8cc_row5_col10, #T_fd8cc_row5_col11 {\n",
       "  background-color: #9cc9e1;\n",
       "  color: #000000;\n",
       "}\n",
       "#T_fd8cc_row1_col0 {\n",
       "  background-color: #83cb82;\n",
       "  color: #000000;\n",
       "}\n",
       "#T_fd8cc_row1_col1, #T_fd8cc_row1_col2, #T_fd8cc_row1_col3 {\n",
       "  background-color: #81ca81;\n",
       "  color: #000000;\n",
       "}\n",
       "#T_fd8cc_row1_col4, #T_fd8cc_row3_col5, #T_fd8cc_row4_col5, #T_fd8cc_row5_col5, #T_fd8cc_row6_col5 {\n",
       "  background-color: #80ca80;\n",
       "  color: #000000;\n",
       "}\n",
       "#T_fd8cc_row1_col5, #T_fd8cc_row6_col0, #T_fd8cc_row6_col1, #T_fd8cc_row6_col2, #T_fd8cc_row6_col3, #T_fd8cc_row6_col4 {\n",
       "  background-color: #73c476;\n",
       "  color: #000000;\n",
       "}\n",
       "#T_fd8cc_row1_col6, #T_fd8cc_row1_col7, #T_fd8cc_row1_col8, #T_fd8cc_row2_col6, #T_fd8cc_row2_col7, #T_fd8cc_row2_col8, #T_fd8cc_row3_col6, #T_fd8cc_row3_col7, #T_fd8cc_row3_col8, #T_fd8cc_row4_col6, #T_fd8cc_row4_col7, #T_fd8cc_row4_col8, #T_fd8cc_row5_col6, #T_fd8cc_row5_col7, #T_fd8cc_row5_col8, #T_fd8cc_row6_col6, #T_fd8cc_row6_col7, #T_fd8cc_row6_col8 {\n",
       "  background-color: #f7fbff;\n",
       "  color: #000000;\n",
       "}\n",
       "#T_fd8cc_row1_col9, #T_fd8cc_row2_col9, #T_fd8cc_row3_col9, #T_fd8cc_row4_col9, #T_fd8cc_row5_col9, #T_fd8cc_row6_col9 {\n",
       "  background-color: #fff5f0;\n",
       "  color: #000000;\n",
       "}\n",
       "#T_fd8cc_row1_col10, #T_fd8cc_row1_col11 {\n",
       "  background-color: #a3cce3;\n",
       "  color: #000000;\n",
       "}\n",
       "#T_fd8cc_row2_col0, #T_fd8cc_row2_col3 {\n",
       "  background-color: #7fc97f;\n",
       "  color: #000000;\n",
       "}\n",
       "#T_fd8cc_row2_col1, #T_fd8cc_row2_col2, #T_fd8cc_row2_col4 {\n",
       "  background-color: #7dc87e;\n",
       "  color: #000000;\n",
       "}\n",
       "#T_fd8cc_row2_col5 {\n",
       "  background-color: #76c578;\n",
       "  color: #000000;\n",
       "}\n",
       "#T_fd8cc_row2_col10, #T_fd8cc_row2_col11, #T_fd8cc_row3_col10, #T_fd8cc_row3_col11, #T_fd8cc_row4_col10, #T_fd8cc_row4_col11 {\n",
       "  background-color: #a5cde3;\n",
       "  color: #000000;\n",
       "}\n",
       "#T_fd8cc_row3_col0, #T_fd8cc_row3_col1, #T_fd8cc_row3_col2, #T_fd8cc_row3_col3, #T_fd8cc_row3_col4, #T_fd8cc_row4_col0, #T_fd8cc_row4_col1, #T_fd8cc_row4_col2, #T_fd8cc_row4_col3, #T_fd8cc_row4_col4, #T_fd8cc_row5_col0, #T_fd8cc_row5_col1, #T_fd8cc_row5_col2, #T_fd8cc_row5_col3, #T_fd8cc_row5_col4 {\n",
       "  background-color: #75c477;\n",
       "  color: #000000;\n",
       "}\n",
       "#T_fd8cc_row6_col10, #T_fd8cc_row6_col11 {\n",
       "  background-color: #8fc2de;\n",
       "  color: #000000;\n",
       "}\n",
       "</style>\n",
       "<table id=\"T_fd8cc\">\n",
       "  <thead>\n",
       "    <tr>\n",
       "      <th class=\"blank level0\" >&nbsp;</th>\n",
       "      <th id=\"T_fd8cc_level0_col0\" class=\"col_heading level0 col0\" >passive_pnl_30s</th>\n",
       "      <th id=\"T_fd8cc_level0_col1\" class=\"col_heading level0 col1\" >passive_pnl_60s</th>\n",
       "      <th id=\"T_fd8cc_level0_col2\" class=\"col_heading level0 col2\" >passive_pnl_120s</th>\n",
       "      <th id=\"T_fd8cc_level0_col3\" class=\"col_heading level0 col3\" >passive_pnl_300s</th>\n",
       "      <th id=\"T_fd8cc_level0_col4\" class=\"col_heading level0 col4\" >passive_pnl_900s</th>\n",
       "      <th id=\"T_fd8cc_level0_col5\" class=\"col_heading level0 col5\" >slipped_pnl_eod</th>\n",
       "      <th id=\"T_fd8cc_level0_col6\" class=\"col_heading level0 col6\" >turnover_original</th>\n",
       "      <th id=\"T_fd8cc_level0_col7\" class=\"col_heading level0 col7\" >buy_turnover</th>\n",
       "      <th id=\"T_fd8cc_level0_col8\" class=\"col_heading level0 col8\" >sell_turnover</th>\n",
       "      <th id=\"T_fd8cc_level0_col9\" class=\"col_heading level0 col9\" >mkt%</th>\n",
       "      <th id=\"T_fd8cc_level0_col10\" class=\"col_heading level0 col10\" >bps_pnl_120s</th>\n",
       "      <th id=\"T_fd8cc_level0_col11\" class=\"col_heading level0 col11\" >bps_pnl_300s</th>\n",
       "    </tr>\n",
       "    <tr>\n",
       "      <th class=\"index_name level0\" >broker_name</th>\n",
       "      <th class=\"blank col0\" >&nbsp;</th>\n",
       "      <th class=\"blank col1\" >&nbsp;</th>\n",
       "      <th class=\"blank col2\" >&nbsp;</th>\n",
       "      <th class=\"blank col3\" >&nbsp;</th>\n",
       "      <th class=\"blank col4\" >&nbsp;</th>\n",
       "      <th class=\"blank col5\" >&nbsp;</th>\n",
       "      <th class=\"blank col6\" >&nbsp;</th>\n",
       "      <th class=\"blank col7\" >&nbsp;</th>\n",
       "      <th class=\"blank col8\" >&nbsp;</th>\n",
       "      <th class=\"blank col9\" >&nbsp;</th>\n",
       "      <th class=\"blank col10\" >&nbsp;</th>\n",
       "      <th class=\"blank col11\" >&nbsp;</th>\n",
       "    </tr>\n",
       "  </thead>\n",
       "  <tbody>\n",
       "    <tr>\n",
       "      <th id=\"T_fd8cc_level0_row0\" class=\"row_heading level0 row0\" >UNKNOWN</th>\n",
       "      <td id=\"T_fd8cc_row0_col0\" class=\"data row0 col0\" >-312659.532050</td>\n",
       "      <td id=\"T_fd8cc_row0_col1\" class=\"data row0 col1\" >-325738.182050</td>\n",
       "      <td id=\"T_fd8cc_row0_col2\" class=\"data row0 col2\" >-324150.882050</td>\n",
       "      <td id=\"T_fd8cc_row0_col3\" class=\"data row0 col3\" >-315699.582050</td>\n",
       "      <td id=\"T_fd8cc_row0_col4\" class=\"data row0 col4\" >-331484.832050</td>\n",
       "      <td id=\"T_fd8cc_row0_col5\" class=\"data row0 col5\" >-23717.307050</td>\n",
       "      <td id=\"T_fd8cc_row0_col6\" class=\"data row0 col6\" >1757.385080</td>\n",
       "      <td id=\"T_fd8cc_row0_col7\" class=\"data row0 col7\" >899.594500</td>\n",
       "      <td id=\"T_fd8cc_row0_col8\" class=\"data row0 col8\" >857.790580</td>\n",
       "      <td id=\"T_fd8cc_row0_col9\" class=\"data row0 col9\" >98.193549</td>\n",
       "      <td id=\"T_fd8cc_row0_col10\" class=\"data row0 col10\" >-9.459009</td>\n",
       "      <td id=\"T_fd8cc_row0_col11\" class=\"data row0 col11\" >-9.212393</td>\n",
       "    </tr>\n",
       "    <tr>\n",
       "      <th id=\"T_fd8cc_level0_row1\" class=\"row_heading level0 row1\" >UBS Securities Hong Kong Limited</th>\n",
       "      <td id=\"T_fd8cc_row1_col0\" class=\"data row1 col0\" >-25741.414588</td>\n",
       "      <td id=\"T_fd8cc_row1_col1\" class=\"data row1 col1\" >-23951.314588</td>\n",
       "      <td id=\"T_fd8cc_row1_col2\" class=\"data row1 col2\" >-23951.314588</td>\n",
       "      <td id=\"T_fd8cc_row1_col3\" class=\"data row1 col3\" >-23951.314588</td>\n",
       "      <td id=\"T_fd8cc_row1_col4\" class=\"data row1 col4\" >-22559.014588</td>\n",
       "      <td id=\"T_fd8cc_row1_col5\" class=\"data row1 col5\" >1706.785412</td>\n",
       "      <td id=\"T_fd8cc_row1_col6\" class=\"data row1 col6\" >4.077100</td>\n",
       "      <td id=\"T_fd8cc_row1_col7\" class=\"data row1 col7\" >3.442500</td>\n",
       "      <td id=\"T_fd8cc_row1_col8\" class=\"data row1 col8\" >0.634600</td>\n",
       "      <td id=\"T_fd8cc_row1_col9\" class=\"data row1 col9\" >0.227807</td>\n",
       "      <td id=\"T_fd8cc_row1_col10\" class=\"data row1 col10\" >-301.261324</td>\n",
       "      <td id=\"T_fd8cc_row1_col11\" class=\"data row1 col11\" >-301.261324</td>\n",
       "    </tr>\n",
       "    <tr>\n",
       "      <th id=\"T_fd8cc_level0_row2\" class=\"row_heading level0 row2\" >Macquarie Capital Limited</th>\n",
       "      <td id=\"T_fd8cc_row2_col0\" class=\"data row2 col0\" >-18782.304840</td>\n",
       "      <td id=\"T_fd8cc_row2_col1\" class=\"data row2 col1\" >-17466.054840</td>\n",
       "      <td id=\"T_fd8cc_row2_col2\" class=\"data row2 col2\" >-17466.054840</td>\n",
       "      <td id=\"T_fd8cc_row2_col3\" class=\"data row2 col3\" >-17466.054840</td>\n",
       "      <td id=\"T_fd8cc_row2_col4\" class=\"data row2 col4\" >-16442.304840</td>\n",
       "      <td id=\"T_fd8cc_row2_col5\" class=\"data row2 col5\" >1400.195160</td>\n",
       "      <td id=\"T_fd8cc_row2_col6\" class=\"data row2 col6\" >2.064000</td>\n",
       "      <td id=\"T_fd8cc_row2_col7\" class=\"data row2 col7\" >2.064000</td>\n",
       "      <td id=\"T_fd8cc_row2_col8\" class=\"data row2 col8\" >0.000000</td>\n",
       "      <td id=\"T_fd8cc_row2_col9\" class=\"data row2 col9\" >0.115326</td>\n",
       "      <td id=\"T_fd8cc_row2_col10\" class=\"data row2 col10\" >-433.960814</td>\n",
       "      <td id=\"T_fd8cc_row2_col11\" class=\"data row2 col11\" >-433.960814</td>\n",
       "    </tr>\n",
       "    <tr>\n",
       "      <th id=\"T_fd8cc_level0_row3\" class=\"row_heading level0 row3\" >Eclipse Options (HK) Limited</th>\n",
       "      <td id=\"T_fd8cc_row3_col0\" class=\"data row3 col0\" >-2035.663999</td>\n",
       "      <td id=\"T_fd8cc_row3_col1\" class=\"data row3 col1\" >-1895.263999</td>\n",
       "      <td id=\"T_fd8cc_row3_col2\" class=\"data row3 col2\" >-1895.263999</td>\n",
       "      <td id=\"T_fd8cc_row3_col3\" class=\"data row3 col3\" >-1895.263999</td>\n",
       "      <td id=\"T_fd8cc_row3_col4\" class=\"data row3 col4\" >-1786.063999</td>\n",
       "      <td id=\"T_fd8cc_row3_col5\" class=\"data row3 col5\" >117.136001</td>\n",
       "      <td id=\"T_fd8cc_row3_col6\" class=\"data row3 col6\" >0.220320</td>\n",
       "      <td id=\"T_fd8cc_row3_col7\" class=\"data row3 col7\" >0.220320</td>\n",
       "      <td id=\"T_fd8cc_row3_col8\" class=\"data row3 col8\" >0.000000</td>\n",
       "      <td id=\"T_fd8cc_row3_col9\" class=\"data row3 col9\" >0.012310</td>\n",
       "      <td id=\"T_fd8cc_row3_col10\" class=\"data row3 col10\" >-441.144815</td>\n",
       "      <td id=\"T_fd8cc_row3_col11\" class=\"data row3 col11\" >-441.144815</td>\n",
       "    </tr>\n",
       "    <tr>\n",
       "      <th id=\"T_fd8cc_level0_row4\" class=\"row_heading level0 row4\" >Chief Securities Limited</th>\n",
       "      <td id=\"T_fd8cc_row4_col0\" class=\"data row4 col0\" >-751.916194</td>\n",
       "      <td id=\"T_fd8cc_row4_col1\" class=\"data row4 col1\" >-699.266194</td>\n",
       "      <td id=\"T_fd8cc_row4_col2\" class=\"data row4 col2\" >-699.266194</td>\n",
       "      <td id=\"T_fd8cc_row4_col3\" class=\"data row4 col3\" >-699.266194</td>\n",
       "      <td id=\"T_fd8cc_row4_col4\" class=\"data row4 col4\" >-658.316194</td>\n",
       "      <td id=\"T_fd8cc_row4_col5\" class=\"data row4 col5\" >55.383806</td>\n",
       "      <td id=\"T_fd8cc_row4_col6\" class=\"data row4 col6\" >0.082560</td>\n",
       "      <td id=\"T_fd8cc_row4_col7\" class=\"data row4 col7\" >0.082560</td>\n",
       "      <td id=\"T_fd8cc_row4_col8\" class=\"data row4 col8\" >0.000000</td>\n",
       "      <td id=\"T_fd8cc_row4_col9\" class=\"data row4 col9\" >0.004613</td>\n",
       "      <td id=\"T_fd8cc_row4_col10\" class=\"data row4 col10\" >-434.348411</td>\n",
       "      <td id=\"T_fd8cc_row4_col11\" class=\"data row4 col11\" >-434.348411</td>\n",
       "    </tr>\n",
       "    <tr>\n",
       "      <th id=\"T_fd8cc_level0_row5\" class=\"row_heading level0 row5\" >Bright Smart Securities International (H.K.) Limited</th>\n",
       "      <td id=\"T_fd8cc_row5_col0\" class=\"data row5 col0\" >8.320982</td>\n",
       "      <td id=\"T_fd8cc_row5_col1\" class=\"data row5 col1\" >8.320982</td>\n",
       "      <td id=\"T_fd8cc_row5_col2\" class=\"data row5 col2\" >8.320982</td>\n",
       "      <td id=\"T_fd8cc_row5_col3\" class=\"data row5 col3\" >8.320982</td>\n",
       "      <td id=\"T_fd8cc_row5_col4\" class=\"data row5 col4\" >8.320982</td>\n",
       "      <td id=\"T_fd8cc_row5_col5\" class=\"data row5 col5\" >8.320982</td>\n",
       "      <td id=\"T_fd8cc_row5_col6\" class=\"data row5 col6\" >0.055100</td>\n",
       "      <td id=\"T_fd8cc_row5_col7\" class=\"data row5 col7\" >0.027520</td>\n",
       "      <td id=\"T_fd8cc_row5_col8\" class=\"data row5 col8\" >0.027580</td>\n",
       "      <td id=\"T_fd8cc_row5_col9\" class=\"data row5 col9\" >0.003079</td>\n",
       "      <td id=\"T_fd8cc_row5_col10\" class=\"data row5 col10\" >7.744410</td>\n",
       "      <td id=\"T_fd8cc_row5_col11\" class=\"data row5 col11\" >7.744410</td>\n",
       "    </tr>\n",
       "    <tr>\n",
       "      <th id=\"T_fd8cc_level0_row6\" class=\"row_heading level0 row6\" >Long Bridge HK Limited</th>\n",
       "      <td id=\"T_fd8cc_row6_col0\" class=\"data row6 col0\" >255.710231</td>\n",
       "      <td id=\"T_fd8cc_row6_col1\" class=\"data row6 col1\" >238.160231</td>\n",
       "      <td id=\"T_fd8cc_row6_col2\" class=\"data row6 col2\" >238.160231</td>\n",
       "      <td id=\"T_fd8cc_row6_col3\" class=\"data row6 col3\" >238.160231</td>\n",
       "      <td id=\"T_fd8cc_row6_col4\" class=\"data row6 col4\" >224.510231</td>\n",
       "      <td id=\"T_fd8cc_row6_col5\" class=\"data row6 col5\" >-13.389769</td>\n",
       "      <td id=\"T_fd8cc_row6_col6\" class=\"data row6 col6\" >0.027560</td>\n",
       "      <td id=\"T_fd8cc_row6_col7\" class=\"data row6 col7\" >0.000000</td>\n",
       "      <td id=\"T_fd8cc_row6_col8\" class=\"data row6 col8\" >0.027560</td>\n",
       "      <td id=\"T_fd8cc_row6_col9\" class=\"data row6 col9\" >0.001540</td>\n",
       "      <td id=\"T_fd8cc_row6_col10\" class=\"data row6 col10\" >443.154761</td>\n",
       "      <td id=\"T_fd8cc_row6_col11\" class=\"data row6 col11\" >443.154761</td>\n",
       "    </tr>\n",
       "  </tbody>\n",
       "</table>\n"
      ],
      "text/plain": [
       "<pandas.io.formats.style.Styler at 0x7f51eb1df4d0>"
      ]
     },
     "execution_count": 76,
     "metadata": {},
     "output_type": "execute_result"
    }
   ],
   "source": [
    "iDisp.display(HTML(\"<H3>by Broker Name</H3>\"))\n",
    "styled = grouped.sort_values(\"passive_pnl_120s\", ascending=True).head(7).style \\\n",
    "    .background_gradient(subset=[\"mkt%\"], cmap=\"Reds\", low=0, high=1) \\\n",
    "    .background_gradient(subset=[\"passive_pnl_30s\", \"passive_pnl_60s\", \"passive_pnl_120s\", \"passive_pnl_300s\", \"passive_pnl_900s\", \"slipped_pnl_eod\"], cmap=\"Greens\", low=0, high=1) \\\n",
    "    .background_gradient(subset=[\"bps_pnl_120s\", \"bps_pnl_300s\"], cmap=\"Blues\", low=6, high=10) \\\n",
    "    .background_gradient(subset=[\"turnover_original\", \"buy_turnover\", \"sell_turnover\"], cmap=\"Blues\", low=0, high=1)\n",
    "styled"
   ]
  },
  {
   "cell_type": "code",
   "execution_count": 0,
   "metadata": {
    "application/vnd.databricks.v1+cell": {
     "cellMetadata": {
      "byteLimit": 2048000,
      "rowLimit": 10000
     },
     "inputWidgets": {},
     "nuid": "13bd49a1-10ab-4fd6-829f-b3cb1b5fa7ab",
     "showTitle": false,
     "title": ""
    }
   },
   "outputs": [
    {
     "output_type": "execute_result",
     "data": {
      "text/plain": [
       "UNKNOWN                                                 7758\n",
       "Macquarie Capital Limited                                  9\n",
       "UBS Securities Hong Kong Limited                           9\n",
       "HSBC Securities Brokers (Asia) Limited                     6\n",
       "Futu Securities International (Hong Kong) Limited          5\n",
       "Po Sang Securities Limited                                 3\n",
       "UOB Kay Hian (Hong Kong) Limited                           3\n",
       "ABN AMRO Clearing Hong Kong Limited                        3\n",
       "Morgan Stanley Hong Kong Securities Limited                2\n",
       "CITIC Securities Brokerage (HK) Limited                    2\n",
       "Eclipse Options (HK) Limited                               2\n",
       "Interactive Brokers Hong Kong Limited                      2\n",
       "Bright Smart Securities International (H.K.) Limited       2\n",
       "BNP Paribas Securities (Asia) Limited                      1\n",
       "Tiger Faith Securities Limited                             1\n",
       "KGI Asia Limited                                           1\n",
       "J.P. Morgan Broking (Hong Kong) Limited                    1\n",
       "Shacom Securities Limited                                  1\n",
       "ICBC (Asia) Securities Limited                             1\n",
       "BOCI Securities Limited                                    1\n",
       "CMB International Securities Limited                       1\n",
       "Prime Securities Limited                                   1\n",
       "OCBC Securities Brokerage (Hong Kong) Limited              1\n",
       "DBS Vickers (Hong Kong) Limited                            1\n",
       "Chief Securities Limited                                   1\n",
       "Long Bridge HK Limited                                     1\n",
       "Phillip Securities (Hong Kong) Limited                     1\n",
       "Name: broker_name, dtype: int64"
      ]
     },
     "execution_count": 22,
     "metadata": {},
     "output_type": "execute_result"
    }
   ],
   "source": [
    "trade_data[\"broker\"].value_counts()"
   ]
  },
  {
   "cell_type": "code",
   "execution_count": 0,
   "metadata": {
    "application/vnd.databricks.v1+cell": {
     "cellMetadata": {
      "byteLimit": 2048000,
      "rowLimit": 10000
     },
     "inputWidgets": {},
     "nuid": "03aa914c-c294-4c58-bf86-f445f05cbe52",
     "showTitle": false,
     "title": ""
    }
   },
   "outputs": [
    {
     "output_type": "execute_result",
     "data": {
      "text/plain": [
       "optiver_broker_id  counterparty_broker_code\n",
       "1475.0             6968.0                      1\n",
       "dtype: int64"
      ]
     },
     "execution_count": 105,
     "metadata": {},
     "output_type": "execute_result"
    }
   ],
   "source": [
    "trade_data[[\"optiver_broker_id\", \"counterparty_broker_code\"]].value_counts()"
   ]
  },
  {
   "cell_type": "code",
   "execution_count": 0,
   "metadata": {
    "application/vnd.databricks.v1+cell": {
     "cellMetadata": {
      "byteLimit": 2048000,
      "rowLimit": 10000
     },
     "inputWidgets": {},
     "nuid": "45d46841-8a73-4f88-812d-459fb8ce85e6",
     "showTitle": false,
     "title": ""
    }
   },
   "outputs": [
    {
     "output_type": "execute_result",
     "data": {
      "text/plain": [
       "['optiver_broker_id',\n",
       " 'counterparty_broker_code',\n",
       " 'broker_number',\n",
       " 'broker_name',\n",
       " 'broker_orders_placed_on_level',\n",
       " 'broker_order_at_join',\n",
       " 'broker_orders_remaining_at_event',\n",
       " 'broker_optiver']"
      ]
     },
     "execution_count": 103,
     "metadata": {},
     "output_type": "execute_result"
    }
   ],
   "source": [
    "[c for c in trade_data.columns if \"broker\" in c.lower()]"
   ]
  },
  {
   "cell_type": "code",
   "execution_count": 0,
   "metadata": {
    "application/vnd.databricks.v1+cell": {
     "cellMetadata": {
      "byteLimit": 2048000,
      "rowLimit": 10000
     },
     "inputWidgets": {},
     "nuid": "83211737-ff88-4415-9d15-d29995dcc35c",
     "showTitle": false,
     "title": ""
    }
   },
   "outputs": [],
   "source": [
    "import pandas as pd\n",
    "\n",
    "from foba_backtest_engine.components.order_book.processors.foba_book_builder import (\n",
    "    pybuilders,\n",
    ")\n",
    "from foba_backtest_engine.components.order_book.processors.foba_extract_foba_events import (\n",
    "    extract_foba_events,\n",
    ")\n",
    "from foba_backtest_engine.components.order_book.utils.enums import Exchange\n",
    "from foba_backtest_engine.components.order_book.utils.foba_competitor_broker_queue import (\n",
    "    broker_orders_enrichment,\n",
    "    competitor_enrichment,\n",
    "    foreign_counterparty_enrichment,\n",
    "    omdc_order_number_to_broker_number,\n",
    ")\n",
    "from foba_backtest_engine.components.order_book.utils.foba_credit_enricher import (\n",
    "    event_enricher,\n",
    ")\n",
    "from foba_backtest_engine.components.order_book.utils.foba_fee_enrichment import (\n",
    "    static_data_enrichment,\n",
    ")\n",
    "from foba_backtest_engine.components.order_book.utils.foba_feedstates import (\n",
    "    feed_states_at_join,\n",
    "    fetch_feed_stats_from_book_builders,\n",
    "    full_feed_state_enrichment,\n",
    ")\n",
    "from foba_backtest_engine.components.order_book.utils.foba_hk_broker_data_fetch import (\n",
    "    omdc_broker_number_to_name,\n",
    ")\n",
    "from foba_backtest_engine.components.order_book.utils.foba_misc_enrichments import (\n",
    "    category_enrichment,\n",
    "    derived_enrichment,\n",
    ")\n",
    "from foba_backtest_engine.components.order_book.utils.foba_omdc_broker_queue_processor import (\n",
    "    omdc_broker_queue,\n",
    ")\n",
    "from foba_backtest_engine.components.order_book.utils.foba_own_orders import (\n",
    "    get_optiver_trades,\n",
    "    optiver_trade_and_quotes,\n",
    "    order_delete_matches,\n",
    "    order_deletes,\n",
    "    order_matches,\n",
    "    order_numbers_filtered,\n",
    "    order_state_creates,\n",
    ")\n",
    "from foba_backtest_engine.components.order_book.utils.foba_slippages import (\n",
    "    annotate_slippages,\n",
    ")\n",
    "from foba_backtest_engine.components.order_book.utils.foba_static_data_info import (\n",
    "    static_data_info,\n",
    ")\n",
    "from foba_backtest_engine.components.order_book.utils.foba_time import (\n",
    "    AverageSentTime,\n",
    "    MaxSentTime,\n",
    "    MinSentTime,\n",
    "    TimeProfile,\n",
    "    omdc_profile,\n",
    "    send_times,\n",
    ")\n",
    "from foba_backtest_engine.enrichment import Enrichment, configure\n",
    "from foba_backtest_engine.utils.base_utils import ImmutableRecord, get_logger\n",
    "from foba_backtest_engine.utils.time_utils import start_end_time"
   ]
  },
  {
   "cell_type": "code",
   "execution_count": 0,
   "metadata": {
    "application/vnd.databricks.v1+cell": {
     "cellMetadata": {
      "byteLimit": 2048000,
      "rowLimit": 10000
     },
     "inputWidgets": {},
     "nuid": "80081d23-8756-45aa-a830-4f274a43048f",
     "showTitle": false,
     "title": ""
    }
   },
   "outputs": [],
   "source": [
    "max_workers = config.get(\"max_workers\", 5)\n",
    "pybuilder_exchange =config.get(\"pybuilder_exchange\", Exchange.OMDC)\n",
    "currency_rate = config.get(\"currency_rate\", 1.0)\n",
    "book_ids = [\"5\"]\n",
    "date_to_inspect = date_to_run\n",
    "days_ago = config.get(\"days_ago\", 0)\n",
    "time_zone = config.get(\"time_zone\", \"Asia/Hong_Kong\")\n",
    "end_hour = config.get(\"end_hour\", 16)\n",
    "end_minute = config.get(\"end_minute\", 1)\n",
    "exclude_pulls =config.get(\"exclude_pulls\", False)\n",
    "include_only_optiver_pulls = config.get(\"include_only_optiver_pulls\", True)\n",
    "exclude_inplace_updates = config.get(\"exclude_inplace_updates\", True)\n",
    "book_build_parallel =config.get(\"book_build_parallel\", False)\n",
    "conflated_broker_queue_path = config.get(\"conflated_broker_queue_path\", \"/Workspace/Users/kartikeya.bisht@optiver.com.au/FOBA_create/data/ConflatedBrokerQueue.parquet\")\n",
    "order_book_path = config.get(\"order_book_path\", \"/Workspace/Users/kartikeya.bisht@optiver.com.au/FOBA_create/data/OrderBook.parquet\")\n",
    "fee_info_path = config.get(\"fee_info_path\", \"/Workspace/Users/kartikeya.bisht@optiver.com.au/FOBA_create/FeeInfo.parquet\")\n",
    "tick_schedule_path = config.get(\"tick_schedule_path\", \"/Workspace/Users/kartikeya.bisht@optiver.com.au/FOBA_create/TickSchedule.parquet\")\n",
    "fee_schedule_path = config.get(\"fee_schedule_path\", \"/Workspace/Users/kartikeya.bisht@optiver.com.au/FOBA_create/FeeSchedule.parquet\")\n",
    "order_insert_path=config.get(\"order_insert_path\", \"/Workspace/Users/kartikeya.bisht@optiver.com.au/FOBA_create/OrderInsert.parquet\")\n",
    "delete_operation_path=config.get(\"delete_operation_path\", \"/Workspace/Users/kartikeya.bisht@optiver.com.au/FOBA_create/DeleteOperation.parquet\")\n",
    "private_trade_path=config.get(\"private_trade_path\", \"/Workspace/Users/kartikeya.bisht@optiver.com.au/FOBA_create/PrivateTrade.parquet\")\n",
    "private_feed_path=config.get(\"private_feed_path\", \"/Workspace/Users/kartikeya.bisht@optiver.com.au/FOBA_create/PrivateFeed.parquet\")\n",
    "broker_mapping_path=config.get(\"broker_mapping_path\", \"/Workspace/Users/kartikeya.bisht@optiver.com.au/FOBA_create/BrokerMapping.parquet\")\n",
    "\n",
    "sent_times = config.get(\n",
    "    \"sent_times\",\n",
    "    (\n",
    "        MinSentTime(omdc_profile),\n",
    "        MaxSentTime(omdc_profile),\n",
    "        AverageSentTime(\n",
    "            TimeProfile(\n",
    "                min_one_way_delay=-float(\"inf\"),\n",
    "                min_round_trip_delay=0.36e6,\n",
    "                max_one_way_delay=float(\"inf\"),\n",
    "                max_round_trip_delay=0.50e6,\n",
    "            )\n",
    "        ),\n",
    "    ),\n",
    ")\n",
    "annotation_min_change = config.get(\"annotation_min_change\", 0.001)\n",
    "exclude_lunch = config.get(\"exclude_lunch\", True)\n",
    "pnl_slippage_times = config.get(\n",
    "    \"pnl_slippage_times\",\n",
    "    [5, 15, 30, 60, 120, 240, 300, 600, 900, 1800, 3600, 7200],\n",
    ")\n",
    "bbov_weights = config.get(\"bbov_weights\", [1, 6, 6, 1])\n",
    "smooth_bbov_alpha = config.get(\"smooth_bbov_alpha\", 0.10)\n",
    "bbov_interval_s = config.get(\"bbov_interval_s\", 10)\n",
    "excluded_fee_names = config.get(\n",
    "    \"excluded_fee_names\", [\"Stock Full Stamp\", \"Stock Full Stamp - CBBC hedge\"]\n",
    ")\n",
    "broker_mapping_backup = config.get(\"broker_mapping_backup\", True)\n",
    "\n",
    "start_time, end_time = start_end_time(\n",
    "    time_zone=time_zone,\n",
    "    days_ago=days_ago,\n",
    "    start_hour=6,\n",
    "    start_minute=0,\n",
    "    end_hour=end_hour,\n",
    "    end_minute=end_minute,\n",
    "    end_date=date_to_inspect,\n",
    ")\n",
    "\n",
    "filter_used = ImmutableRecord(\n",
    "    start_time=start_time, end_time=end_time, book_ids=book_ids,\n",
    "    order_insert_path=order_insert_path,\n",
    "    delete_operation_path=delete_operation_path,\n",
    "    private_trade_path=private_trade_path, \n",
    "    private_feed_path=private_feed_path,\n",
    "    conflated_broker_queue_path=conflated_broker_queue_path,\n",
    "    order_book_path = order_book_path,\n",
    "    fee_info_path = fee_info_path,\n",
    "    tick_schedule_path = tick_schedule_path,\n",
    "    fee_schedule_path = fee_schedule_path,\n",
    "    broker_mapping_path=broker_mapping_path\n",
    ")"
   ]
  },
  {
   "cell_type": "code",
   "execution_count": 0,
   "metadata": {
    "application/vnd.databricks.v1+cell": {
     "cellMetadata": {
      "byteLimit": 2048000,
      "rowLimit": 10000
     },
     "inputWidgets": {},
     "nuid": "5fb6b39f-6cd6-4f79-bf98-0139d6f67958",
     "showTitle": false,
     "title": ""
    }
   },
   "outputs": [
    {
     "output_type": "stream",
     "name": "stderr",
     "output_type": "stream",
     "text": [
      "2024-10-25 07:02:24,087 - foba_backtest_engine.components.order_book.builders.multi_book_builder - DEBUG - build_books using OmdcBookBuilder: Started\n2024-10-25 07:02:24,088 - foba_backtest_engine.components.order_book.builders.multi_book_builder - DEBUG - build_books using OmdcBookBuilder: Timerange - 2024-09-20 06:00:00-2024-09-20 16:01:00\n2024-10-25 07:02:24,088 - foba_backtest_engine.components.order_book.builders.multi_book_builder - DEBUG - build_books using OmdcBookBuilder: feed_update_count - 74994\n2024-10-25 07:02:27,794 - foba_backtest_engine.components.order_book.builders.multi_book_builder - DEBUG - build_books using OmdcBookBuilder: Percent Complete - 0.1\n2024-10-25 07:02:32,602 - foba_backtest_engine.components.order_book.builders.multi_book_builder - DEBUG - build_books using OmdcBookBuilder: Percent Complete - 0.2\n2024-10-25 07:02:40,771 - foba_backtest_engine.components.order_book.builders.multi_book_builder - DEBUG - build_books using OmdcBookBuilder: Percent Complete - 0.3\n2024-10-25 07:02:48,078 - foba_backtest_engine.components.order_book.builders.multi_book_builder - DEBUG - build_books using OmdcBookBuilder: Percent Complete - 0.4\n2024-10-25 07:02:55,679 - foba_backtest_engine.components.order_book.builders.multi_book_builder - DEBUG - build_books using OmdcBookBuilder: Percent Complete - 0.5\n2024-10-25 07:03:04,788 - foba_backtest_engine.components.order_book.builders.multi_book_builder - DEBUG - build_books using OmdcBookBuilder: Percent Complete - 0.6\n2024-10-25 07:03:17,883 - foba_backtest_engine.components.order_book.builders.multi_book_builder - DEBUG - build_books using OmdcBookBuilder: Percent Complete - 0.7\n2024-10-25 07:03:28,539 - foba_backtest_engine.components.order_book.builders.multi_book_builder - DEBUG - build_books using OmdcBookBuilder: Percent Complete - 0.8\n2024-10-25 07:03:39,711 - foba_backtest_engine.components.order_book.builders.multi_book_builder - DEBUG - build_books using OmdcBookBuilder: Percent Complete - 0.9\n2024-10-25 07:03:49,640 - foba_backtest_engine.components.order_book.builders.multi_book_builder - DEBUG - build_books using OmdcBookBuilder: Percent Complete - 1.0\n2024-10-25 07:03:49,640 - foba_backtest_engine.components.order_book.builders.multi_book_builder - DEBUG - build_books using OmdcBookBuilder: Completed\n"
     ]
    }
   ],
   "source": [
    "onf = order_numbers_filtered(filter_used)\n",
    "pybuilds = pybuilders(\n",
    "    pybuilder_exchange = Exchange.OMDC, \n",
    "    optiver_only=True,\n",
    "    optiver_order_numbers=onf,\n",
    "    filter=filter_used\n",
    ")"
   ]
  },
  {
   "cell_type": "code",
   "execution_count": 0,
   "metadata": {
    "application/vnd.databricks.v1+cell": {
     "cellMetadata": {
      "byteLimit": 2048000,
      "rowLimit": 10000
     },
     "inputWidgets": {},
     "nuid": "af783c6d-64c7-4431-a60b-04ae97cd7b7d",
     "showTitle": false,
     "title": ""
    }
   },
   "outputs": [],
   "source": [
    "foba_events = extract_foba_events(\n",
    "    pybuilders=pybuilds,\n",
    "    filter=filter_used,\n",
    "    exclude_inplace_updates=True,\n",
    "    optiver_order_numbers = onf,\n",
    "    exclude_pulls=exclude_pulls,\n",
    ")"
   ]
  },
  {
   "cell_type": "code",
   "execution_count": 0,
   "metadata": {
    "application/vnd.databricks.v1+cell": {
     "cellMetadata": {
      "byteLimit": 2048000,
      "rowLimit": 10000
     },
     "inputWidgets": {},
     "nuid": "f7b0b325-a2dc-4afb-80cd-caf7a20f50a3",
     "showTitle": false,
     "title": ""
    }
   },
   "outputs": [],
   "source": [
    "sdi = static_data_info(filter_used)\n",
    "sde = static_data_enrichment(foba_events, sdi)\n",
    "st = send_times(foba_events, sent_times)\n",
    "fs = fetch_feed_stats_from_book_builders(pybuilds)\n",
    "slippages = annotate_slippages(fs,pnl_slippage_times)\n"
   ]
  },
  {
   "cell_type": "code",
   "execution_count": 0,
   "metadata": {
    "application/vnd.databricks.v1+cell": {
     "cellMetadata": {
      "byteLimit": 2048000,
      "rowLimit": 10000
     },
     "inputWidgets": {},
     "nuid": "49560ccc-e014-4ca5-b447-12d454523a50",
     "showTitle": false,
     "title": ""
    }
   },
   "outputs": [],
   "source": [
    "times = []\n",
    "bid_0 = []\n",
    "ask_0 = []\n",
    "for eventId, event in fs.items():\n",
    "    times.append(event.received_)\n",
    "    bid_0.append(event.bids_0_price_)\n",
    "    ask_0.append(event.asks_0_price_)"
   ]
  },
  {
   "cell_type": "code",
   "execution_count": 0,
   "metadata": {
    "application/vnd.databricks.v1+cell": {
     "cellMetadata": {
      "byteLimit": 2048000,
      "rowLimit": 10000
     },
     "inputWidgets": {},
     "nuid": "b1143aeb-7f4d-40f5-baea-fdd6b75d485f",
     "showTitle": false,
     "title": ""
    }
   },
   "outputs": [],
   "source": [
    "midspot_30 = []\n",
    "times_2 = []\n",
    "for eventId, event in slippages.items():\n",
    "    times_2.append(event.createdNanos_)\n",
    "    midspot_30.append(event.midspot_30)"
   ]
  },
  {
   "cell_type": "code",
   "execution_count": 0,
   "metadata": {
    "application/vnd.databricks.v1+cell": {
     "cellMetadata": {
      "byteLimit": 2048000,
      "rowLimit": 10000
     },
     "inputWidgets": {},
     "nuid": "8e6fd289-660e-4357-a4ec-8c106e8cd49e",
     "showTitle": false,
     "title": ""
    }
   },
   "outputs": [
    {
     "output_type": "execute_result",
     "data": {
      "text/plain": [
       "[<matplotlib.lines.Line2D at 0x7f4e919ab290>]"
      ]
     },
     "execution_count": 113,
     "metadata": {},
     "output_type": "execute_result"
    },
    {
     "output_type": "display_data",
     "data": {
      "image/png": "[encoded data removed]",
      "text/plain": [
       "<Figure size 640x480 with 1 Axes>"
      ]
     },
     "metadata": {},
     "output_type": "display_data"
    }
   ],
   "source": [
    "import matplotlib.pyplot as plt\n",
    "plt.plot(times_2, midspot_30, drawstyle='steps-post', color='black')\n",
    "plt.plot(times, ask_0, drawstyle='steps-post', color='red')\n",
    "plt.plot(times, bid_0, drawstyle='steps-post', color='green')"
   ]
  },
  {
   "cell_type": "code",
   "execution_count": 0,
   "metadata": {
    "application/vnd.databricks.v1+cell": {
     "cellMetadata": {
      "byteLimit": 2048000,
      "rowLimit": 10000
     },
     "inputWidgets": {},
     "nuid": "ed893a69-2667-47bc-997e-02053ae74997",
     "showTitle": false,
     "title": ""
    }
   },
   "outputs": [],
   "source": [
    "BQ = pd.read_parquet(\"data/ConflatedBrokerQueue_2024-09-20.parquet\")\n"
   ]
  },
  {
   "cell_type": "code",
   "execution_count": 0,
   "metadata": {
    "application/vnd.databricks.v1+cell": {
     "cellMetadata": {
      "byteLimit": 2048000,
      "rowLimit": 10000
     },
     "inputWidgets": {},
     "nuid": "cec16ff8-6ee0-4daf-b5e1-b9fb17241ad2",
     "showTitle": false,
     "title": ""
    }
   },
   "outputs": [],
   "source": [
    "BQ = BQ[BQ[\"securityCode_\"]==5]\n",
    "BQ.to_parquet(\"data/BQ.parquet\")"
   ]
  },
  {
   "cell_type": "code",
   "execution_count": 0,
   "metadata": {
    "application/vnd.databricks.v1+cell": {
     "cellMetadata": {
      "byteLimit": 2048000,
      "rowLimit": 10000
     },
     "inputWidgets": {},
     "nuid": "43aea603-e8f5-48ed-b03b-ed83b403fabe",
     "showTitle": false,
     "title": ""
    }
   },
   "outputs": [],
   "source": [
    "private_trade = pd.read_parquet(\"data/private_trade_path_2024-09-20.parquet\")\n",
    "private_feed = pd.read_parquet(\"data/private_feed_path_2024-09-20.parquet\")\n",
    "order_insert = pd.read_parquet(\"data/order_insert_path_2024-09-20.parquet\")\n",
    "delete_operation = pd.read_parquet(\"data/delete_operation_path_2024-09-20.parquet\")\n",
    "book = pd.read_parquet(\"data/OMDCRaw_2024-09-20.parquet\")"
   ]
  },
  {
   "cell_type": "code",
   "execution_count": 0,
   "metadata": {
    "application/vnd.databricks.v1+cell": {
     "cellMetadata": {
      "byteLimit": 2048000,
      "rowLimit": 10000
     },
     "inputWidgets": {},
     "nuid": "39157627-c092-4d7a-9ea3-f226eec2cd1d",
     "showTitle": false,
     "title": ""
    }
   },
   "outputs": [
    {
     "output_type": "execute_result",
     "data": {
      "text/html": [
       "<div>\n",
       "<style scoped>\n",
       "    .dataframe tbody tr th:only-of-type {\n",
       "        vertical-align: middle;\n",
       "    }\n",
       "\n",
       "    .dataframe tbody tr th {\n",
       "        vertical-align: top;\n",
       "    }\n",
       "\n",
       "    .dataframe thead th {\n",
       "        text-align: right;\n",
       "    }\n",
       "</style>\n",
       "<table border=\"1\" class=\"dataframe\">\n",
       "  <thead>\n",
       "    <tr style=\"text-align: right;\">\n",
       "      <th></th>\n",
       "      <th>received_</th>\n",
       "      <th>timestampNanos_</th>\n",
       "      <th>eeid_event_id</th>\n",
       "      <th>securityCode_</th>\n",
       "      <th>side_</th>\n",
       "      <th>brokerNumber_</th>\n",
       "      <th>type</th>\n",
       "      <th>broker_queue_msg_index</th>\n",
       "      <th>priority_</th>\n",
       "      <th>level_</th>\n",
       "      <th>createdNanos_</th>\n",
       "    </tr>\n",
       "  </thead>\n",
       "  <tbody>\n",
       "    <tr>\n",
       "      <th>192</th>\n",
       "      <td>1726794000031381708</td>\n",
       "      <td>1726794000031000000</td>\n",
       "      <td>1220475499017404610</td>\n",
       "      <td>5</td>\n",
       "      <td>1</td>\n",
       "      <td>6389</td>\n",
       "      <td>B</td>\n",
       "      <td>0</td>\n",
       "      <td>0</td>\n",
       "      <td>0</td>\n",
       "      <td>1726794000031381708</td>\n",
       "    </tr>\n",
       "    <tr>\n",
       "      <th>193</th>\n",
       "      <td>1726794000031381708</td>\n",
       "      <td>1726794000031000000</td>\n",
       "      <td>1220475499017404610</td>\n",
       "      <td>5</td>\n",
       "      <td>2</td>\n",
       "      <td>4107</td>\n",
       "      <td>B</td>\n",
       "      <td>0</td>\n",
       "      <td>0</td>\n",
       "      <td>0</td>\n",
       "      <td>1726794000031381708</td>\n",
       "    </tr>\n",
       "    <tr>\n",
       "      <th>194</th>\n",
       "      <td>1726794000031381708</td>\n",
       "      <td>1726794000031000000</td>\n",
       "      <td>1220475499017404610</td>\n",
       "      <td>5</td>\n",
       "      <td>2</td>\n",
       "      <td>6389</td>\n",
       "      <td>B</td>\n",
       "      <td>1</td>\n",
       "      <td>1</td>\n",
       "      <td>0</td>\n",
       "      <td>1726794000031381708</td>\n",
       "    </tr>\n",
       "    <tr>\n",
       "      <th>195</th>\n",
       "      <td>1726794000031381708</td>\n",
       "      <td>1726794000031000000</td>\n",
       "      <td>1220475499017404610</td>\n",
       "      <td>5</td>\n",
       "      <td>2</td>\n",
       "      <td>8582</td>\n",
       "      <td>B</td>\n",
       "      <td>5</td>\n",
       "      <td>2</td>\n",
       "      <td>2</td>\n",
       "      <td>1726794000031381708</td>\n",
       "    </tr>\n",
       "    <tr>\n",
       "      <th>196</th>\n",
       "      <td>1726794000031381708</td>\n",
       "      <td>1726794000031000000</td>\n",
       "      <td>1220475499017404610</td>\n",
       "      <td>5</td>\n",
       "      <td>2</td>\n",
       "      <td>4107</td>\n",
       "      <td>B</td>\n",
       "      <td>9</td>\n",
       "      <td>3</td>\n",
       "      <td>4</td>\n",
       "      <td>1726794000031381708</td>\n",
       "    </tr>\n",
       "    <tr>\n",
       "      <th>...</th>\n",
       "      <td>...</td>\n",
       "      <td>...</td>\n",
       "      <td>...</td>\n",
       "      <td>...</td>\n",
       "      <td>...</td>\n",
       "      <td>...</td>\n",
       "      <td>...</td>\n",
       "      <td>...</td>\n",
       "      <td>...</td>\n",
       "      <td>...</td>\n",
       "      <td>...</td>\n",
       "    </tr>\n",
       "    <tr>\n",
       "      <th>82948153</th>\n",
       "      <td>1726819710229411205</td>\n",
       "      <td>1726819710229000000</td>\n",
       "      <td>1220475499036927898</td>\n",
       "      <td>5</td>\n",
       "      <td>2</td>\n",
       "      <td>8944</td>\n",
       "      <td>B</td>\n",
       "      <td>35</td>\n",
       "      <td>32</td>\n",
       "      <td>3</td>\n",
       "      <td>1726819710229411205</td>\n",
       "    </tr>\n",
       "    <tr>\n",
       "      <th>82948154</th>\n",
       "      <td>1726819710229411205</td>\n",
       "      <td>1726819710229000000</td>\n",
       "      <td>1220475499036927898</td>\n",
       "      <td>5</td>\n",
       "      <td>2</td>\n",
       "      <td>6722</td>\n",
       "      <td>B</td>\n",
       "      <td>36</td>\n",
       "      <td>33</td>\n",
       "      <td>3</td>\n",
       "      <td>1726819710229411205</td>\n",
       "    </tr>\n",
       "    <tr>\n",
       "      <th>82948155</th>\n",
       "      <td>1726819710229411205</td>\n",
       "      <td>1726819710229000000</td>\n",
       "      <td>1220475499036927898</td>\n",
       "      <td>5</td>\n",
       "      <td>2</td>\n",
       "      <td>318</td>\n",
       "      <td>B</td>\n",
       "      <td>37</td>\n",
       "      <td>34</td>\n",
       "      <td>3</td>\n",
       "      <td>1726819710229411205</td>\n",
       "    </tr>\n",
       "    <tr>\n",
       "      <th>82948156</th>\n",
       "      <td>1726819710229411205</td>\n",
       "      <td>1726819710229000000</td>\n",
       "      <td>1220475499036927898</td>\n",
       "      <td>5</td>\n",
       "      <td>2</td>\n",
       "      <td>9053</td>\n",
       "      <td>B</td>\n",
       "      <td>38</td>\n",
       "      <td>35</td>\n",
       "      <td>3</td>\n",
       "      <td>1726819710229411205</td>\n",
       "    </tr>\n",
       "    <tr>\n",
       "      <th>82948157</th>\n",
       "      <td>1726819710229411205</td>\n",
       "      <td>1726819710229000000</td>\n",
       "      <td>1220475499036927898</td>\n",
       "      <td>5</td>\n",
       "      <td>2</td>\n",
       "      <td>8578</td>\n",
       "      <td>B</td>\n",
       "      <td>39</td>\n",
       "      <td>36</td>\n",
       "      <td>3</td>\n",
       "      <td>1726819710229411205</td>\n",
       "    </tr>\n",
       "  </tbody>\n",
       "</table>\n",
       "<p>597779 rows × 11 columns</p>\n",
       "</div>"
      ],
      "text/plain": [
       "                    received_      timestampNanos_  ...  level_        createdNanos_\n",
       "192       1726794000031381708  1726794000031000000  ...       0  1726794000031381708\n",
       "193       1726794000031381708  1726794000031000000  ...       0  1726794000031381708\n",
       "194       1726794000031381708  1726794000031000000  ...       0  1726794000031381708\n",
       "195       1726794000031381708  1726794000031000000  ...       2  1726794000031381708\n",
       "196       1726794000031381708  1726794000031000000  ...       4  1726794000031381708\n",
       "...                       ...                  ...  ...     ...                  ...\n",
       "82948153  1726819710229411205  1726819710229000000  ...       3  1726819710229411205\n",
       "82948154  1726819710229411205  1726819710229000000  ...       3  1726819710229411205\n",
       "82948155  1726819710229411205  1726819710229000000  ...       3  1726819710229411205\n",
       "82948156  1726819710229411205  1726819710229000000  ...       3  1726819710229411205\n",
       "82948157  1726819710229411205  1726819710229000000  ...       3  1726819710229411205\n",
       "\n",
       "[597779 rows x 11 columns]"
      ]
     },
     "execution_count": 173,
     "metadata": {},
     "output_type": "execute_result"
    }
   ],
   "source": [
    "BQ[BQ[\"securityCode_\"]==5]"
   ]
  },
  {
   "cell_type": "code",
   "execution_count": 0,
   "metadata": {
    "application/vnd.databricks.v1+cell": {
     "cellMetadata": {
      "byteLimit": 2048000,
      "rowLimit": 10000
     },
     "inputWidgets": {},
     "nuid": "aa4bd659-0cd0-4ae2-b19f-f989a11c1aeb",
     "showTitle": false,
     "title": ""
    }
   },
   "outputs": [],
   "source": [
    "book = book[book[\"securityCode_\"]==\"5\"]"
   ]
  },
  {
   "cell_type": "code",
   "execution_count": 0,
   "metadata": {
    "application/vnd.databricks.v1+cell": {
     "cellMetadata": {
      "byteLimit": 2048000,
      "rowLimit": 10000
     },
     "inputWidgets": {},
     "nuid": "87ed9fdc-1514-4660-9649-3b6ca8a6bb5b",
     "showTitle": false,
     "title": ""
    }
   },
   "outputs": [],
   "source": [
    "book.to_parquet(\"data/book.parquet\")"
   ]
  },
  {
   "cell_type": "code",
   "execution_count": 0,
   "metadata": {
    "application/vnd.databricks.v1+cell": {
     "cellMetadata": {
      "byteLimit": 2048000,
      "rowLimit": 10000
     },
     "inputWidgets": {},
     "nuid": "05f123d3-dd19-4eb1-aa58-52dd54cba741",
     "showTitle": false,
     "title": ""
    }
   },
   "outputs": [
    {
     "output_type": "display_data",
     "data": {
      "text/plain": [
       "com.databricks.backend.common.rpc.CommandCancelledException\n",
       "\tat com.databricks.spark.chauffeur.SequenceExecutionState.$anonfun$cancel$5(SequenceExecutionState.scala:136)\n",
       "\tat scala.Option.getOrElse(Option.scala:189)\n",
       "\tat com.databricks.spark.chauffeur.SequenceExecutionState.$anonfun$cancel$3(SequenceExecutionState.scala:136)\n",
       "\tat com.databricks.spark.chauffeur.SequenceExecutionState.$anonfun$cancel$3$adapted(SequenceExecutionState.scala:133)\n",
       "\tat scala.collection.immutable.Range.foreach(Range.scala:158)\n",
       "\tat com.databricks.spark.chauffeur.SequenceExecutionState.cancel(SequenceExecutionState.scala:133)\n",
       "\tat com.databricks.spark.chauffeur.ExecContextState.cancelRunningSequence(ExecContextState.scala:729)\n",
       "\tat com.databricks.spark.chauffeur.ExecContextState.$anonfun$cancel$1(ExecContextState.scala:447)\n",
       "\tat scala.Option.getOrElse(Option.scala:189)\n",
       "\tat com.databricks.spark.chauffeur.ExecContextState.cancel(ExecContextState.scala:447)\n",
       "\tat com.databricks.spark.chauffeur.ChauffeurState.cancelExecution(ChauffeurState.scala:1272)\n",
       "\tat com.databricks.spark.chauffeur.ChauffeurState.$anonfun$process$1(ChauffeurState.scala:987)\n",
       "\tat com.databricks.logging.UsageLogging.$anonfun$recordOperation$1(UsageLogging.scala:532)\n",
       "\tat com.databricks.logging.UsageLogging.executeThunkAndCaptureResultTags$1(UsageLogging.scala:636)\n",
       "\tat com.databricks.logging.UsageLogging.$anonfun$recordOperationWithResultTags$4(UsageLogging.scala:654)\n",
       "\tat com.databricks.logging.AttributionContextTracing.$anonfun$withAttributionContext$1(AttributionContextTracing.scala:48)\n",
       "\tat com.databricks.logging.AttributionContext$.$anonfun$withValue$1(AttributionContext.scala:253)\n",
       "\tat scala.util.DynamicVariable.withValue(DynamicVariable.scala:62)\n",
       "\tat com.databricks.logging.AttributionContext$.withValue(AttributionContext.scala:249)\n",
       "\tat com.databricks.logging.AttributionContextTracing.withAttributionContext(AttributionContextTracing.scala:46)\n",
       "\tat com.databricks.logging.AttributionContextTracing.withAttributionContext$(AttributionContextTracing.scala:43)\n",
       "\tat com.databricks.spark.chauffeur.ChauffeurState.withAttributionContext(ChauffeurState.scala:68)\n",
       "\tat com.databricks.logging.AttributionContextTracing.withAttributionTags(AttributionContextTracing.scala:95)\n",
       "\tat com.databricks.logging.AttributionContextTracing.withAttributionTags$(AttributionContextTracing.scala:76)\n",
       "\tat com.databricks.spark.chauffeur.ChauffeurState.withAttributionTags(ChauffeurState.scala:68)\n",
       "\tat com.databricks.logging.UsageLogging.recordOperationWithResultTags(UsageLogging.scala:631)\n",
       "\tat com.databricks.logging.UsageLogging.recordOperationWithResultTags$(UsageLogging.scala:541)\n",
       "\tat com.databricks.spark.chauffeur.ChauffeurState.recordOperationWithResultTags(ChauffeurState.scala:68)\n",
       "\tat com.databricks.logging.UsageLogging.recordOperation(UsageLogging.scala:533)\n",
       "\tat com.databricks.logging.UsageLogging.recordOperation$(UsageLogging.scala:501)\n",
       "\tat com.databricks.spark.chauffeur.ChauffeurState.recordOperation(ChauffeurState.scala:68)\n",
       "\tat com.databricks.spark.chauffeur.ChauffeurState.process(ChauffeurState.scala:947)\n",
       "\tat com.databricks.spark.chauffeur.Chauffeur$$anon$1$$anonfun$receive$1.handleDriverRequest$1(Chauffeur.scala:789)\n",
       "\tat com.databricks.spark.chauffeur.Chauffeur$$anon$1$$anonfun$receive$1.$anonfun$applyOrElse$5(Chauffeur.scala:815)\n",
       "\tat com.databricks.logging.UsageLogging.executeThunkAndCaptureResultTags$1(UsageLogging.scala:636)\n",
       "\tat com.databricks.logging.UsageLogging.$anonfun$recordOperationWithResultTags$4(UsageLogging.scala:654)\n",
       "\tat com.databricks.logging.AttributionContextTracing.$anonfun$withAttributionContext$1(AttributionContextTracing.scala:48)\n",
       "\tat com.databricks.logging.AttributionContext$.$anonfun$withValue$1(AttributionContext.scala:253)\n",
       "\tat scala.util.DynamicVariable.withValue(DynamicVariable.scala:62)\n",
       "\tat com.databricks.logging.AttributionContext$.withValue(AttributionContext.scala:249)\n",
       "\tat com.databricks.logging.AttributionContextTracing.withAttributionContext(AttributionContextTracing.scala:46)\n",
       "\tat com.databricks.logging.AttributionContextTracing.withAttributionContext$(AttributionContextTracing.scala:43)\n",
       "\tat com.databricks.rpc.ServerBackend.withAttributionContext(ServerBackend.scala:22)\n",
       "\tat com.databricks.logging.AttributionContextTracing.withAttributionTags(AttributionContextTracing.scala:95)\n",
       "\tat com.databricks.logging.AttributionContextTracing.withAttributionTags$(AttributionContextTracing.scala:76)\n",
       "\tat com.databricks.rpc.ServerBackend.withAttributionTags(ServerBackend.scala:22)\n",
       "\tat com.databricks.logging.UsageLogging.recordOperationWithResultTags(UsageLogging.scala:631)\n",
       "\tat com.databricks.logging.UsageLogging.recordOperationWithResultTags$(UsageLogging.scala:541)\n",
       "\tat com.databricks.rpc.ServerBackend.recordOperationWithResultTags(ServerBackend.scala:22)\n",
       "\tat com.databricks.spark.chauffeur.Chauffeur$$anon$1$$anonfun$receive$1.handleDriverRequestWithUsageLogging$1(Chauffeur.scala:814)\n",
       "\tat com.databricks.spark.chauffeur.Chauffeur$$anon$1$$anonfun$receive$1.applyOrElse(Chauffeur.scala:869)\n",
       "\tat com.databricks.spark.chauffeur.Chauffeur$$anon$1$$anonfun$receive$1.applyOrElse(Chauffeur.scala:662)\n",
       "\tat com.databricks.rpc.ServerBackend.$anonfun$internalReceive0$2(ServerBackend.scala:174)\n",
       "\tat com.databricks.rpc.ServerBackend$$anonfun$commonReceive$1.applyOrElse(ServerBackend.scala:200)\n",
       "\tat com.databricks.rpc.ServerBackend$$anonfun$commonReceive$1.applyOrElse(ServerBackend.scala:200)\n",
       "\tat com.databricks.rpc.ServerBackend.internalReceive0(ServerBackend.scala:171)\n",
       "\tat com.databricks.rpc.ServerBackend.$anonfun$internalReceive$1(ServerBackend.scala:147)\n",
       "\tat com.databricks.logging.UsageLogging.$anonfun$recordOperation$1(UsageLogging.scala:532)\n",
       "\tat com.databricks.logging.UsageLogging.executeThunkAndCaptureResultTags$1(UsageLogging.scala:636)\n",
       "\tat com.databricks.logging.UsageLogging.$anonfun$recordOperationWithResultTags$4(UsageLogging.scala:654)\n",
       "\tat com.databricks.logging.AttributionContextTracing.$anonfun$withAttributionContext$1(AttributionContextTracing.scala:48)\n",
       "\tat com.databricks.logging.AttributionContext$.$anonfun$withValue$1(AttributionContext.scala:253)\n",
       "\tat scala.util.DynamicVariable.withValue(DynamicVariable.scala:62)\n",
       "\tat com.databricks.logging.AttributionContext$.withValue(AttributionContext.scala:249)\n",
       "\tat com.databricks.logging.AttributionContextTracing.withAttributionContext(AttributionContextTracing.scala:46)\n",
       "\tat com.databricks.logging.AttributionContextTracing.withAttributionContext$(AttributionContextTracing.scala:43)\n",
       "\tat com.databricks.rpc.ServerBackend.withAttributionContext(ServerBackend.scala:22)\n",
       "\tat com.databricks.logging.AttributionContextTracing.withAttributionTags(AttributionContextTracing.scala:95)\n",
       "\tat com.databricks.logging.AttributionContextTracing.withAttributionTags$(AttributionContextTracing.scala:76)\n",
       "\tat com.databricks.rpc.ServerBackend.withAttributionTags(ServerBackend.scala:22)\n",
       "\tat com.databricks.logging.UsageLogging.recordOperationWithResultTags(UsageLogging.scala:631)\n",
       "\tat com.databricks.logging.UsageLogging.recordOperationWithResultTags$(UsageLogging.scala:541)\n",
       "\tat com.databricks.rpc.ServerBackend.recordOperationWithResultTags(ServerBackend.scala:22)\n",
       "\tat com.databricks.logging.UsageLogging.recordOperation(UsageLogging.scala:533)\n",
       "\tat com.databricks.logging.UsageLogging.recordOperation$(UsageLogging.scala:501)\n",
       "\tat com.databricks.rpc.ServerBackend.recordOperation(ServerBackend.scala:22)\n",
       "\tat com.databricks.rpc.ServerBackend.internalReceive(ServerBackend.scala:146)\n",
       "\tat com.databricks.rpc.JettyServer$RequestManager.handleRPC(JettyServer.scala:1021)\n",
       "\tat com.databricks.rpc.JettyServer$RequestManager.handleRequestAndRespond(JettyServer.scala:942)\n",
       "\tat com.databricks.rpc.JettyServer$RequestManager.$anonfun$handleHttp$6(JettyServer.scala:546)\n",
       "\tat com.databricks.rpc.JettyServer$RequestManager.$anonfun$handleHttp$6$adapted(JettyServer.scala:515)\n",
       "\tat com.databricks.logging.activity.ActivityContextFactory$.$anonfun$withActivityInternal$6(ActivityContextFactory.scala:549)\n",
       "\tat com.databricks.logging.AttributionContextTracing.$anonfun$withAttributionContext$1(AttributionContextTracing.scala:48)\n",
       "\tat com.databricks.logging.AttributionContext$.$anonfun$withValue$1(AttributionContext.scala:253)\n",
       "\tat scala.util.DynamicVariable.withValue(DynamicVariable.scala:62)\n",
       "\tat com.databricks.logging.AttributionContext$.withValue(AttributionContext.scala:249)\n",
       "\tat com.databricks.logging.AttributionContextTracing.withAttributionContext(AttributionContextTracing.scala:46)\n",
       "\tat com.databricks.logging.AttributionContextTracing.withAttributionContext$(AttributionContextTracing.scala:43)\n",
       "\tat com.databricks.logging.activity.ActivityContextFactory$.withAttributionContext(ActivityContextFactory.scala:57)\n",
       "\tat com.databricks.logging.activity.ActivityContextFactory$.$anonfun$withActivityInternal$3(ActivityContextFactory.scala:549)\n",
       "\tat com.databricks.context.integrity.IntegrityCheckContext$ThreadLocalStorage$.withValue(IntegrityCheckContext.scala:73)\n",
       "\tat com.databricks.logging.activity.ActivityContextFactory$.withActivityInternal(ActivityContextFactory.scala:527)\n",
       "\tat com.databricks.logging.activity.ActivityContextFactory$.withServiceRequestActivity(ActivityContextFactory.scala:178)\n",
       "\tat com.databricks.rpc.JettyServer$RequestManager.handleHttp(JettyServer.scala:515)\n",
       "\tat com.databricks.rpc.JettyServer$RequestManager.doPost(JettyServer.scala:405)\n",
       "\tat javax.servlet.http.HttpServlet.service(HttpServlet.java:665)\n",
       "\tat com.databricks.rpc.HttpServletWithPatch.service(HttpServletWithPatch.scala:33)\n",
       "\tat javax.servlet.http.HttpServlet.service(HttpServlet.java:750)\n",
       "\tat org.eclipse.jetty.servlet.ServletHolder.handle(ServletHolder.java:799)\n",
       "\tat org.eclipse.jetty.servlet.ServletHandler.doHandle(ServletHandler.java:554)\n",
       "\tat org.eclipse.jetty.server.handler.ScopedHandler.nextScope(ScopedHandler.java:190)\n",
       "\tat org.eclipse.jetty.servlet.ServletHandler.doScope(ServletHandler.java:505)\n",
       "\tat org.eclipse.jetty.server.handler.ScopedHandler.handle(ScopedHandler.java:141)\n",
       "\tat org.eclipse.jetty.server.handler.HandlerWrapper.handle(HandlerWrapper.java:127)\n",
       "\tat org.eclipse.jetty.server.Server.handle(Server.java:516)\n",
       "\tat org.eclipse.jetty.server.HttpChannel.lambda$handle$1(HttpChannel.java:487)\n",
       "\tat org.eclipse.jetty.server.HttpChannel.dispatch(HttpChannel.java:732)\n",
       "\tat org.eclipse.jetty.server.HttpChannel.handle(HttpChannel.java:479)\n",
       "\tat org.eclipse.jetty.server.HttpConnection.onFillable(HttpConnection.java:277)\n",
       "\tat org.eclipse.jetty.io.AbstractConnection$ReadCallback.succeeded(AbstractConnection.java:311)\n",
       "\tat org.eclipse.jetty.io.FillInterest.fillable(FillInterest.java:105)\n",
       "\tat org.eclipse.jetty.io.ssl.SslConnection$DecryptedEndPoint.onFillable(SslConnection.java:555)\n",
       "\tat org.eclipse.jetty.io.ssl.SslConnection.onFillable(SslConnection.java:410)\n",
       "\tat org.eclipse.jetty.io.ssl.SslConnection$2.succeeded(SslConnection.java:164)\n",
       "\tat org.eclipse.jetty.io.FillInterest.fillable(FillInterest.java:105)\n",
       "\tat org.eclipse.jetty.io.ChannelEndPoint$1.run(ChannelEndPoint.java:104)\n",
       "\tat org.eclipse.jetty.util.thread.strategy.EatWhatYouKill.runTask(EatWhatYouKill.java:338)\n",
       "\tat org.eclipse.jetty.util.thread.strategy.EatWhatYouKill.doProduce(EatWhatYouKill.java:315)\n",
       "\tat org.eclipse.jetty.util.thread.strategy.EatWhatYouKill.tryProduce(EatWhatYouKill.java:173)\n",
       "\tat org.eclipse.jetty.util.thread.strategy.EatWhatYouKill.run(EatWhatYouKill.java:131)\n",
       "\tat org.eclipse.jetty.util.thread.ReservedThreadExecutor$ReservedThread.run(ReservedThreadExecutor.java:409)\n",
       "\tat com.databricks.rpc.InstrumentedQueuedThreadPool$$anon$1.$anonfun$run$2(InstrumentedQueuedThreadPool.scala:107)\n",
       "\tat scala.runtime.java8.JFunction0$mcV$sp.apply(JFunction0$mcV$sp.java:23)\n",
       "\tat com.databricks.logging.AttributionContextTracing.$anonfun$withAttributionContext$1(AttributionContextTracing.scala:48)\n",
       "\tat com.databricks.logging.AttributionContext$.$anonfun$withValue$1(AttributionContext.scala:253)\n",
       "\tat scala.util.DynamicVariable.withValue(DynamicVariable.scala:62)\n",
       "\tat com.databricks.logging.AttributionContext$.withValue(AttributionContext.scala:249)\n",
       "\tat com.databricks.logging.AttributionContextTracing.withAttributionContext(AttributionContextTracing.scala:46)\n",
       "\tat com.databricks.logging.AttributionContextTracing.withAttributionContext$(AttributionContextTracing.scala:43)\n",
       "\tat com.databricks.rpc.InstrumentedQueuedThreadPool.withAttributionContext(InstrumentedQueuedThreadPool.scala:46)\n",
       "\tat com.databricks.rpc.InstrumentedQueuedThreadPool$$anon$1.$anonfun$run$1(InstrumentedQueuedThreadPool.scala:107)\n",
       "\tat scala.runtime.java8.JFunction0$mcV$sp.apply(JFunction0$mcV$sp.java:23)\n",
       "\tat com.databricks.instrumentation.QueuedThreadPoolInstrumenter.trackActiveThreads(QueuedThreadPoolInstrumenter.scala:110)\n",
       "\tat com.databricks.instrumentation.QueuedThreadPoolInstrumenter.trackActiveThreads$(QueuedThreadPoolInstrumenter.scala:107)\n",
       "\tat com.databricks.rpc.InstrumentedQueuedThreadPool.trackActiveThreads(InstrumentedQueuedThreadPool.scala:46)\n",
       "\tat com.databricks.rpc.InstrumentedQueuedThreadPool$$anon$1.run(InstrumentedQueuedThreadPool.scala:89)\n",
       "\tat org.eclipse.jetty.util.thread.QueuedThreadPool.runJob(QueuedThreadPool.java:883)\n",
       "\tat org.eclipse.jetty.util.thread.QueuedThreadPool$Runner.run(QueuedThreadPool.java:1034)\n",
       "\tat java.lang.Thread.run(Thread.java:750)"
      ]
     },
     "metadata": {
      "application/vnd.databricks.v1+output": {
       "addedWidgets": {},
       "arguments": {},
       "datasetInfos": [],
       "jupyterProps": null,
       "metadata": {
        "errorSummary": "Cancelled"
       },
       "removedWidgets": [],
       "sqlProps": null,
       "stackFrames": [
        "com.databricks.backend.common.rpc.CommandCancelledException",
        "\tat com.databricks.spark.chauffeur.SequenceExecutionState.$anonfun$cancel$5(SequenceExecutionState.scala:136)",
        "\tat scala.Option.getOrElse(Option.scala:189)",
        "\tat com.databricks.spark.chauffeur.SequenceExecutionState.$anonfun$cancel$3(SequenceExecutionState.scala:136)",
        "\tat com.databricks.spark.chauffeur.SequenceExecutionState.$anonfun$cancel$3$adapted(SequenceExecutionState.scala:133)",
        "\tat scala.collection.immutable.Range.foreach(Range.scala:158)",
        "\tat com.databricks.spark.chauffeur.SequenceExecutionState.cancel(SequenceExecutionState.scala:133)",
        "\tat com.databricks.spark.chauffeur.ExecContextState.cancelRunningSequence(ExecContextState.scala:729)",
        "\tat com.databricks.spark.chauffeur.ExecContextState.$anonfun$cancel$1(ExecContextState.scala:447)",
        "\tat scala.Option.getOrElse(Option.scala:189)",
        "\tat com.databricks.spark.chauffeur.ExecContextState.cancel(ExecContextState.scala:447)",
        "\tat com.databricks.spark.chauffeur.ChauffeurState.cancelExecution(ChauffeurState.scala:1272)",
        "\tat com.databricks.spark.chauffeur.ChauffeurState.$anonfun$process$1(ChauffeurState.scala:987)",
        "\tat com.databricks.logging.UsageLogging.$anonfun$recordOperation$1(UsageLogging.scala:532)",
        "\tat com.databricks.logging.UsageLogging.executeThunkAndCaptureResultTags$1(UsageLogging.scala:636)",
        "\tat com.databricks.logging.UsageLogging.$anonfun$recordOperationWithResultTags$4(UsageLogging.scala:654)",
        "\tat com.databricks.logging.AttributionContextTracing.$anonfun$withAttributionContext$1(AttributionContextTracing.scala:48)",
        "\tat com.databricks.logging.AttributionContext$.$anonfun$withValue$1(AttributionContext.scala:253)",
        "\tat scala.util.DynamicVariable.withValue(DynamicVariable.scala:62)",
        "\tat com.databricks.logging.AttributionContext$.withValue(AttributionContext.scala:249)",
        "\tat com.databricks.logging.AttributionContextTracing.withAttributionContext(AttributionContextTracing.scala:46)",
        "\tat com.databricks.logging.AttributionContextTracing.withAttributionContext$(AttributionContextTracing.scala:43)",
        "\tat com.databricks.spark.chauffeur.ChauffeurState.withAttributionContext(ChauffeurState.scala:68)",
        "\tat com.databricks.logging.AttributionContextTracing.withAttributionTags(AttributionContextTracing.scala:95)",
        "\tat com.databricks.logging.AttributionContextTracing.withAttributionTags$(AttributionContextTracing.scala:76)",
        "\tat com.databricks.spark.chauffeur.ChauffeurState.withAttributionTags(ChauffeurState.scala:68)",
        "\tat com.databricks.logging.UsageLogging.recordOperationWithResultTags(UsageLogging.scala:631)",
        "\tat com.databricks.logging.UsageLogging.recordOperationWithResultTags$(UsageLogging.scala:541)",
        "\tat com.databricks.spark.chauffeur.ChauffeurState.recordOperationWithResultTags(ChauffeurState.scala:68)",
        "\tat com.databricks.logging.UsageLogging.recordOperation(UsageLogging.scala:533)",
        "\tat com.databricks.logging.UsageLogging.recordOperation$(UsageLogging.scala:501)",
        "\tat com.databricks.spark.chauffeur.ChauffeurState.recordOperation(ChauffeurState.scala:68)",
        "\tat com.databricks.spark.chauffeur.ChauffeurState.process(ChauffeurState.scala:947)",
        "\tat com.databricks.spark.chauffeur.Chauffeur$$anon$1$$anonfun$receive$1.handleDriverRequest$1(Chauffeur.scala:789)",
        "\tat com.databricks.spark.chauffeur.Chauffeur$$anon$1$$anonfun$receive$1.$anonfun$applyOrElse$5(Chauffeur.scala:815)",
        "\tat com.databricks.logging.UsageLogging.executeThunkAndCaptureResultTags$1(UsageLogging.scala:636)",
        "\tat com.databricks.logging.UsageLogging.$anonfun$recordOperationWithResultTags$4(UsageLogging.scala:654)",
        "\tat com.databricks.logging.AttributionContextTracing.$anonfun$withAttributionContext$1(AttributionContextTracing.scala:48)",
        "\tat com.databricks.logging.AttributionContext$.$anonfun$withValue$1(AttributionContext.scala:253)",
        "\tat scala.util.DynamicVariable.withValue(DynamicVariable.scala:62)",
        "\tat com.databricks.logging.AttributionContext$.withValue(AttributionContext.scala:249)",
        "\tat com.databricks.logging.AttributionContextTracing.withAttributionContext(AttributionContextTracing.scala:46)",
        "\tat com.databricks.logging.AttributionContextTracing.withAttributionContext$(AttributionContextTracing.scala:43)",
        "\tat com.databricks.rpc.ServerBackend.withAttributionContext(ServerBackend.scala:22)",
        "\tat com.databricks.logging.AttributionContextTracing.withAttributionTags(AttributionContextTracing.scala:95)",
        "\tat com.databricks.logging.AttributionContextTracing.withAttributionTags$(AttributionContextTracing.scala:76)",
        "\tat com.databricks.rpc.ServerBackend.withAttributionTags(ServerBackend.scala:22)",
        "\tat com.databricks.logging.UsageLogging.recordOperationWithResultTags(UsageLogging.scala:631)",
        "\tat com.databricks.logging.UsageLogging.recordOperationWithResultTags$(UsageLogging.scala:541)",
        "\tat com.databricks.rpc.ServerBackend.recordOperationWithResultTags(ServerBackend.scala:22)",
        "\tat com.databricks.spark.chauffeur.Chauffeur$$anon$1$$anonfun$receive$1.handleDriverRequestWithUsageLogging$1(Chauffeur.scala:814)",
        "\tat com.databricks.spark.chauffeur.Chauffeur$$anon$1$$anonfun$receive$1.applyOrElse(Chauffeur.scala:869)",
        "\tat com.databricks.spark.chauffeur.Chauffeur$$anon$1$$anonfun$receive$1.applyOrElse(Chauffeur.scala:662)",
        "\tat com.databricks.rpc.ServerBackend.$anonfun$internalReceive0$2(ServerBackend.scala:174)",
        "\tat com.databricks.rpc.ServerBackend$$anonfun$commonReceive$1.applyOrElse(ServerBackend.scala:200)",
        "\tat com.databricks.rpc.ServerBackend$$anonfun$commonReceive$1.applyOrElse(ServerBackend.scala:200)",
        "\tat com.databricks.rpc.ServerBackend.internalReceive0(ServerBackend.scala:171)",
        "\tat com.databricks.rpc.ServerBackend.$anonfun$internalReceive$1(ServerBackend.scala:147)",
        "\tat com.databricks.logging.UsageLogging.$anonfun$recordOperation$1(UsageLogging.scala:532)",
        "\tat com.databricks.logging.UsageLogging.executeThunkAndCaptureResultTags$1(UsageLogging.scala:636)",
        "\tat com.databricks.logging.UsageLogging.$anonfun$recordOperationWithResultTags$4(UsageLogging.scala:654)",
        "\tat com.databricks.logging.AttributionContextTracing.$anonfun$withAttributionContext$1(AttributionContextTracing.scala:48)",
        "\tat com.databricks.logging.AttributionContext$.$anonfun$withValue$1(AttributionContext.scala:253)",
        "\tat scala.util.DynamicVariable.withValue(DynamicVariable.scala:62)",
        "\tat com.databricks.logging.AttributionContext$.withValue(AttributionContext.scala:249)",
        "\tat com.databricks.logging.AttributionContextTracing.withAttributionContext(AttributionContextTracing.scala:46)",
        "\tat com.databricks.logging.AttributionContextTracing.withAttributionContext$(AttributionContextTracing.scala:43)",
        "\tat com.databricks.rpc.ServerBackend.withAttributionContext(ServerBackend.scala:22)",
        "\tat com.databricks.logging.AttributionContextTracing.withAttributionTags(AttributionContextTracing.scala:95)",
        "\tat com.databricks.logging.AttributionContextTracing.withAttributionTags$(AttributionContextTracing.scala:76)",
        "\tat com.databricks.rpc.ServerBackend.withAttributionTags(ServerBackend.scala:22)",
        "\tat com.databricks.logging.UsageLogging.recordOperationWithResultTags(UsageLogging.scala:631)",
        "\tat com.databricks.logging.UsageLogging.recordOperationWithResultTags$(UsageLogging.scala:541)",
        "\tat com.databricks.rpc.ServerBackend.recordOperationWithResultTags(ServerBackend.scala:22)",
        "\tat com.databricks.logging.UsageLogging.recordOperation(UsageLogging.scala:533)",
        "\tat com.databricks.logging.UsageLogging.recordOperation$(UsageLogging.scala:501)",
        "\tat com.databricks.rpc.ServerBackend.recordOperation(ServerBackend.scala:22)",
        "\tat com.databricks.rpc.ServerBackend.internalReceive(ServerBackend.scala:146)",
        "\tat com.databricks.rpc.JettyServer$RequestManager.handleRPC(JettyServer.scala:1021)",
        "\tat com.databricks.rpc.JettyServer$RequestManager.handleRequestAndRespond(JettyServer.scala:942)",
        "\tat com.databricks.rpc.JettyServer$RequestManager.$anonfun$handleHttp$6(JettyServer.scala:546)",
        "\tat com.databricks.rpc.JettyServer$RequestManager.$anonfun$handleHttp$6$adapted(JettyServer.scala:515)",
        "\tat com.databricks.logging.activity.ActivityContextFactory$.$anonfun$withActivityInternal$6(ActivityContextFactory.scala:549)",
        "\tat com.databricks.logging.AttributionContextTracing.$anonfun$withAttributionContext$1(AttributionContextTracing.scala:48)",
        "\tat com.databricks.logging.AttributionContext$.$anonfun$withValue$1(AttributionContext.scala:253)",
        "\tat scala.util.DynamicVariable.withValue(DynamicVariable.scala:62)",
        "\tat com.databricks.logging.AttributionContext$.withValue(AttributionContext.scala:249)",
        "\tat com.databricks.logging.AttributionContextTracing.withAttributionContext(AttributionContextTracing.scala:46)",
        "\tat com.databricks.logging.AttributionContextTracing.withAttributionContext$(AttributionContextTracing.scala:43)",
        "\tat com.databricks.logging.activity.ActivityContextFactory$.withAttributionContext(ActivityContextFactory.scala:57)",
        "\tat com.databricks.logging.activity.ActivityContextFactory$.$anonfun$withActivityInternal$3(ActivityContextFactory.scala:549)",
        "\tat com.databricks.context.integrity.IntegrityCheckContext$ThreadLocalStorage$.withValue(IntegrityCheckContext.scala:73)",
        "\tat com.databricks.logging.activity.ActivityContextFactory$.withActivityInternal(ActivityContextFactory.scala:527)",
        "\tat com.databricks.logging.activity.ActivityContextFactory$.withServiceRequestActivity(ActivityContextFactory.scala:178)",
        "\tat com.databricks.rpc.JettyServer$RequestManager.handleHttp(JettyServer.scala:515)",
        "\tat com.databricks.rpc.JettyServer$RequestManager.doPost(JettyServer.scala:405)",
        "\tat javax.servlet.http.HttpServlet.service(HttpServlet.java:665)",
        "\tat com.databricks.rpc.HttpServletWithPatch.service(HttpServletWithPatch.scala:33)",
        "\tat javax.servlet.http.HttpServlet.service(HttpServlet.java:750)",
        "\tat org.eclipse.jetty.servlet.ServletHolder.handle(ServletHolder.java:799)",
        "\tat org.eclipse.jetty.servlet.ServletHandler.doHandle(ServletHandler.java:554)",
        "\tat org.eclipse.jetty.server.handler.ScopedHandler.nextScope(ScopedHandler.java:190)",
        "\tat org.eclipse.jetty.servlet.ServletHandler.doScope(ServletHandler.java:505)",
        "\tat org.eclipse.jetty.server.handler.ScopedHandler.handle(ScopedHandler.java:141)",
        "\tat org.eclipse.jetty.server.handler.HandlerWrapper.handle(HandlerWrapper.java:127)",
        "\tat org.eclipse.jetty.server.Server.handle(Server.java:516)",
        "\tat org.eclipse.jetty.server.HttpChannel.lambda$handle$1(HttpChannel.java:487)",
        "\tat org.eclipse.jetty.server.HttpChannel.dispatch(HttpChannel.java:732)",
        "\tat org.eclipse.jetty.server.HttpChannel.handle(HttpChannel.java:479)",
        "\tat org.eclipse.jetty.server.HttpConnection.onFillable(HttpConnection.java:277)",
        "\tat org.eclipse.jetty.io.AbstractConnection$ReadCallback.succeeded(AbstractConnection.java:311)",
        "\tat org.eclipse.jetty.io.FillInterest.fillable(FillInterest.java:105)",
        "\tat org.eclipse.jetty.io.ssl.SslConnection$DecryptedEndPoint.onFillable(SslConnection.java:555)",
        "\tat org.eclipse.jetty.io.ssl.SslConnection.onFillable(SslConnection.java:410)",
        "\tat org.eclipse.jetty.io.ssl.SslConnection$2.succeeded(SslConnection.java:164)",
        "\tat org.eclipse.jetty.io.FillInterest.fillable(FillInterest.java:105)",
        "\tat org.eclipse.jetty.io.ChannelEndPoint$1.run(ChannelEndPoint.java:104)",
        "\tat org.eclipse.jetty.util.thread.strategy.EatWhatYouKill.runTask(EatWhatYouKill.java:338)",
        "\tat org.eclipse.jetty.util.thread.strategy.EatWhatYouKill.doProduce(EatWhatYouKill.java:315)",
        "\tat org.eclipse.jetty.util.thread.strategy.EatWhatYouKill.tryProduce(EatWhatYouKill.java:173)",
        "\tat org.eclipse.jetty.util.thread.strategy.EatWhatYouKill.run(EatWhatYouKill.java:131)",
        "\tat org.eclipse.jetty.util.thread.ReservedThreadExecutor$ReservedThread.run(ReservedThreadExecutor.java:409)",
        "\tat com.databricks.rpc.InstrumentedQueuedThreadPool$$anon$1.$anonfun$run$2(InstrumentedQueuedThreadPool.scala:107)",
        "\tat scala.runtime.java8.JFunction0$mcV$sp.apply(JFunction0$mcV$sp.java:23)",
        "\tat com.databricks.logging.AttributionContextTracing.$anonfun$withAttributionContext$1(AttributionContextTracing.scala:48)",
        "\tat com.databricks.logging.AttributionContext$.$anonfun$withValue$1(AttributionContext.scala:253)",
        "\tat scala.util.DynamicVariable.withValue(DynamicVariable.scala:62)",
        "\tat com.databricks.logging.AttributionContext$.withValue(AttributionContext.scala:249)",
        "\tat com.databricks.logging.AttributionContextTracing.withAttributionContext(AttributionContextTracing.scala:46)",
        "\tat com.databricks.logging.AttributionContextTracing.withAttributionContext$(AttributionContextTracing.scala:43)",
        "\tat com.databricks.rpc.InstrumentedQueuedThreadPool.withAttributionContext(InstrumentedQueuedThreadPool.scala:46)",
        "\tat com.databricks.rpc.InstrumentedQueuedThreadPool$$anon$1.$anonfun$run$1(InstrumentedQueuedThreadPool.scala:107)",
        "\tat scala.runtime.java8.JFunction0$mcV$sp.apply(JFunction0$mcV$sp.java:23)",
        "\tat com.databricks.instrumentation.QueuedThreadPoolInstrumenter.trackActiveThreads(QueuedThreadPoolInstrumenter.scala:110)",
        "\tat com.databricks.instrumentation.QueuedThreadPoolInstrumenter.trackActiveThreads$(QueuedThreadPoolInstrumenter.scala:107)",
        "\tat com.databricks.rpc.InstrumentedQueuedThreadPool.trackActiveThreads(InstrumentedQueuedThreadPool.scala:46)",
        "\tat com.databricks.rpc.InstrumentedQueuedThreadPool$$anon$1.run(InstrumentedQueuedThreadPool.scala:89)",
        "\tat org.eclipse.jetty.util.thread.QueuedThreadPool.runJob(QueuedThreadPool.java:883)",
        "\tat org.eclipse.jetty.util.thread.QueuedThreadPool$Runner.run(QueuedThreadPool.java:1034)",
        "\tat java.lang.Thread.run(Thread.java:750)"
       ],
       "type": "baseError"
      }
     },
     "output_type": "display_data"
    }
   ],
   "source": [
    "private_trade.to_parquet(\"data/private_trade.parquet\")\n",
    "private_feed.to_parquet(\"data/private_feed.parquet\")\n",
    "order_insert.to_parquet(\"data/order_insert.parquet\")\n",
    "delete_operation.to_parquet(\"data/delete_operation.parquet\")\n",
    "book.to_parquet(\"data/book.parquet\")"
   ]
  },
  {
   "cell_type": "code",
   "execution_count": 0,
   "metadata": {
    "application/vnd.databricks.v1+cell": {
     "cellMetadata": {
      "byteLimit": 2048000,
      "rowLimit": 10000
     },
     "inputWidgets": {},
     "nuid": "c93f51a6-2b94-4ada-9a63-5745c822dab5",
     "showTitle": false,
     "title": ""
    }
   },
   "outputs": [
    {
     "output_type": "execute_result",
     "data": {
      "text/html": [
       "<div>\n",
       "<style scoped>\n",
       "    .dataframe tbody tr th:only-of-type {\n",
       "        vertical-align: middle;\n",
       "    }\n",
       "\n",
       "    .dataframe tbody tr th {\n",
       "        vertical-align: top;\n",
       "    }\n",
       "\n",
       "    .dataframe thead th {\n",
       "        text-align: right;\n",
       "    }\n",
       "</style>\n",
       "<table border=\"1\" class=\"dataframe\">\n",
       "  <thead>\n",
       "    <tr style=\"text-align: right;\">\n",
       "      <th></th>\n",
       "      <th>received_</th>\n",
       "      <th>timestampNanos_</th>\n",
       "      <th>eeid_event_id</th>\n",
       "      <th>securityCode_</th>\n",
       "      <th>side_</th>\n",
       "      <th>brokerNumber_</th>\n",
       "      <th>type</th>\n",
       "      <th>broker_queue_msg_index</th>\n",
       "      <th>priority_</th>\n",
       "      <th>level_</th>\n",
       "      <th>createdNanos_</th>\n",
       "    </tr>\n",
       "  </thead>\n",
       "  <tbody>\n",
       "  </tbody>\n",
       "</table>\n",
       "</div>"
      ],
      "text/plain": [
       "Empty DataFrame\n",
       "Columns: [received_, timestampNanos_, eeid_event_id, securityCode_, side_, brokerNumber_, type, broker_queue_msg_index, priority_, level_, createdNanos_]\n",
       "Index: []"
      ]
     },
     "execution_count": 165,
     "metadata": {},
     "output_type": "execute_result"
    }
   ],
   "source": [
    "BQ.head()"
   ]
  },
  {
   "cell_type": "code",
   "execution_count": 0,
   "metadata": {
    "application/vnd.databricks.v1+cell": {
     "cellMetadata": {
      "byteLimit": 2048000,
      "rowLimit": 10000
     },
     "inputWidgets": {},
     "nuid": "ee1c900c-8b15-4c04-8220-05e2432347bf",
     "showTitle": false,
     "title": ""
    }
   },
   "outputs": [],
   "source": [
    "BQ = pd.read_parquet(\"data/BQ.parquet\")"
   ]
  },
  {
   "cell_type": "code",
   "execution_count": 0,
   "metadata": {
    "application/vnd.databricks.v1+cell": {
     "cellMetadata": {
      "byteLimit": 2048000,
      "rowLimit": 10000
     },
     "inputWidgets": {},
     "nuid": "b3294293-a658-4822-b9d2-5881d626ff7e",
     "showTitle": false,
     "title": ""
    }
   },
   "outputs": [
    {
     "output_type": "stream",
     "name": "stdout",
     "output_type": "stream",
     "text": [
      "\u001B[0;31mSignature:\u001B[0m \u001B[0;32mdef\u001B[0m \u001B[0msend_times\u001B[0m\u001B[0;34m(\u001B[0m\u001B[0mfoba_events\u001B[0m\u001B[0;34m,\u001B[0m \u001B[0msent_times\u001B[0m\u001B[0;34m)\u001B[0m\u001B[0;34m\u001B[0m\u001B[0;34m\u001B[0m\u001B[0m\n\u001B[0;31mSource:\u001B[0m   \n\u001B[0;34m@\u001B[0m\u001B[0mprovides\u001B[0m\u001B[0;34m(\u001B[0m\u001B[0;34m\"send_times\"\u001B[0m\u001B[0;34m)\u001B[0m\u001B[0;34m\u001B[0m\n\u001B[0;34m\u001B[0m\u001B[0;34m@\u001B[0m\u001B[0menriches\u001B[0m\u001B[0;34m(\u001B[0m\u001B[0;34m\"foba_events\"\u001B[0m\u001B[0;34m)\u001B[0m\u001B[0;34m\u001B[0m\n\u001B[0;34m\u001B[0m\u001B[0;32mdef\u001B[0m \u001B[0msend_times\u001B[0m\u001B[0;34m(\u001B[0m\u001B[0mfoba_events\u001B[0m\u001B[0;34m,\u001B[0m \u001B[0msent_times\u001B[0m\u001B[0;34m)\u001B[0m\u001B[0;34m:\u001B[0m\u001B[0;34m\u001B[0m\n\u001B[0;34m\u001B[0m    \u001B[0mcalculators\u001B[0m \u001B[0;34m=\u001B[0m \u001B[0;34m[\u001B[0m\u001B[0;34m\u001B[0m\n\u001B[0;34m\u001B[0m        \u001B[0mSentTimeCalculator\u001B[0m\u001B[0;34m(\u001B[0m\u001B[0msent_time\u001B[0m\u001B[0;34m,\u001B[0m \u001B[0mtime_name\u001B[0m\u001B[0;34m)\u001B[0m\u001B[0;34m\u001B[0m\n\u001B[0;34m\u001B[0m        \u001B[0;32mfor\u001B[0m \u001B[0msent_time\u001B[0m \u001B[0;32min\u001B[0m \u001B[0msent_times\u001B[0m\u001B[0;34m\u001B[0m\n\u001B[0;34m\u001B[0m        \u001B[0;32mfor\u001B[0m \u001B[0mtime_name\u001B[0m \u001B[0;32min\u001B[0m \u001B[0msent_time\u001B[0m\u001B[0;34m.\u001B[0m\u001B[0mtime_names\u001B[0m\u001B[0;34m\u001B[0m\n\u001B[0;34m\u001B[0m    \u001B[0;34m]\u001B[0m\u001B[0;34m\u001B[0m\n\u001B[0;34m\u001B[0m\u001B[0;34m\u001B[0m\n\u001B[0;34m\u001B[0m    \u001B[0;32mdef\u001B[0m \u001B[0msent_times\u001B[0m\u001B[0;34m(\u001B[0m\u001B[0mevent\u001B[0m\u001B[0;34m)\u001B[0m\u001B[0;34m:\u001B[0m\u001B[0;34m\u001B[0m\n\u001B[0;34m\u001B[0m        \u001B[0mkwargs\u001B[0m \u001B[0;34m=\u001B[0m \u001B[0;34m{\u001B[0m\u001B[0;34m\u001B[0m\n\u001B[0;34m\u001B[0m            \u001B[0mcalculator\u001B[0m\u001B[0;34m.\u001B[0m\u001B[0msent_field\u001B[0m\u001B[0;34m:\u001B[0m \u001B[0mcalculator\u001B[0m\u001B[0;34m.\u001B[0m\u001B[0mcalculate\u001B[0m\u001B[0;34m(\u001B[0m\u001B[0mevent\u001B[0m\u001B[0;34m)\u001B[0m\u001B[0;34m\u001B[0m\n\u001B[0;34m\u001B[0m            \u001B[0;32mfor\u001B[0m \u001B[0mcalculator\u001B[0m \u001B[0;32min\u001B[0m \u001B[0mcalculators\u001B[0m\u001B[0;34m\u001B[0m\n\u001B[0;34m\u001B[0m        \u001B[0;34m}\u001B[0m\u001B[0;34m\u001B[0m\n\u001B[0;34m\u001B[0m        \u001B[0;32mreturn\u001B[0m \u001B[0mImmutableRecord\u001B[0m\u001B[0;34m(\u001B[0m\u001B[0;34m**\u001B[0m\u001B[0mkwargs\u001B[0m\u001B[0;34m)\u001B[0m\u001B[0;34m\u001B[0m\n\u001B[0;34m\u001B[0m\u001B[0;34m\u001B[0m\n\u001B[0;34m\u001B[0m    \u001B[0;32mreturn\u001B[0m \u001B[0mImmutableDict\u001B[0m\u001B[0;34m(\u001B[0m\u001B[0;34m\u001B[0m\n\u001B[0;34m\u001B[0m        \u001B[0;34m(\u001B[0m\u001B[0mevent_id\u001B[0m\u001B[0;34m,\u001B[0m \u001B[0msent_times\u001B[0m\u001B[0;34m(\u001B[0m\u001B[0mevent\u001B[0m\u001B[0;34m)\u001B[0m\u001B[0;34m)\u001B[0m \u001B[0;32mfor\u001B[0m \u001B[0mevent_id\u001B[0m\u001B[0;34m,\u001B[0m \u001B[0mevent\u001B[0m \u001B[0;32min\u001B[0m \u001B[0mfoba_events\u001B[0m\u001B[0;34m.\u001B[0m\u001B[0mitems\u001B[0m\u001B[0;34m(\u001B[0m\u001B[0;34m)\u001B[0m\u001B[0;34m\u001B[0m\n\u001B[0;34m\u001B[0m    \u001B[0;34m)\u001B[0m\u001B[0;34m\u001B[0m\u001B[0;34m\u001B[0m\u001B[0m\n\u001B[0;31mFile:\u001B[0m      /Workspace/Users/kartikeya.bisht@optiver.com.au/FOBA_create/foba_backtest_engine/components/order_book/utils/foba_time.py\n\u001B[0;31mLine:\u001B[0m      128\n\u001B[0;31mType:\u001B[0m      function"
     ]
    }
   ],
   "source": [
    "send_times??"
   ]
  },
  {
   "cell_type": "code",
   "execution_count": 0,
   "metadata": {
    "application/vnd.databricks.v1+cell": {
     "cellMetadata": {},
     "inputWidgets": {},
     "nuid": "d5e04369-30de-4cd5-8151-fdfe52996470",
     "showTitle": false,
     "title": ""
    }
   },
   "outputs": [],
   "source": [
    "processors.append(static_data_info)\n",
    "        processors.append(static_data_enrichment)\n",
    "\n",
    "        processors.append(send_times)\n",
    "\n",
    "        processors.append(fetch_feed_stats_from_book_builders)\n",
    "        processors.append(annotate_slippages)\n",
    "        processors.append(full_feed_state_enrichment)\n",
    "        processors.append(feed_states_at_join)\n",
    "\n",
    "        processors.append(order_state_creates)\n",
    "        processors.append(order_matches)\n",
    "        processors.append(order_deletes)\n",
    "        processors.append(order_delete_matches)\n",
    "        \n",
    "        processors.append(omdc_broker_number_to_name)\n",
    "\n",
    "        processors.append(get_optiver_trades)\n",
    "        processors.append(optiver_trade_and_quotes)\n",
    "\n",
    "        processors.append(category_enrichment)\n",
    "        processors.append(derived_enrichment)\n",
    "        # processors.append(enrich_pnl)\n",
    "\n",
    "        processors.append(event_enricher)\n",
    "\n",
    "        if enrich_competitor:\n",
    "            processors.append(omdc_broker_queue)\n",
    "            processors.append(omdc_order_number_to_broker_number)\n",
    "            processors.append(competitor_enrichment)\n",
    "            processors.append(foreign_counterparty_enrichment)\n",
    "            processors.append(broker_orders_enrichment)\n",
    "\n",
    "        return processors"
   ]
  },
  {
   "cell_type": "code",
   "execution_count": 0,
   "metadata": {
    "application/vnd.databricks.v1+cell": {
     "cellMetadata": {},
     "inputWidgets": {},
     "nuid": "58f06e5b-9cef-4545-88cc-3ce738845184",
     "showTitle": false,
     "title": ""
    }
   },
   "outputs": [],
   "source": []
  },
  {
   "cell_type": "code",
   "execution_count": 0,
   "metadata": {
    "application/vnd.databricks.v1+cell": {
     "cellMetadata": {
      "byteLimit": 2048000,
      "rowLimit": 10000
     },
     "inputWidgets": {},
     "nuid": "b94ec732-cd96-448d-a25d-098428eefb0b",
     "showTitle": false,
     "title": ""
    }
   },
   "outputs": [],
   "source": [
    "mapping = omdc_broker_number_to_name(filter_used)"
   ]
  },
  {
   "cell_type": "code",
   "execution_count": 0,
   "metadata": {
    "application/vnd.databricks.v1+cell": {
     "cellMetadata": {
      "byteLimit": 2048000,
      "rowLimit": 10000
     },
     "inputWidgets": {},
     "nuid": "8edb07f2-2d97-4651-bf27-dc84ae5c388d",
     "showTitle": false,
     "title": ""
    }
   },
   "outputs": [
    {
     "output_type": "stream",
     "name": "stdout",
     "output_type": "stream",
     "text": [
      "True Cheong Lee Securities Limited\nTrue Cheong Lee Securities Limited\nTrue Cheong Lee Securities Limited\nTrue Cheong Lee Securities Limited\nTrue Cheong Lee Securities Limited\nTrue Cheong Lee Securities Limited\nTrue CCB International Securities Limited\nTrue CCB International Securities Limited\nTrue CCB International Securities Limited\nTrue CCB International Securities Limited\nTrue CCB International Securities Limited\nTrue KINGKEY SECURITIES GROUP LIMITED\nTrue KINGKEY SECURITIES GROUP LIMITED\nTrue Fu Yip Securities and Investment Company Limited\nTrue Intercontinent Securities Company Limited\nTrue Gransing Securities Co., Limited\nTrue Anglo Chinese Securities, Limited\nTrue Good Harvest Securities Company Limited\nTrue Tarzan Stock & Shares Limited\nTrue Core Pacific - Yamaichi International (H.K.) Limited\nTrue Core Pacific - Yamaichi International (H.K.) Limited\nTrue Core Pacific - Yamaichi International (H.K.) Limited\nTrue Core Pacific - Yamaichi International (H.K.) Limited\nTrue Core Pacific - Yamaichi International (H.K.) Limited\nTrue Core Pacific - Yamaichi International (H.K.) Limited\nTrue Core Pacific - Yamaichi International (H.K.) Limited\nTrue Core Pacific - Yamaichi International (H.K.) Limited\nTrue Core Pacific - Yamaichi International (H.K.) Limited\nTrue Core Pacific - Yamaichi International (H.K.) Limited\nTrue Core Pacific - Yamaichi International (H.K.) Limited\nTrue Core Pacific - Yamaichi International (H.K.) Limited\nTrue Core Pacific - Yamaichi International (H.K.) Limited\nTrue Core Pacific - Yamaichi International (H.K.) Limited\nTrue Core Pacific - Yamaichi International (H.K.) Limited\nTrue Core Pacific - Yamaichi International (H.K.) Limited\nTrue Core Pacific - Yamaichi International (H.K.) Limited\nTrue Upbest Securities Company Limited\nTrue Upbest Securities Company Limited\nTrue Upbest Securities Company Limited\nTrue Get Nice Securities Limited\nTrue Get Nice Securities Limited\nTrue Haitong International Securities Company Limited\nTrue Haitong International Securities Company Limited\nTrue Haitong International Securities Company Limited\nTrue Haitong International Securities Company Limited\nTrue Haitong International Securities Company Limited\nTrue Haitong International Securities Company Limited\nTrue Haitong International Securities Company Limited\nTrue Haitong International Securities Company Limited\nTrue Haitong International Securities Company Limited\nTrue Haitong International Securities Company Limited\nTrue Haitong International Securities Company Limited\nTrue Haitong International Securities Company Limited\nTrue Haitong International Securities Company Limited\nTrue Haitong International Securities Company Limited\nTrue Haitong International Securities Company Limited\nTrue Haitong International Securities Company Limited\nTrue Haitong International Securities Company Limited\nTrue Haitong International Securities Company Limited\nTrue Haitong International Securities Company Limited\nTrue Haitong International Securities Company Limited\nTrue Haitong International Securities Company Limited\nTrue Haitong International Securities Company Limited\nTrue Haitong International Securities Company Limited\nTrue Haitong International Securities Company Limited\nTrue Zircon Securities (HK) Limited\nTrue Monmonkey Group Securities Limited\nTrue Saxo Capital Markets HK Limited\nTrue Long Bridge HK Limited\nTrue Yubo Securities Limited\nTrue Yubo Securities Limited\nTrue Yubo Securities Limited\nTrue Long Bridge HK Limited\nTrue Mighty Divine Securities Limited\nTrue Henyep Securities Limited\nTrue Henyep Securities Limited\nTrue Grand Capital Securities Limited\nTrue DT Securities & Futures Co. Limited\nTrue SPDB International Securities Limited\nTrue AFG Securities Limited\nTrue Upmax Securities Limited\nTrue Sunrise Brokers (Hong Kong) Limited\nTrue Averest Capital Limited\nTrue Averest Capital Limited\nTrue Averest Capital Limited\nTrue Morgan Stanley Hong Kong Securities Limited\nTrue Well Link Securities Limited\nTrue Well Link Securities Limited\nTrue Well Link Securities Limited\nTrue Rifa Securities Limited\nTrue Rifa Securities Limited\nTrue Rifa Securities Limited\nTrue Rifa Securities Limited\nTrue YF Securities Company Limited\nTrue YF Securities Company Limited\nTrue Cepa Alliance Securities Limited\nTrue BOCOM International Securities Limited\nTrue BOCOM International Securities Limited\nTrue BOCOM International Securities Limited\nTrue BOCOM International Securities Limited\nTrue BOCOM International Securities Limited\nTrue BOCOM International Securities Limited\nTrue BOCOM International Securities Limited\nTrue Daiwa Capital Markets Hong Kong Limited\nTrue Daiwa Capital Markets Hong Kong Limited\nTrue Daiwa Capital Markets Hong Kong Limited\nTrue Daiwa Capital Markets Hong Kong Limited\nTrue Daiwa Capital Markets Hong Kong Limited\nTrue Daiwa Capital Markets Hong Kong Limited\nTrue Daiwa Capital Markets Hong Kong Limited\nTrue Daiwa Capital Markets Hong Kong Limited\nTrue Daiwa Capital Markets Hong Kong Limited\nTrue Daiwa Capital Markets Hong Kong Limited\nTrue Daiwa Capital Markets Hong Kong Limited\nTrue Daiwa Capital Markets Hong Kong Limited\nTrue Daiwa Capital Markets Hong Kong Limited\nTrue Cheong Lee Securities Limited\nTrue Cheong Lee Securities Limited\nTrue Cheong Lee Securities Limited\nTrue Cheong Lee Securities Limited\nTrue Cheong Lee Securities Limited\nTrue Cheong Lee Securities Limited\nTrue Cheong Lee Securities Limited\nTrue SG Securities (HK) Limited\nTrue SG Securities (HK) Limited\nTrue Shanxi Securities International Limited\nTrue Shanxi Securities International Limited\nTrue UBS Securities Hong Kong Limited\nTrue UBS Securities Hong Kong Limited\nTrue Eclipse Options (HK) Limited\nTrue Eclipse Options (HK) Limited\nTrue Eclipse Options (HK) Limited\nTrue Daiwa Capital Markets Hong Kong Limited\nTrue Tora Trading Services Limited\nTrue Audrey Chow Securities Limited\nTrue Audrey Chow Securities Limited\nTrue Eclipse Options (HK) Limited\nTrue Eclipse Options (HK) Limited\nTrue Eclipse Options (HK) Limited\nTrue Eclipse Options (HK) Limited\nTrue Eclipse Options (HK) Limited\nTrue Eclipse Options (HK) Limited\nTrue Eclipse Options (HK) Limited\nTrue Eclipse Options (HK) Limited\nTrue Eclipse Options (HK) Limited\nTrue Eclipse Options (HK) Limited\nTrue Po Kay Securities & Shares Company Limited\nTrue Po Kay Securities & Shares Company Limited\nTrue Po Kay Securities & Shares Company Limited\nTrue Po Kay Securities & Shares Company Limited\nTrue Eclipse Options (HK) Limited\nTrue Eclipse Options (HK) Limited\nTrue Eclipse Options (HK) Limited\nTrue Eclipse Options (HK) Limited\nTrue Eclipse Options (HK) Limited\nTrue Eclipse Options (HK) Limited\nTrue Eclipse Options (HK) Limited\nTrue Eclipse Options (HK) Limited\nTrue Eclipse Options (HK) Limited\nTrue Eclipse Options (HK) Limited\nTrue SDICS International Securities (Hong Kong) Limited\nTrue SDICS International Securities (Hong Kong) Limited\nTrue SDICS International Securities (Hong Kong) Limited\nTrue SDICS International Securities (Hong Kong) Limited\nTrue SDICS International Securities (Hong Kong) Limited\nTrue SDICS International Securities (Hong Kong) Limited\nTrue SDICS International Securities (Hong Kong) Limited\nTrue SDICS International Securities (Hong Kong) Limited\nTrue Huayu Securities Limited\nTrue Huayu Securities Limited\nTrue Huayu Securities Limited\nTrue Huayu Securities Limited\nTrue Central China International Securities Co., Limited\nTrue Central China International Securities Co., Limited\nTrue Eclipse Options (HK) Limited\nTrue Eclipse Options (HK) Limited\nTrue Eclipse Options (HK) Limited\nTrue Eclipse Options (HK) Limited\nTrue Eclipse Options (HK) Limited\nTrue Eclipse Options (HK) Limited\nTrue Eclipse Options (HK) Limited\nTrue Eclipse Options (HK) Limited\nTrue Stockwell Securities Limited\nTrue Stockwell Securities Limited\nTrue Stockwell Securities Limited\nTrue Stockwell Securities Limited\nTrue Stockwell Securities Limited\nTrue Haitong International Securities Company Limited\nTrue Haitong International Securities Company Limited\nTrue Haitong International Securities Company Limited\nTrue Haitong International Securities Company Limited\nTrue Huarong International Securities Limited\nTrue Huarong International Securities Limited\nTrue Mizuho Securities Asia Limited\nTrue Mizuho Securities Asia Limited\nTrue Bluestone Securities (HK) Co., Limited\nTrue Bluestone Securities (HK) Co., Limited\nTrue JVSakk Asia Limited\nTrue Huarong International Securities Limited\nTrue Huarong International Securities Limited\nTrue Huarong International Securities Limited\nTrue Huarong International Securities Limited\nTrue Huarong International Securities Limited\nTrue Huarong International Securities Limited\nTrue Huarong International Securities Limited\nTrue Huarong International Securities Limited\nTrue Huarong International Securities Limited\nTrue Huarong International Securities Limited\nTrue Huarong International Securities Limited\nTrue Huarong International Securities Limited\nTrue Huarong International Securities Limited\nTrue Huarong International Securities Limited\nTrue Huarong International Securities Limited\nTrue Huarong International Securities Limited\nTrue WK Securities Limited\nTrue Zhong Xiang Securities Limited\nTrue Great Bay Securities Limited\nTrue Carlyon Securities Limited\nTrue SPDB International Securities Limited\nTrue UBS Securities Hong Kong Limited\nTrue UBS Securities Hong Kong Limited\nTrue UBS Securities Hong Kong Limited\nTrue UBS Securities Hong Kong Limited\nTrue UBS Securities Hong Kong Limited\nTrue Mirae Asset Securities (HK) Limited\nTrue Yunfeng Securities Limited\nTrue Yunfeng Securities Limited\nTrue Yunfeng Securities Limited\nTrue UBS Securities Hong Kong Limited\nTrue Lee Go Securities Limited\nTrue Emperio Securities And Assets Management Limited\nTrue Leeds Securities Investment Limited\nTrue Yaw Kai Financial Group Limited\nTrue Magnum Research Limited\nTrue Linkways Investment Management Limited\nTrue JQ Securities (Hong Kong) Limited\nTrue Forwin Securities Group Limited\nTrue VI Asset Management Company Limited\nTrue Jump Trading Hong Kong Limited\nTrue Jump Trading Hong Kong Limited\nTrue Jump Trading Hong Kong Limited\nTrue CITIC CFI Securities Company Limited\nTrue Matrix Securities Limited\nTrue IMC Asia Pacific Limited\nTrue IMC Asia Pacific Limited\nTrue IMC Asia Pacific Limited\nTrue IMC Asia Pacific Limited\nTrue IMC Asia Pacific Limited\nTrue IMC Asia Pacific Limited\nTrue IMC Asia Pacific Limited\nTrue IMC Asia Pacific Limited\nTrue IMC Asia Pacific Limited\nTrue IMC Asia Pacific Limited\nTrue Jefferies Hong Kong Limited\nTrue Jefferies Hong Kong Limited\nTrue Jefferies Hong Kong Limited\nTrue IMC Asia Pacific Limited\nTrue IMC Asia Pacific Limited\nTrue IMC Asia Pacific Limited\nTrue IMC Asia Pacific Limited\nTrue IMC Asia Pacific Limited\nTrue IMC Asia Pacific Limited\nTrue IMC Asia Pacific Limited\nTrue IMC Asia Pacific Limited\nTrue IMC Asia Pacific Limited\nTrue China System Securities Limited\nTrue China System Securities Limited\nTrue China System Securities Limited\nTrue China System Securities Limited\nTrue China System Securities Limited\nTrue China System Securities Limited\nTrue Zero2IPO Securities Limited\nTrue China Southern Securities Limited\nTrue China Southern Securities Limited\nTrue Silverbricks Securities Company Limited\nTrue Grand Capital Securities Limited\nTrue Tiger Faith Securities Limited\nTrue Gamma Securities Limited\nTrue DT Securities & Futures Co. Limited\nTrue Gayang Securities Limited\nTrue Gayang Securities Limited\nTrue I Win Securities Limited\nTrue Global Mastermind Securities Limited\nTrue Holly International Financial Holdings Limited\nTrue Mango Financial Limited\nTrue Mango Financial Limited\nTrue Mango Financial Limited\nTrue Mirae Asset Securities (HK) Limited\nTrue Mirae Asset Securities (HK) Limited\nTrue Mirae Asset Securities (HK) Limited\nTrue Mirae Asset Securities (HK) Limited\nTrue Mirae Asset Securities (HK) Limited\nTrue Mirae Asset Securities (HK) Limited\nTrue Fosun International Securities Limited\nTrue Fosun International Securities Limited\nTrue Kwong Fat Hong (Securities) Limited\nTrue Kwong Fat Hong (Securities) Limited\nTrue Kwong Fat Hong (Securities) Limited\nTrue Kwong Fat Hong (Securities) Limited\nTrue ASA Securities Limited\nTrue ASA Securities Limited\nTrue Shacom Securities Limited\nTrue Shacom Securities Limited\nTrue Shacom Securities Limited\nTrue Shacom Securities Limited\nTrue Shacom Securities Limited\nTrue Shacom Securities Limited\nTrue Shacom Securities Limited\nTrue Shacom Securities Limited\nTrue Shacom Securities Limited\nTrue Shacom Securities Limited\nTrue CNCB (Hong Kong) Capital Limited\nTrue AAA Securities Co. Limited\nTrue AP Capital Management (Hong Kong) Limited\nTrue Kai Yin Securities Limited\nTrue Goldlink Securities Limited\nTrue ChaoShang Securities Limited\nTrue ACU Securities Limited\nTrue ACU Securities Limited\nTrue Wealth Link Securities Limited\nTrue Freddy Company Limited\nTrue Freddy Company Limited\nTrue King Sun Securities Limited\nTrue King Sun Securities Limited\nTrue King Sun Securities Limited\nTrue King Sun Securities Limited\nTrue China Finance KAB Limited\nTrue China Finance KAB Limited\nTrue China Finance KAB Limited\nTrue China Finance KAB Limited\nTrue China Finance KAB Limited\nTrue China Finance KAB Limited\nTrue China Finance KAB Limited\nTrue China Finance KAB Limited\nTrue China Finance KAB Limited\nTrue China Finance KAB Limited\nTrue Midas Securities Limited\nTrue Sunfund Securities Limited\nTrue Monmonkey Group Securities Limited\nTrue Eddid Securities and Futures Limited\nTrue Bluemount Securities Limited\nTrue Eddid Securities and Futures Limited\nTrue Norman Kong Securities Company Limited\nTrue Shacom Securities Limited\nTrue Shacom Securities Limited\nTrue Shacom Securities Limited\nTrue Shacom Securities Limited\nTrue Shacom Securities Limited\nTrue Shacom Securities Limited\nTrue Cheer Union Securities Limited\nTrue Cheer Union Securities Limited\nTrue Cheer Union Securities Limited\nTrue Asia Pacific Securities Limited\nTrue Asia Pacific Securities Limited\nTrue Asia Pacific Securities Limited\nTrue Asia Pacific Securities Limited\nTrue Grand Partners Securities Limited\nTrue Zhong Jia Securities Limited\nTrue West Bull Securities Limited\nTrue Constance Capital Limited\nTrue Goldbridge Securities Limited\nTrue IMC Asia Pacific Limited\nTrue IMC Asia Pacific Limited\nTrue IMC Asia Pacific Limited\nTrue IMC Asia Pacific Limited\nTrue IMC Asia Pacific Limited\nTrue IMC Asia Pacific Limited\nTrue IMC Asia Pacific Limited\nTrue IMC Asia Pacific Limited\nTrue IMC Asia Pacific Limited\nTrue IMC Asia Pacific Limited\nTrue Afflux Securities Limited\nTrue UZen Securities Limited\nTrue Solomon JFZ (Asia) Holdings Limited\nTrue Monex Boom Securities (H.K.) Limited\nTrue Solomon JFZ (Asia) Holdings Limited\nTrue Monex Boom Securities (H.K.) Limited\nTrue Megabase Securities Limited\nTrue Megabase Securities Limited\nTrue Acer King Securities International Limited\nTrue Monmonkey Group Securities Limited\nTrue TradeMaster Securities (Hong Kong) Limited\nTrue TradeMaster Securities (Hong Kong) Limited\nTrue Plutus Securities Limited\nTrue Ruibang Securities Limited\nTrue Chelsea Securities Limited\nTrue Chelsea Securities Limited\nTrue ABCI Securities Company Limited\nTrue ABCI Securities Company Limited\nTrue ABCI Securities Company Limited\nTrue ABCI Securities Company Limited\nTrue ABCI Securities Company Limited\nTrue ABCI Securities Company Limited\nTrue ABCI Securities Company Limited\nTrue ABCI Securities Company Limited\nTrue Huatai Financial Holdings (Hong Kong) Limited\nTrue Huatai Financial Holdings (Hong Kong) Limited\nTrue Huatai Financial Holdings (Hong Kong) Limited\nTrue Guoyuan Securities Brokerage (Hong Kong) Limited\nTrue Guoyuan Securities Brokerage (Hong Kong) Limited\nTrue Guoyuan Securities Brokerage (Hong Kong) Limited\nTrue Guoyuan Securities Brokerage (Hong Kong) Limited\nTrue Guoyuan Securities Brokerage (Hong Kong) Limited\nTrue Stellar Securities Limited\nTrue Stellar Securities Limited\nTrue Stellar Securities Limited\nTrue CMB International Securities Limited\nTrue CMB International Securities Limited\nTrue CMB International Securities Limited\nTrue CCB International Securities Limited\nTrue CCB International Securities Limited\nTrue CCB International Securities Limited\nTrue CCB International Securities Limited\nTrue CCB International Securities Limited\nTrue CCB International Securities Limited\nTrue GF Securities (Hong Kong) Brokerage Limited\nTrue GF Securities (Hong Kong) Brokerage Limited\nTrue GF Securities (Hong Kong) Brokerage Limited\nTrue GF Securities (Hong Kong) Brokerage Limited\nTrue GF Securities (Hong Kong) Brokerage Limited\nTrue GF Securities (Hong Kong) Brokerage Limited\nTrue GF Securities (Hong Kong) Brokerage Limited\nTrue GF Securities (Hong Kong) Brokerage Limited\nTrue CMB International Securities Limited\nTrue CMB International Securities Limited\nTrue CMB International Securities Limited\nTrue CMB International Securities Limited\nTrue CMB International Securities Limited\nTrue CMB International Securities Limited\nTrue CMB International Securities Limited\nTrue CMB International Securities Limited\nTrue CMB International Securities Limited\nTrue China Sky Securities Limited\nTrue China Sky Securities Limited\nTrue Yicko Securities Limited\nTrue Yicko Securities Limited\nTrue Yicko Securities Limited\nTrue Yicko Securities Limited\nTrue Yicko Securities Limited\nTrue Yicko Securities Limited\nTrue Yicko Securities Limited\nTrue Yicko Securities Limited\nTrue Lei Shing Hong Securities Limited\nTrue Lei Shing Hong Securities Limited\nTrue Huatai Financial Holdings (Hong Kong) Limited\nTrue Huatai Financial Holdings (Hong Kong) Limited\nTrue Huatai Financial Holdings (Hong Kong) Limited\nTrue China Industrial Securities International Brokerage Limited\nTrue BOCOM International Securities Limited\nTrue BOCOM International Securities Limited\nTrue BOCOM International Securities Limited\nTrue BOCOM International Securities Limited\nTrue BOCOM International Securities Limited\nTrue BOCOM International Securities Limited\nTrue BOCOM International Securities Limited\nTrue BOCOM International Securities Limited\nTrue Everbright Securities Investment Services (HK) Limited\nTrue Everbright Securities Investment Services (HK) Limited\nTrue Everbright Securities Investment Services (HK) Limited\nTrue Everbright Securities Investment Services (HK) Limited\nTrue Everbright Securities Investment Services (HK) Limited\nTrue Everbright Securities Investment Services (HK) Limited\nTrue Everbright Securities Investment Services (HK) Limited\nTrue Hing Wai Allied Securities Limited\nTrue Hing Wai Allied Securities Limited\nTrue Hing Wai Allied Securities Limited\nTrue Hing Wai Allied Securities Limited\nTrue Optiver Trading Hong Kong Limited\nTrue Optiver Trading Hong Kong Limited\nTrue Optiver Trading Hong Kong Limited\nTrue Optiver Trading Hong Kong Limited\nTrue Optiver Trading Hong Kong Limited\nTrue Optiver Trading Hong Kong Limited\nTrue Optiver Trading Hong Kong Limited\nTrue Optiver Trading Hong Kong Limited\nTrue Anli Securities Limited\nTrue Anli Securities Limited\nTrue Stockwell Securities Limited\nTrue Stockwell Securities Limited\nTrue Stockwell Securities Limited\nTrue Stockwell Securities Limited\nTrue Stockwell Securities Limited\nTrue Stockwell Securities Limited\nTrue Stockwell Securities Limited\nTrue Stockwell Securities Limited\nTrue Stockwell Securities Limited\nTrue Stockwell Securities Limited\nTrue Susquehanna Hong Kong Limited\nTrue Susquehanna Hong Kong Limited\nTrue Susquehanna Hong Kong Limited\nTrue Susquehanna Hong Kong Limited\nTrue Susquehanna Hong Kong Limited\nTrue Susquehanna Hong Kong Limited\nTrue Susquehanna Hong Kong Limited\nTrue Susquehanna Hong Kong Limited\nTrue Susquehanna Hong Kong Limited\nTrue IMC Asia Pacific Limited\nTrue IMC Asia Pacific Limited\nTrue IMC Asia Pacific Limited\nTrue IMC Asia Pacific Limited\nTrue IMC Asia Pacific Limited\nTrue IMC Asia Pacific Limited\nTrue West Bull Securities Limited\nTrue West Bull Securities Limited\nTrue IMC Asia Pacific Limited\nTrue IMC Asia Pacific Limited\nTrue IMC Asia Pacific Limited\nTrue IMC Asia Pacific Limited\nTrue IMC Asia Pacific Limited\nTrue IMC Asia Pacific Limited\nTrue IMC Asia Pacific Limited\nTrue IMC Asia Pacific Limited\nTrue IMC Asia Pacific Limited\nTrue China Rise Securities Asset Management Company Limited\nTrue China Rise Securities Asset Management Company Limited\nTrue China Rise Securities Asset Management Company Limited\nTrue China Rise Securities Asset Management Company Limited\nTrue Optiver Trading Hong Kong Limited\nTrue Optiver Trading Hong Kong Limited\nTrue Optiver Trading Hong Kong Limited\nTrue Optiver Trading Hong Kong Limited\nTrue Optiver Trading Hong Kong Limited\nTrue Optiver Trading Hong Kong Limited\nTrue Optiver Trading Hong Kong Limited\nTrue Optiver Trading Hong Kong Limited\nTrue Optiver Trading Hong Kong Limited\nTrue Optiver Trading Hong Kong Limited\nTrue CTBC Asia Limited\nTrue CTBC Asia Limited\nTrue Optiver Trading Hong Kong Limited\nTrue Optiver Trading Hong Kong Limited\nTrue Optiver Trading Hong Kong Limited\nTrue Optiver Trading Hong Kong Limited\nTrue Optiver Trading Hong Kong Limited\nTrue Optiver Trading Hong Kong Limited\nTrue Optiver Trading Hong Kong Limited\nTrue Optiver Trading Hong Kong Limited\nTrue Optiver Trading Hong Kong Limited\nTrue Optiver Trading Hong Kong Limited\nTrue Liquidnet Asia Limited\nTrue Metaverse Securities Limited\nTrue Metaverse Securities Limited\nTrue CMB International Securities Limited\nTrue CMB International Securities Limited\nTrue CMB International Securities Limited\nTrue CMB International Securities Limited\nTrue CMB International Securities Limited\nTrue CMB International Securities Limited\nTrue National Resources Securities Limited\nTrue Cheong Lee Securities Limited\nTrue Cheong Lee Securities Limited\nTrue Telecom King Securities Limited\nTrue Telecom King Securities Limited\nTrue GF Securities (Hong Kong) Brokerage Limited\nTrue Natixis Asia Limited\nTrue Natixis Asia Limited\nTrue Natixis Asia Limited\nTrue Natixis Asia Limited\nTrue Natixis Asia Limited\nTrue BOCOM International Securities Limited\nTrue BOCOM International Securities Limited\nTrue Optiver Trading Hong Kong Limited\nTrue Wai Fat Securities Limited\nTrue Wai Fat Securities Limited\nTrue Quam Securities Limited\nTrue Quam Securities Limited\nTrue Quam Securities Limited\nTrue Quam Securities Limited\nTrue Quam Securities Limited\nTrue Quam Securities Limited\nTrue Quam Securities Limited\nTrue Quam Securities Limited\nTrue Quam Securities Limited\nTrue Quam Securities Limited\nTrue Wonder Face Fund Management Company Limited\nTrue Joy Rich Securities Investment Limited\nTrue Yubo Securities Limited\nTrue Yubo Securities Limited\nTrue Yubo Securities Limited\nTrue CIS Securities Asset Management Limited\nTrue CIS Securities Asset Management Limited\nTrue CIS Securities Asset Management Limited\nTrue CIS Securities Asset Management Limited\nTrue Bright Smart Securities International (H.K.) Limited\nTrue Bright Smart Securities International (H.K.) Limited\nTrue Bright Smart Securities International (H.K.) Limited\nTrue Bright Smart Securities International (H.K.) Limited\nTrue Bright Smart Securities International (H.K.) Limited\nTrue Bright Smart Securities International (H.K.) Limited\nTrue Wah Sang Securities Limited\nTrue Wah Sang Securities Limited\nTrue Bright Smart Securities International (H.K.) Limited\nTrue Bright Smart Securities International (H.K.) Limited\nTrue Bright Smart Securities International (H.K.) Limited\nTrue Bright Smart Securities International (H.K.) Limited\nTrue Bright Smart Securities International (H.K.) Limited\nTrue Bright Smart Securities International (H.K.) Limited\nTrue Bright Smart Securities International (H.K.) Limited\nTrue China Industrial Securities International Brokerage Limited\nTrue China Industrial Securities International Brokerage Limited\nTrue China Industrial Securities International Brokerage Limited\nTrue China Industrial Securities International Brokerage Limited\nTrue Ramon Investment Company Limited\nTrue Bright Smart Securities International (H.K.) Limited\nTrue Bright Smart Securities International (H.K.) Limited\nTrue Bright Smart Securities International (H.K.) Limited\nTrue Bright Smart Securities International (H.K.) Limited\nTrue Bright Smart Securities International (H.K.) Limited\nTrue Bright Smart Securities International (H.K.) Limited\nTrue Bright Smart Securities International (H.K.) Limited\nTrue Bright Smart Securities International (H.K.) Limited\nTrue Bright Smart Securities International (H.K.) Limited\nTrue Prime China Securities Limited\nTrue Prime China Securities Limited\nTrue Sorrento Securities Limited\nTrue Leading Securities Company Limited\nTrue GEO Securities Limited\nTrue Wilson Securities Limited\nTrue Seazen Resources Securities Limited\nTrue Zhong Yang Securities Limited\nTrue Spring Securities Limited\nTrue Seazen Resources Securities Limited\nTrue Instinet Pacific Limited\nTrue Instinet Pacific Limited\nTrue Instinet Pacific Limited\nTrue Instinet Pacific Limited\nTrue Instinet Pacific Limited\nTrue Instinet Pacific Limited\nTrue Instinet Pacific Limited\nTrue Instinet Pacific Limited\nTrue Instine\n\n*** WARNING: max output size exceeded, skipping output. ***\n\nd\nTrue Merrill Lynch Far East Limited\nTrue Citigroup Global Markets Asia Limited\nTrue Citigroup Global Markets Asia Limited\nTrue Citigroup Global Markets Asia Limited\nTrue Citigroup Global Markets Asia Limited\nTrue Citigroup Global Markets Asia Limited\nTrue Citigroup Global Markets Asia Limited\nTrue Citigroup Global Markets Asia Limited\nTrue Citigroup Global Markets Asia Limited\nTrue Citigroup Global Markets Asia Limited\nTrue Citigroup Global Markets Asia Limited\nTrue China Demeter Securities Limited\nTrue China Demeter Securities Limited\nTrue China Demeter Securities Limited\nTrue China Merchants Securities (HK) Co., Limited\nTrue China Merchants Securities (HK) Co., Limited\nTrue China Merchants Securities (HK) Co., Limited\nTrue China Merchants Securities (HK) Co., Limited\nTrue China Merchants Securities (HK) Co., Limited\nTrue China Merchants Securities (HK) Co., Limited\nTrue China Merchants Securities (HK) Co., Limited\nTrue China Merchants Securities (HK) Co., Limited\nTrue China Merchants Securities (HK) Co., Limited\nTrue China Merchants Securities (HK) Co., Limited\nTrue China Merchants Securities (HK) Co., Limited\nTrue China Merchants Securities (HK) Co., Limited\nTrue Tse's Securities Limited\nTrue Tse's Securities Limited\nTrue Tse's Securities Limited\nTrue Tse's Securities Limited\nTrue Tse's Securities Limited\nTrue Henik Securities Limited\nTrue Henik Securities Limited\nTrue Henik Securities Limited\nTrue Tianda Securities Limited\nTrue Tianda Securities Limited\nTrue Tianda Securities Limited\nTrue China Merchants Securities (HK) Co., Limited\nTrue China Merchants Securities (HK) Co., Limited\nTrue China Merchants Securities (HK) Co., Limited\nTrue China Merchants Securities (HK) Co., Limited\nTrue China Merchants Securities (HK) Co., Limited\nTrue China Merchants Securities (HK) Co., Limited\nTrue China Merchants Securities (HK) Co., Limited\nTrue China Merchants Securities (HK) Co., Limited\nTrue China Merchants Securities (HK) Co., Limited\nTrue Emperor Securities Limited\nTrue Emperor Securities Limited\nTrue Emperor Securities Limited\nTrue Emperor Securities Limited\nTrue Emperor Securities Limited\nTrue Emperor Securities Limited\nTrue Emperor Securities Limited\nTrue Emperor Securities Limited\nTrue Emperor Securities Limited\nTrue Emperor Securities Limited\nTrue Emperor Securities Limited\nTrue Emperor Securities Limited\nTrue Emperor Securities Limited\nTrue Emperor Securities Limited\nTrue Emperor Securities Limited\nTrue Emperor Securities Limited\nTrue Emperor Securities Limited\nTrue Emperor Securities Limited\nTrue Emperor Securities Limited\nTrue Ruisen Port Securities Limited\nTrue Ruisen Port Securities Limited\nTrue Hao Tian International Securities Limited\nTrue Hao Tian International Securities Limited\nTrue Beta International Securities Limited\nTrue Beta International Securities Limited\nTrue Select Investment Services Limited\nTrue DA International Financial Service Limited\nTrue Lighthouse Capital (HK) Financial Limited\nTrue Lighthouse Capital (HK) Financial Limited\nTrue New Harvest Wealth Securities Company Limited\nTrue Dongxing Securities (Hong Kong) Company Limited\nTrue Funderstone Securities Limited\nTrue Funderstone Securities Limited\nTrue Funderstone Securities Limited\nTrue Funderstone Securities Limited\nTrue Funderstone Securities Limited\nTrue Forthright Securities Company Limited\nTrue China International Securities Limited\nTrue ICAP Securities Hong Kong Limited\nTrue Korea Investment & Securities Asia Limited\nTrue Forthright Securities Company Limited\nTrue China Renaissance Broking Services (Hong Kong) Limited\nTrue China Renaissance Broking Services (Hong Kong) Limited\nTrue Bradbury Securities Limited\nTrue Bradbury Securities Limited\nTrue Bradbury Securities Limited\nTrue Bradbury Securities Limited\nTrue SoFi Securities (Hong Kong) Limited\nTrue SoFi Securities (Hong Kong) Limited\nTrue SoFi Securities (Hong Kong) Limited\nTrue China Galaxy International Securities (Hong Kong) Co., Limited\nTrue China Galaxy International Securities (Hong Kong) Co., Limited\nTrue China Galaxy International Securities (Hong Kong) Co., Limited\nTrue China Galaxy International Securities (Hong Kong) Co., Limited\nTrue China Galaxy International Securities (Hong Kong) Co., Limited\nTrue China Galaxy International Securities (Hong Kong) Co., Limited\nTrue China Galaxy International Securities (Hong Kong) Co., Limited\nTrue China Galaxy International Securities (Hong Kong) Co., Limited\nTrue China Galaxy International Securities (Hong Kong) Co., Limited\nTrue China Galaxy International Securities (Hong Kong) Co., Limited\nTrue Greater China Securities Limited\nTrue Greater China Securities Limited\nTrue Greater China Securities Limited\nTrue Hantec Securities Co. Limited\nTrue Hantec Securities Co. Limited\nTrue Hantec Securities Co. Limited\nTrue Hantec Securities Co. Limited\nTrue Hantec Securities Co. Limited\nTrue Hantec Securities Co. Limited\nTrue Hantec Securities Co. Limited\nTrue Hantec Securities Co. Limited\nTrue Hantec Securities Co. Limited\nTrue S W Woo And Company Limited\nTrue ICBC (Asia) Securities Limited\nTrue ICBC (Asia) Securities Limited\nTrue ICBC (Asia) Securities Limited\nTrue ICBC (Asia) Securities Limited\nTrue ICBC (Asia) Securities Limited\nTrue ICBC (Asia) Securities Limited\nTrue ICBC (Asia) Securities Limited\nTrue Wing On Securities Limited\nTrue Beevest Securities Limited\nTrue Beevest Securities Limited\nTrue Beevest Securities Limited\nTrue Beevest Securities Limited\nTrue Black Marble Securities Limited\nTrue Black Marble Securities Limited\nTrue TFI Securities and Futures Limited\nTrue TFI Securities and Futures Limited\nTrue TFI Securities and Futures Limited\nTrue Corporate Brokers Limited\nTrue Corporate Brokers Limited\nTrue Corporate Brokers Limited\nTrue Corporate Brokers Limited\nTrue Corporate Brokers Limited\nTrue Corporate Brokers Limited\nTrue Corporate Brokers Limited\nTrue Corporate Brokers Limited\nTrue Corporate Brokers Limited\nTrue Corporate Brokers Limited\nTrue CLSA Limited\nTrue CLSA Limited\nTrue CLSA Limited\nTrue CLSA Limited\nTrue CLSA Limited\nTrue CLSA Limited\nTrue CLSA Limited\nTrue CLSA Limited\nTrue CLSA Limited\nTrue CLSA Limited\nTrue CLSA Limited\nTrue CLSA Limited\nTrue CLSA Limited\nTrue CLSA Limited\nTrue CLSA Limited\nTrue CLSA Limited\nTrue CLSA Limited\nTrue CLSA Limited\nTrue CLSA Limited\nTrue CLSA Limited\nTrue CLSA Limited\nTrue CLSA Limited\nTrue CLSA Limited\nTrue CLSA Limited\nTrue CLSA Limited\nTrue Tung Tak Securities (HK) Company Limited\nTrue Sinolink Securities (Hong Kong) Company Limited\nTrue Sinolink Securities (Hong Kong) Company Limited\nTrue ICBC (Asia) Securities Limited\nTrue ICBC (Asia) Securities Limited\nTrue ICBC (Asia) Securities Limited\nTrue ICBC (Asia) Securities Limited\nTrue BOCI Securities Limited\nTrue BOCI Securities Limited\nTrue BOCI Securities Limited\nTrue BOCI Securities Limited\nTrue BOCI Securities Limited\nTrue BOCI Securities Limited\nTrue BOCI Securities Limited\nTrue BOCI Securities Limited\nTrue BOCI Securities Limited\nTrue BOCI Securities Limited\nTrue BOCI Securities Limited\nTrue BOCI Securities Limited\nTrue BOCI Securities Limited\nTrue BOCI Securities Limited\nTrue BOCI Securities Limited\nTrue BOCI Securities Limited\nTrue BOCI Securities Limited\nTrue BOCI Securities Limited\nTrue BOCI Securities Limited\nTrue BOCI Securities Limited\nTrue BOCI Securities Limited\nTrue BOCI Securities Limited\nTrue BOCI Securities Limited\nTrue BOCI Securities Limited\nTrue BOCI Securities Limited\nTrue BOCI Securities Limited\nTrue BOCI Securities Limited\nTrue BOCI Securities Limited\nTrue BOCI Securities Limited\nTrue BOCI Securities Limited\nTrue BOCI Securities Limited\nTrue BOCI Securities Limited\nTrue BOCI Securities Limited\nTrue BOCI Securities Limited\nTrue BOCI Securities Limited\nTrue BOCI Securities Limited\nTrue BOCI Securities Limited\nTrue BOCI Securities Limited\nTrue BOCI Securities Limited\nTrue BOCI Securities Limited\nTrue BOCI Securities Limited\nTrue BOCI Securities Limited\nTrue BOCI Securities Limited\nTrue BOCI Securities Limited\nTrue BOCI Securities Limited\nTrue BOCI Securities Limited\nTrue BOCI Securities Limited\nTrue BOCI Securities Limited\nTrue BOCI Securities Limited\nTrue BOCI Securities Limited\nTrue BOCI Securities Limited\nTrue Waton Securities International Limited\nTrue South China Securities Limited\nTrue South China Securities Limited\nTrue South China Securities Limited\nTrue South China Securities Limited\nTrue South China Securities Limited\nTrue South China Securities Limited\nTrue Yue Xiu Securities Company Limited\nTrue Yue Xiu Securities Company Limited\nTrue Yue Xiu Securities Company Limited\nTrue Yue Xiu Securities Company Limited\nTrue Yue Xiu Securities Company Limited\nTrue Yue Xiu Securities Company Limited\nTrue Yue Xiu Securities Company Limited\nTrue Yue Xiu Securities Company Limited\nTrue Yue Xiu Securities Company Limited\nTrue Futu Securities International (Hong Kong) Limited\nTrue Futu Securities International (Hong Kong) Limited\nTrue Futu Securities International (Hong Kong) Limited\nTrue Futu Securities International (Hong Kong) Limited\nTrue Futu Securities International (Hong Kong) Limited\nTrue Futu Securities International (Hong Kong) Limited\nTrue Futu Securities International (Hong Kong) Limited\nTrue Futu Securities International (Hong Kong) Limited\nTrue Futu Securities International (Hong Kong) Limited\nTrue Futu Securities International (Hong Kong) Limited\nTrue HSBC Broking Securities (Hong Kong) Limited\nTrue HSBC Broking Securities (Hong Kong) Limited\nTrue HSBC Broking Securities (Hong Kong) Limited\nTrue HSBC Broking Securities (Hong Kong) Limited\nTrue HSBC Broking Securities (Hong Kong) Limited\nTrue Planetree Securities Limited\nTrue Planetree Securities Limited\nTrue Planetree Securities Limited\nTrue Sanfull Securities Limited\nTrue Sanfull Securities Limited\nTrue Sanfull Securities Limited\nTrue Sanfull Securities Limited\nTrue Sanfull Securities Limited\nTrue Sanfull Securities Limited\nTrue Sanfull Securities Limited\nTrue HSBC Broking Securities (Hong Kong) Limited\nTrue HSBC Broking Securities (Hong Kong) Limited\nTrue HSBC Broking Securities (Hong Kong) Limited\nTrue HSBC Broking Securities (Hong Kong) Limited\nTrue HSBC Broking Securities (Hong Kong) Limited\nTrue HSBC Broking Securities (Hong Kong) Limited\nTrue HSBC Broking Securities (Hong Kong) Limited\nTrue HSBC Broking Securities (Hong Kong) Limited\nTrue HSBC Broking Securities (Hong Kong) Limited\nTrue HSBC Broking Securities (Hong Kong) Limited\nTrue HSBC Broking Securities (Hong Kong) Limited\nTrue HSBC Broking Securities (Hong Kong) Limited\nTrue HSBC Broking Securities (Hong Kong) Limited\nTrue HSBC Broking Securities (Hong Kong) Limited\nTrue HSBC Broking Securities (Hong Kong) Limited\nTrue HSBC Broking Securities (Hong Kong) Limited\nTrue HSBC Broking Securities (Hong Kong) Limited\nTrue HSBC Broking Securities (Hong Kong) Limited\nTrue HSBC Broking Securities (Hong Kong) Limited\nTrue HSBC Broking Securities (Hong Kong) Limited\nTrue HSBC Broking Securities (Hong Kong) Limited\nTrue HSBC Broking Securities (Hong Kong) Limited\nTrue HSBC Broking Securities (Hong Kong) Limited\nTrue HSBC Broking Securities (Hong Kong) Limited\nTrue HSBC Broking Securities (Hong Kong) Limited\nTrue HSBC Broking Securities (Hong Kong) Limited\nTrue HSBC Broking Securities (Hong Kong) Limited\nTrue HSBC Broking Securities (Hong Kong) Limited\nTrue HSBC Broking Securities (Hong Kong) Limited\nTrue HSBC Broking Securities (Hong Kong) Limited\nTrue HSBC Broking Securities (Hong Kong) Limited\nTrue ABN AMRO Clearing Hong Kong Limited\nTrue ABN AMRO Clearing Hong Kong Limited\nTrue ABN AMRO Clearing Hong Kong Limited\nTrue ABN AMRO Clearing Hong Kong Limited\nTrue ABN AMRO Clearing Hong Kong Limited\nTrue ABN AMRO Clearing Hong Kong Limited\nTrue ABN AMRO Clearing Hong Kong Limited\nTrue ABN AMRO Clearing Hong Kong Limited\nTrue ABN AMRO Clearing Hong Kong Limited\nTrue ABN AMRO Clearing Hong Kong Limited\nTrue CS Wealth Securities Limited\nTrue Futu Securities International (Hong Kong) Limited\nTrue Futu Securities International (Hong Kong) Limited\nTrue Futu Securities International (Hong Kong) Limited\nTrue Futu Securities International (Hong Kong) Limited\nTrue Futu Securities International (Hong Kong) Limited\nTrue Futu Securities International (Hong Kong) Limited\nTrue Futu Securities International (Hong Kong) Limited\nTrue Futu Securities International (Hong Kong) Limited\nTrue Futu Securities International (Hong Kong) Limited\nTrue Futu Securities International (Hong Kong) Limited\nTrue ABN AMRO Clearing Hong Kong Limited\nTrue ABN AMRO Clearing Hong Kong Limited\nTrue ABN AMRO Clearing Hong Kong Limited\nTrue ABN AMRO Clearing Hong Kong Limited\nTrue ABN AMRO Clearing Hong Kong Limited\nTrue CCB Securities Limited\nTrue CCB Securities Limited\nTrue CCB Securities Limited\nTrue CCB Securities Limited\nTrue CCB Securities Limited\nTrue ABN AMRO Clearing Hong Kong Limited\nTrue ABN AMRO Clearing Hong Kong Limited\nTrue ABN AMRO Clearing Hong Kong Limited\nTrue ABN AMRO Clearing Hong Kong Limited\nTrue ABN AMRO Clearing Hong Kong Limited\nTrue ABN AMRO Clearing Hong Kong Limited\nTrue ABN AMRO Clearing Hong Kong Limited\nTrue ABN AMRO Clearing Hong Kong Limited\nTrue ABN AMRO Clearing Hong Kong Limited\nTrue ABN AMRO Clearing Hong Kong Limited\nTrue ABN AMRO Clearing Hong Kong Limited\nTrue ABN AMRO Clearing Hong Kong Limited\nTrue China Securities (International) Brokerage Company Limited\nTrue China Securities (International) Brokerage Company Limited\nTrue China Securities (International) Brokerage Company Limited\nTrue China Securities (International) Brokerage Company Limited\nTrue ABN AMRO Clearing Hong Kong Limited\nTrue ABN AMRO Clearing Hong Kong Limited\nTrue ABN AMRO Clearing Hong Kong Limited\nTrue ABN AMRO Clearing Hong Kong Limited\nTrue ABN AMRO Clearing Hong Kong Limited\nTrue ABN AMRO Clearing Hong Kong Limited\nTrue HSBC Securities Brokers (Asia) Limited\nTrue ABN AMRO Clearing Hong Kong Limited\nTrue ABN AMRO Clearing Hong Kong Limited\nTrue ABN AMRO Clearing Hong Kong Limited\nTrue ABN AMRO Clearing Hong Kong Limited\nTrue ABN AMRO Clearing Hong Kong Limited\nTrue ABN AMRO Clearing Hong Kong Limited\nTrue ABN AMRO Clearing Hong Kong Limited\nTrue ABN AMRO Clearing Hong Kong Limited\nTrue HSBC Securities Brokers (Asia) Limited\nTrue HSBC Securities Brokers (Asia) Limited\nTrue HSBC Securities Brokers (Asia) Limited\nTrue HSBC Securities Brokers (Asia) Limited\nTrue HSBC Securities Brokers (Asia) Limited\nTrue HSBC Securities Brokers (Asia) Limited\nTrue HSBC Securities Brokers (Asia) Limited\nTrue KGI Asia Limited\nTrue KGI Asia Limited\nTrue KGI Asia Limited\nTrue KGI Asia Limited\nTrue KGI Asia Limited\nTrue KGI Asia Limited\nTrue KGI Asia Limited\nTrue KGI Asia Limited\nTrue KGI Asia Limited\nTrue KGI Asia Limited\nTrue KGI Asia Limited\nTrue KGI Asia Limited\nTrue KGI Asia Limited\nTrue KGI Asia Limited\nTrue KGI Asia Limited\nTrue KGI Asia Limited\nTrue KGI Asia Limited\nTrue KGI Asia Limited\nTrue Huarong International Securities Limited\nTrue Huarong International Securities Limited\nTrue Huarong International Securities Limited\nTrue Huarong International Securities Limited\nTrue Huarong International Securities Limited\nTrue Huarong International Securities Limited\nTrue Huarong International Securities Limited\nTrue Huarong International Securities Limited\nTrue Huarong International Securities Limited\nTrue Huarong International Securities Limited\nTrue Huarong International Securities Limited\nTrue Huarong International Securities Limited\nTrue Huarong International Securities Limited\nTrue BNP Paribas Securities (Asia) Limited\nTrue BNP Paribas Securities (Asia) Limited\nTrue Platinum Broking Company Limited\nTrue Platinum Broking Company Limited\nTrue Platinum Broking Company Limited\nTrue HSBC Broking Securities (Hong Kong) Limited\nTrue HSBC Broking Securities (Hong Kong) Limited\nTrue HSBC Broking Securities (Hong Kong) Limited\nTrue HSBC Broking Securities (Hong Kong) Limited\nTrue HSBC Broking Securities (Hong Kong) Limited\nTrue HSBC Broking Securities (Hong Kong) Limited\nTrue HSBC Broking Securities (Hong Kong) Limited\nTrue HSBC Broking Securities (Hong Kong) Limited\nTrue HSBC Broking Securities (Hong Kong) Limited\nTrue HSBC Broking Securities (Hong Kong) Limited\nTrue Halcyon Securities Limited\nTrue Halcyon Securities Limited\nTrue HSBC Securities Brokers (Asia) Limited\nTrue HSBC Securities Brokers (Asia) Limited\nTrue HSBC Securities Brokers (Asia) Limited\nTrue HSBC Securities Brokers (Asia) Limited\nTrue HSBC Securities Brokers (Asia) Limited\nTrue HSBC Securities Brokers (Asia) Limited\nTrue HSBC Securities Brokers (Asia) Limited\nTrue HSBC Securities Brokers (Asia) Limited\nTrue HSBC Securities Brokers (Asia) Limited\nTrue HSBC Securities Brokers (Asia) Limited\nTrue HSBC Securities Brokers (Asia) Limited\nTrue HSBC Securities Brokers (Asia) Limited\nTrue HSBC Securities Brokers (Asia) Limited\nTrue HSBC Securities Brokers (Asia) Limited\nTrue HSBC Securities Brokers (Asia) Limited\nTrue HSBC Securities Brokers (Asia) Limited\nTrue HSBC Securities Brokers (Asia) Limited\nTrue Imagi Brokerage Limited\nTrue Imagi Brokerage Limited\nTrue FB Securities (Hong Kong) Limited\nTrue FB Securities (Hong Kong) Limited\nTrue FB Securities (Hong Kong) Limited\nTrue FB Securities (Hong Kong) Limited\nTrue FB Securities (Hong Kong) Limited\nTrue FB Securities (Hong Kong) Limited\nTrue Fair Eagle Securities Company Limited\nTrue Fair Eagle Securities Company Limited\nTrue Fair Eagle Securities Company Limited\nTrue Fair Eagle Securities Company Limited\nTrue Mason Securities Limited\nTrue Mason Securities Limited\nTrue Mason Securities Limited\nTrue Mason Securities Limited\nTrue Mason Securities Limited\nTrue Mason Securities Limited\nTrue Mason Securities Limited\nTrue Mason Securities Limited\nTrue Mason Securities Limited\nTrue Mason Securities Limited\nTrue BOCI Securities Limited\nTrue BOCI Securities Limited\nTrue BOCI Securities Limited\nTrue BOCI Securities Limited\nTrue BOCI Securities Limited\nTrue BOCI Securities Limited\nTrue BOCI Securities Limited\nTrue BOCI Securities Limited\nTrue BOCI Securities Limited\nTrue Chong Hing Securities Limited\nTrue Chong Hing Securities Limited\nTrue Chong Hing Securities Limited\nTrue Chong Hing Securities Limited\nTrue Chong Hing Securities Limited\nTrue Chong Hing Securities Limited\nTrue BOCI Securities Limited\nTrue BOCI Securities Limited\nTrue BOCI Securities Limited\nTrue BOCI Securities Limited\nTrue BOCI Securities Limited\nTrue China International Capital Corporation Hong Kong Securities Limited\nTrue China International Capital Corporation Hong Kong Securities Limited\nTrue China International Capital Corporation Hong Kong Securities Limited\nTrue China International Capital Corporation Hong Kong Securities Limited\nTrue China International Capital Corporation Hong Kong Securities Limited\nTrue China International Capital Corporation Hong Kong Securities Limited\nTrue China International Capital Corporation Hong Kong Securities Limited\nTrue Fulbright Securities Limited\nTrue Fulbright Securities Limited\nTrue Fulbright Securities Limited\nTrue Fulbright Securities Limited\nTrue Fulbright Securities Limited\nTrue Fulbright Securities Limited\nTrue Fulbright Securities Limited\nTrue Fulbright Securities Limited\nTrue Fulbright Securities Limited\nTrue Fulbright Securities Limited\nTrue Fulbright Securities Limited\nTrue UBS Securities Hong Kong Limited\nTrue UBS Securities Hong Kong Limited\nTrue UBS Securities Hong Kong Limited\nTrue UBS Securities Hong Kong Limited\nTrue UBS Securities Hong Kong Limited\nTrue China Merchants Securities (HK) Co., Limited\nTrue China Merchants Securities (HK) Co., Limited\nTrue China Merchants Securities (HK) Co., Limited\nTrue China Merchants Securities (HK) Co., Limited\nTrue China Merchants Securities (HK) Co., Limited\nTrue China Merchants Securities (HK) Co., Limited\nTrue China Merchants Securities (HK) Co., Limited\nTrue China Merchants Securities (HK) Co., Limited\nTrue China Merchants Securities (HK) Co., Limited\nTrue China Merchants Securities (HK) Co., Limited\nTrue CMB International Global Markets Limited\nTrue CMB International Global Markets Limited\nTrue UBS Securities Hong Kong Limited\nTrue UBS Securities Hong Kong Limited\nTrue UBS Securities Hong Kong Limited\nTrue UBS Securities Hong Kong Limited\nTrue UBS Securities Hong Kong Limited\nTrue UBS Securities Hong Kong Limited\nTrue UBS Securities Hong Kong Limited\nTrue UBS Securities Hong Kong Limited\nTrue UBS Securities Hong Kong Limited\nTrue UBS Securities Hong Kong Limited\nTrue UBS Securities Hong Kong Limited\nTrue UBS Securities Hong Kong Limited\nTrue UBS Securities Hong Kong Limited\nTrue UBS Securities Hong Kong Limited\nTrue UBS Securities Hong Kong Limited\nTrue UBS Securities Hong Kong Limited\nTrue UBS Securities Hong Kong Limited\nTrue Fulbright Securities Limited\nTrue Fulbright Securities Limited\nTrue Fulbright Securities Limited\nTrue Fulbright Securities Limited\nTrue Fulbright Securities Limited\nTrue Fulbright Securities Limited\nTrue Fulbright Securities Limited\nTrue Fulbright Securities Limited\nTrue Fulbright Securities Limited\nTrue Fulbright Securities Limited\nTrue Fulbright Securities Limited\nTrue Fulbright Securities Limited\nTrue Fulbright Securities Limited\nTrue Fulbright Securities Limited\nTrue Fulbright Securities Limited\nTrue Fulbright Securities Limited\nTrue Fulbright Securities Limited\nTrue Fulbright Securities Limited\nTrue Fulbright Securities Limited\nTrue Glory Sun Securities Limited\nTrue Glory Sun Securities Limited\nTrue Glory Sun Securities Limited\nTrue Glory Sun Securities Limited\nTrue Glory Sun Securities Limited\nTrue Glory Sun Securities Limited\nTrue Glory Sun Securities Limited\nTrue China Merchants Securities (HK) Co., Limited\nTrue China Merchants Securities (HK) Co., Limited\nTrue China Merchants Securities (HK) Co., Limited\nTrue China Merchants Securities (HK) Co., Limited\nTrue China Merchants Securities (HK) Co., Limited\nTrue China Merchants Securities (HK) Co., Limited\nTrue China Merchants Securities (HK) Co., Limited\nTrue China Merchants Securities (HK) Co., Limited\nTrue China Merchants Securities (HK) Co., Limited\nTrue China Merchants Securities (HK) Co., Limited\nTrue Fulbright Securities Limited\nTrue Fulbright Securities Limited\nTrue Fulbright Securities Limited\nTrue Success Securities Limited\nTrue Success Securities Limited\nTrue Success Securities Limited\nTrue Success Securities Limited\nTrue Success Securities Limited\nTrue Success Securities Limited\nTrue Success Securities Limited\nTrue Success Securities Limited\nTrue China Guard Investments Limited\nTrue BNP Paribas Securities (Asia) Limited\nTrue BNP Paribas Securities (Asia) Limited\nTrue UBS Securities Hong Kong Limited\nTrue UBS Securities Hong Kong Limited\nTrue UBS Securities Hong Kong Limited\nTrue SG Securities (HK) Limited\nTrue SG Securities (HK) Limited\nTrue SG Securities (HK) Limited\nTrue SG Securities (HK) Limited\nTrue SG Securities (HK) Limited\nTrue J.P. Morgan Broking (Hong Kong) Limited\nTrue J.P. Morgan Broking (Hong Kong) Limited\nTrue J.P. Morgan Broking (Hong Kong) Limited\nTrue J.P. Morgan Broking (Hong Kong) Limited\nTrue J.P. Morgan Broking (Hong Kong) Limited\nTrue BOCI Securities Limited\nTrue J.P. Morgan Broking (Hong Kong) Limited\nTrue J.P. Morgan Broking (Hong Kong) Limited\nTrue HSBC Securities Brokers (Asia) Limited\nTrue HSBC Securities Brokers (Asia) Limited\nTrue BOCI Securities Limited\nTrue Goldman Sachs (Asia) Securities Limited\nTrue Goldman Sachs (Asia) Securities Limited\nTrue Goldman Sachs (Asia) Securities Limited\nTrue Goldman Sachs (Asia) Securities Limited\nTrue Goldman Sachs (Asia) Securities Limited\nTrue UBS Securities Hong Kong Limited\nTrue J.P. Morgan Broking (Hong Kong) Limited\nTrue J.P. Morgan Broking (Hong Kong) Limited\nTrue Guotai Junan Securities (Hong Kong) Limited\nTrue Citigroup Global Markets Asia Limited\nTrue East Asia Securities Company Limited\nTrue Morgan Stanley Hong Kong Securities Limited\nTrue Morgan Stanley Hong Kong Securities Limited\nTrue Citigroup Global Markets Asia Limited\nTrue HSBC Securities Brokers (Asia) Limited\nTrue Morgan Stanley Hong Kong Securities Limited\nTrue Morgan Stanley Hong Kong Securities Limited\nTrue Morgan Stanley Hong Kong Securities Limited\nTrue Morgan Stanley Hong Kong Securities Limited\nTrue DBS Vickers (Hong Kong) Limited\nTrue UBS Securities Hong Kong Limited\nTrue BNP Paribas Securities (Asia) Limited\nTrue HSBC Securities Brokers (Asia) Limited\nTrue Huatai Financial Holdings (Hong Kong) Limited\nTrue Guotai Junan Securities (Hong Kong) Limited\nTrue Korea Investment & Securities Asia Limited\nTrue Citigroup Global Markets Asia Limited\nTrue Citigroup Global Markets Asia Limited\nTrue Haitong International Securities Company Limited\nTrue HSBC Securities Brokers (Asia) Limited\nTrue HSBC Securities Brokers (Asia) Limited\nTrue HSBC Securities Brokers (Asia) Limited\nTrue HSBC Securities Brokers (Asia) Limited\nTrue UBS Securities Hong Kong Limited\nTrue CITIC Securities Brokerage (HK) Limited\nTrue UBS Securities Hong Kong Limited\nTrue BNP Paribas Securities (Asia) Limited\nTrue Macquarie Capital Limited\nTrue Macquarie Capital Limited\nTrue CITIC Securities Brokerage (HK) Limited\n"
     ]
    }
   ],
   "source": [
    "for key, value in mapping.items():\n",
    "    print(isinstance(key, int), value)"
   ]
  },
  {
   "cell_type": "code",
   "execution_count": 0,
   "metadata": {
    "application/vnd.databricks.v1+cell": {
     "cellMetadata": {},
     "inputWidgets": {},
     "nuid": "c94a8a69-a9c1-49da-a84b-303d6d71f4d9",
     "showTitle": false,
     "title": ""
    }
   },
   "outputs": [],
   "source": []
  },
  {
   "cell_type": "code",
   "execution_count": 0,
   "metadata": {
    "application/vnd.databricks.v1+cell": {
     "cellMetadata": {
      "byteLimit": 2048000,
      "rowLimit": 10000
     },
     "inputWidgets": {},
     "nuid": "f3e196b0-8c8f-4275-8479-c71bd66b8049",
     "showTitle": false,
     "title": ""
    }
   },
   "outputs": [],
   "source": [
    "omdc = pd.read_parquet(filter_used.conflated_broker_queue_path)"
   ]
  },
  {
   "cell_type": "code",
   "execution_count": 0,
   "metadata": {
    "application/vnd.databricks.v1+cell": {
     "cellMetadata": {
      "byteLimit": 2048000,
      "rowLimit": 10000
     },
     "inputWidgets": {},
     "nuid": "82c0db66-4928-42cb-a0c9-b6ec162760f0",
     "showTitle": false,
     "title": ""
    }
   },
   "outputs": [
    {
     "output_type": "stream",
     "name": "stderr",
     "output_type": "stream",
     "text": [
      "IOStream.flush timed out\n"
     ]
    },
    {
     "output_type": "execute_result",
     "data": {
      "text/html": [
       "<div>\n",
       "<style scoped>\n",
       "    .dataframe tbody tr th:only-of-type {\n",
       "        vertical-align: middle;\n",
       "    }\n",
       "\n",
       "    .dataframe tbody tr th {\n",
       "        vertical-align: top;\n",
       "    }\n",
       "\n",
       "    .dataframe thead th {\n",
       "        text-align: right;\n",
       "    }\n",
       "</style>\n",
       "<table border=\"1\" class=\"dataframe\">\n",
       "  <thead>\n",
       "    <tr style=\"text-align: right;\">\n",
       "      <th></th>\n",
       "      <th>received_</th>\n",
       "      <th>timestampNanos_</th>\n",
       "      <th>eeid_event_id</th>\n",
       "      <th>securityCode_</th>\n",
       "      <th>side_</th>\n",
       "      <th>brokerNumber_</th>\n",
       "      <th>type</th>\n",
       "      <th>broker_queue_msg_index</th>\n",
       "      <th>priority_</th>\n",
       "      <th>level_</th>\n",
       "      <th>createdNanos_</th>\n",
       "    </tr>\n",
       "  </thead>\n",
       "  <tbody>\n",
       "    <tr>\n",
       "      <th>0</th>\n",
       "      <td>1726794000003949138</td>\n",
       "      <td>1726794000003000000</td>\n",
       "      <td>1220475499017404417</td>\n",
       "      <td>1359</td>\n",
       "      <td>2</td>\n",
       "      <td>2877</td>\n",
       "      <td>B</td>\n",
       "      <td>0</td>\n",
       "      <td>0</td>\n",
       "      <td>0</td>\n",
       "      <td>1726794000003949138</td>\n",
       "    </tr>\n",
       "    <tr>\n",
       "      <th>1</th>\n",
       "      <td>1726794000003949138</td>\n",
       "      <td>1726794000003000000</td>\n",
       "      <td>1220475499017404417</td>\n",
       "      <td>1359</td>\n",
       "      <td>1</td>\n",
       "      <td>2873</td>\n",
       "      <td>B</td>\n",
       "      <td>0</td>\n",
       "      <td>1</td>\n",
       "      <td>0</td>\n",
       "      <td>1726794000003949138</td>\n",
       "    </tr>\n",
       "    <tr>\n",
       "      <th>2</th>\n",
       "      <td>1726794000003949138</td>\n",
       "      <td>1726794000003000000</td>\n",
       "      <td>1220475499017404417</td>\n",
       "      <td>1359</td>\n",
       "      <td>1</td>\n",
       "      <td>2873</td>\n",
       "      <td>B</td>\n",
       "      <td>1</td>\n",
       "      <td>2</td>\n",
       "      <td>1</td>\n",
       "      <td>1726794000003949138</td>\n",
       "    </tr>\n",
       "    <tr>\n",
       "      <th>3</th>\n",
       "      <td>1726794000003949138</td>\n",
       "      <td>1726794000003000000</td>\n",
       "      <td>1220475499017404417</td>\n",
       "      <td>1359</td>\n",
       "      <td>2</td>\n",
       "      <td>2877</td>\n",
       "      <td>B</td>\n",
       "      <td>2</td>\n",
       "      <td>3</td>\n",
       "      <td>1</td>\n",
       "      <td>1726794000003949138</td>\n",
       "    </tr>\n",
       "    <tr>\n",
       "      <th>4</th>\n",
       "      <td>1726794000003949138</td>\n",
       "      <td>1726794000003000000</td>\n",
       "      <td>1220475499017404417</td>\n",
       "      <td>1359</td>\n",
       "      <td>1</td>\n",
       "      <td>2873</td>\n",
       "      <td>B</td>\n",
       "      <td>2</td>\n",
       "      <td>4</td>\n",
       "      <td>1</td>\n",
       "      <td>1726794000003949138</td>\n",
       "    </tr>\n",
       "  </tbody>\n",
       "</table>\n",
       "</div>"
      ],
      "text/plain": [
       "             received_      timestampNanos_  ...  level_        createdNanos_\n",
       "0  1726794000003949138  1726794000003000000  ...       0  1726794000003949138\n",
       "1  1726794000003949138  1726794000003000000  ...       0  1726794000003949138\n",
       "2  1726794000003949138  1726794000003000000  ...       1  1726794000003949138\n",
       "3  1726794000003949138  1726794000003000000  ...       1  1726794000003949138\n",
       "4  1726794000003949138  1726794000003000000  ...       1  1726794000003949138\n",
       "\n",
       "[5 rows x 11 columns]"
      ]
     },
     "execution_count": 123,
     "metadata": {},
     "output_type": "execute_result"
    },
    {
     "output_type": "stream",
     "name": "stderr",
     "output_type": "stream",
     "text": [
      "IOStream.flush timed out\n"
     ]
    }
   ],
   "source": [
    "omdc.head()"
   ]
  },
  {
   "cell_type": "code",
   "execution_count": 0,
   "metadata": {
    "application/vnd.databricks.v1+cell": {
     "cellMetadata": {},
     "inputWidgets": {},
     "nuid": "72268f8a-f737-4e05-a1ef-10ed55bfce4d",
     "showTitle": false,
     "title": ""
    }
   },
   "outputs": [],
   "source": []
  },
  {
   "cell_type": "code",
   "execution_count": 0,
   "metadata": {
    "application/vnd.databricks.v1+cell": {
     "cellMetadata": {},
     "inputWidgets": {},
     "nuid": "e7d6e967-416c-4f87-bb55-c05b53757546",
     "showTitle": false,
     "title": ""
    }
   },
   "outputs": [],
   "source": [
    "def get_omdc_broker_queue(filter, security_codes):\n",
    "    start_time, end_time, date_to_pull, date_filter = (\n",
    "        to_milli_timestamp(filter.start_time) * 1e6,\n",
    "        to_milli_timestamp(filter.end_time) * 1e6,\n",
    "        filter.start_time.format(\"YYYY-MM-DD\"),\n",
    "        int(filter.start_time.format(\"YYYYMMDD\")),\n",
    "    )\n",
    "    # omdc = pd.read_feather(\n",
    "    #     \"/Users/kartikeyabisht/FobaBacktestEngine/temp_data/OMDC.feather\"\n",
    "    # )\n",
    "    omdc = pd.read_parquet(filter.conflated_broker_queue_path)\n",
    "    \n",
    "\n",
    "    omdc[\"securityCode_\"] = omdc[\"securityCode_\"].apply(\n",
    "        lambda x: str(x) if isinstance(x, int) else x\n",
    "    )\n",
    "    omdc = omdc[omdc[\"securityCode_\"].isin(security_codes)]\n",
    "    omdc_filter_time = omdc[\n",
    "        (omdc[\"createdNanos_\"] >= start_time)\n",
    "        & (omdc[\"createdNanos_\"] <= end_time)\n",
    "    ]\n",
    "    omdc_final = omdc_filter_time.sort_values(\n",
    "        by=[\"timestampNanos_\", \"side_\", \"priority_\"]\n",
    "    )\n",
    "    omdc_final_list = []\n",
    "    for _, row in omdc_final.iterrows():\n",
    "        row_dict = row.to_dict()\n",
    "        omdc_final_list.append(MyRow(row_dict))\n",
    "    return omdc_final_list"
   ]
  },
  {
   "cell_type": "code",
   "execution_count": 0,
   "metadata": {
    "application/vnd.databricks.v1+cell": {
     "cellMetadata": {
      "byteLimit": 2048000,
      "rowLimit": 10000
     },
     "inputWidgets": {},
     "nuid": "3f0bd79a-a069-471f-9de6-c5ee4ff961a5",
     "showTitle": false,
     "title": ""
    }
   },
   "outputs": [
    {
     "output_type": "stream",
     "name": "stdout",
     "output_type": "stream",
     "text": [
      "\u001B[0;31mSignature:\u001B[0m \u001B[0;32mdef\u001B[0m \u001B[0momdc_broker_queue\u001B[0m\u001B[0;34m(\u001B[0m\u001B[0mfilter\u001B[0m\u001B[0;34m,\u001B[0m \u001B[0mfoba_events\u001B[0m\u001B[0;34m)\u001B[0m\u001B[0;34m\u001B[0m\u001B[0;34m\u001B[0m\u001B[0m\n\u001B[0;31mSource:\u001B[0m   \n\u001B[0;34m@\u001B[0m\u001B[0mprovides\u001B[0m\u001B[0;34m(\u001B[0m\u001B[0;34m\"omdc_broker_queue\"\u001B[0m\u001B[0;34m)\u001B[0m\u001B[0;34m\u001B[0m\n\u001B[0;34m\u001B[0m\u001B[0;32mdef\u001B[0m \u001B[0momdc_broker_queue\u001B[0m\u001B[0;34m(\u001B[0m\u001B[0mfilter\u001B[0m\u001B[0;34m,\u001B[0m \u001B[0mfoba_events\u001B[0m\u001B[0;34m)\u001B[0m\u001B[0;34m:\u001B[0m\u001B[0;34m\u001B[0m\n\u001B[0;34m\u001B[0m    \u001B[0msecurity_codes\u001B[0m \u001B[0;34m=\u001B[0m \u001B[0mImmutableDict\u001B[0m\u001B[0;34m(\u001B[0m\u001B[0;34m\u001B[0m\n\u001B[0;34m\u001B[0m        \u001B[0;34m(\u001B[0m\u001B[0mevent\u001B[0m\u001B[0;34m.\u001B[0m\u001B[0mbook_id\u001B[0m\u001B[0;34m,\u001B[0m \u001B[0mevent\u001B[0m\u001B[0;34m.\u001B[0m\u001B[0mbook_id\u001B[0m\u001B[0;34m)\u001B[0m \u001B[0;32mfor\u001B[0m \u001B[0mevent\u001B[0m \u001B[0;32min\u001B[0m \u001B[0mfoba_events\u001B[0m\u001B[0;34m.\u001B[0m\u001B[0mvalues\u001B[0m\u001B[0;34m(\u001B[0m\u001B[0;34m)\u001B[0m\u001B[0;34m\u001B[0m\n\u001B[0;34m\u001B[0m    \u001B[0;34m)\u001B[0m\u001B[0;34m\u001B[0m\n\u001B[0;34m\u001B[0m    \u001B[0mresult_dict\u001B[0m \u001B[0;34m=\u001B[0m \u001B[0mdict\u001B[0m\u001B[0;34m(\u001B[0m\u001B[0;34m)\u001B[0m\u001B[0;34m\u001B[0m\n\u001B[0;34m\u001B[0m\u001B[0;34m\u001B[0m\n\u001B[0;34m\u001B[0m    \u001B[0mbooks\u001B[0m \u001B[0;34m=\u001B[0m \u001B[0;34m[\u001B[0m\u001B[0;34m]\u001B[0m\u001B[0;34m\u001B[0m\n\u001B[0;34m\u001B[0m    \u001B[0mcodes\u001B[0m \u001B[0;34m=\u001B[0m \u001B[0;34m[\u001B[0m\u001B[0;34m]\u001B[0m\u001B[0;34m\u001B[0m\n\u001B[0;34m\u001B[0m    \u001B[0;32mfor\u001B[0m \u001B[0mbook\u001B[0m\u001B[0;34m,\u001B[0m \u001B[0mcode\u001B[0m \u001B[0;32min\u001B[0m \u001B[0msecurity_codes\u001B[0m\u001B[0;34m.\u001B[0m\u001B[0mitems\u001B[0m\u001B[0;34m(\u001B[0m\u001B[0;34m)\u001B[0m\u001B[0;34m:\u001B[0m\u001B[0;34m\u001B[0m\n\u001B[0;34m\u001B[0m        \u001B[0mbooks\u001B[0m\u001B[0;34m.\u001B[0m\u001B[0mappend\u001B[0m\u001B[0;34m(\u001B[0m\u001B[0mbook\u001B[0m\u001B[0;34m)\u001B[0m\u001B[0;34m\u001B[0m\n\u001B[0;34m\u001B[0m        \u001B[0mcodes\u001B[0m\u001B[0;34m.\u001B[0m\u001B[0mappend\u001B[0m\u001B[0;34m(\u001B[0m\u001B[0mcode\u001B[0m\u001B[0;34m)\u001B[0m\u001B[0;34m\u001B[0m\n\u001B[0;34m\u001B[0m\u001B[0;34m\u001B[0m\n\u001B[0;34m\u001B[0m    \u001B[0mstart\u001B[0m \u001B[0;34m=\u001B[0m \u001B[0;36m0\u001B[0m\u001B[0;34m\u001B[0m\n\u001B[0;34m\u001B[0m    \u001B[0mstep\u001B[0m \u001B[0;34m=\u001B[0m \u001B[0;36m50\u001B[0m\u001B[0;34m\u001B[0m\n\u001B[0;34m\u001B[0m    \u001B[0;32mwhile\u001B[0m \u001B[0mstart\u001B[0m \u001B[0;34m<\u001B[0m \u001B[0mlen\u001B[0m\u001B[0;34m(\u001B[0m\u001B[0mbooks\u001B[0m\u001B[0;34m)\u001B[0m\u001B[0;34m:\u001B[0m\u001B[0;34m\u001B[0m\n\u001B[0;34m\u001B[0m        \u001B[0mend\u001B[0m \u001B[0;34m=\u001B[0m \u001B[0mmin\u001B[0m\u001B[0;34m(\u001B[0m\u001B[0mlen\u001B[0m\u001B[0;34m(\u001B[0m\u001B[0mbooks\u001B[0m\u001B[0;34m)\u001B[0m\u001B[0;34m,\u001B[0m \u001B[0mstart\u001B[0m \u001B[0;34m+\u001B[0m \u001B[0mstep\u001B[0m\u001B[0;34m)\u001B[0m\u001B[0;34m\u001B[0m\n\u001B[0;34m\u001B[0m        \u001B[0mdata\u001B[0m \u001B[0;34m=\u001B[0m \u001B[0mget_omdc_broker_queue\u001B[0m\u001B[0;34m(\u001B[0m\u001B[0mfilter\u001B[0m\u001B[0;34m,\u001B[0m \u001B[0mcodes\u001B[0m\u001B[0;34m[\u001B[0m\u001B[0mstart\u001B[0m\u001B[0;34m:\u001B[0m\u001B[0mend\u001B[0m\u001B[0;34m]\u001B[0m\u001B[0;34m)\u001B[0m\u001B[0;34m\u001B[0m\n\u001B[0;34m\u001B[0m        \u001B[0;32mfor\u001B[0m \u001B[0mbook\u001B[0m\u001B[0;34m,\u001B[0m \u001B[0mcode\u001B[0m \u001B[0;32min\u001B[0m \u001B[0mzip\u001B[0m\u001B[0;34m(\u001B[0m\u001B[0mbooks\u001B[0m\u001B[0;34m[\u001B[0m\u001B[0mstart\u001B[0m\u001B[0;34m:\u001B[0m\u001B[0mend\u001B[0m\u001B[0;34m]\u001B[0m\u001B[0;34m,\u001B[0m \u001B[0mcodes\u001B[0m\u001B[0;34m[\u001B[0m\u001B[0mstart\u001B[0m\u001B[0;34m:\u001B[0m\u001B[0mend\u001B[0m\u001B[0;34m]\u001B[0m\u001B[0;34m)\u001B[0m\u001B[0;34m:\u001B[0m\u001B[0;34m\u001B[0m\n\u001B[0;34m\u001B[0m            \u001B[0mresult_dict\u001B[0m\u001B[0;34m[\u001B[0m\u001B[0mbook\u001B[0m\u001B[0;34m]\u001B[0m \u001B[0;34m=\u001B[0m \u001B[0;34m[\u001B[0m\u001B[0me\u001B[0m \u001B[0;32mfor\u001B[0m \u001B[0me\u001B[0m \u001B[0;32min\u001B[0m \u001B[0mdata\u001B[0m \u001B[0;32mif\u001B[0m \u001B[0me\u001B[0m\u001B[0;34m.\u001B[0m\u001B[0msecurityCode_\u001B[0m \u001B[0;34m==\u001B[0m \u001B[0mcode\u001B[0m\u001B[0;34m]\u001B[0m\u001B[0;34m\u001B[0m\n\u001B[0;34m\u001B[0m        \u001B[0mstart\u001B[0m \u001B[0;34m=\u001B[0m \u001B[0mend\u001B[0m\u001B[0;34m\u001B[0m\n\u001B[0;34m\u001B[0m\u001B[0;34m\u001B[0m\n\u001B[0;34m\u001B[0m    \u001B[0;32mreturn\u001B[0m \u001B[0mImmutableDict\u001B[0m\u001B[0;34m(\u001B[0m\u001B[0;34m\u001B[0m\n\u001B[0;34m\u001B[0m        \u001B[0;34m(\u001B[0m\u001B[0mbook\u001B[0m\u001B[0;34m,\u001B[0m \u001B[0mbroker_queue\u001B[0m\u001B[0;34m)\u001B[0m \u001B[0;32mfor\u001B[0m \u001B[0mbook\u001B[0m\u001B[0;34m,\u001B[0m \u001B[0mbroker_queue\u001B[0m \u001B[0;32min\u001B[0m \u001B[0mresult_dict\u001B[0m\u001B[0;34m.\u001B[0m\u001B[0mitems\u001B[0m\u001B[0;34m(\u001B[0m\u001B[0;34m)\u001B[0m\u001B[0;34m\u001B[0m\n\u001B[0;34m\u001B[0m    \u001B[0;34m)\u001B[0m\u001B[0;34m\u001B[0m\u001B[0;34m\u001B[0m\u001B[0m\n\u001B[0;31mFile:\u001B[0m      /Workspace/Users/kartikeya.bisht@optiver.com.au/FOBA_create/foba_backtest_engine/components/order_book/utils/foba_omdc_broker_queue_processor.py\n\u001B[0;31mLine:\u001B[0m      83\n\u001B[0;31mType:\u001B[0m      function"
     ]
    }
   ],
   "source": [
    "omdc_broker_queue??"
   ]
  },
  {
   "cell_type": "code",
   "execution_count": 0,
   "metadata": {
    "application/vnd.databricks.v1+cell": {
     "cellMetadata": {},
     "inputWidgets": {},
     "nuid": "1857deb6-059a-46b2-a987-416d3fce3a8c",
     "showTitle": false,
     "title": ""
    }
   },
   "outputs": [],
   "source": [
    "\n",
    "        processors.append(static_data_info)\n",
    "        processors.append(static_data_enrichment)\n",
    "\n",
    "        processors.append(send_times)\n",
    "\n",
    "        processors.append(fetch_feed_stats_from_book_builders)\n",
    "        processors.append(annotate_slippages)\n",
    "        processors.append(full_feed_state_enrichment)\n",
    "        processors.append(feed_states_at_join)\n",
    "\n",
    "        processors.append(order_state_creates)\n",
    "        processors.append(order_matches)\n",
    "        processors.append(order_deletes)\n",
    "        processors.append(order_delete_matches)\n",
    "        \n",
    "        processors.append(omdc_broker_number_to_name)\n",
    "\n",
    "        processors.append(get_optiver_trades)\n",
    "        processors.append(optiver_trade_and_quotes)\n",
    "\n",
    "        processors.append(category_enrichment)\n",
    "        processors.append(derived_enrichment)\n",
    "        # processors.append(enrich_pnl)\n",
    "\n",
    "        processors.append(event_enricher)\n",
    "\n",
    "        if enrich_competitor:\n",
    "            processors.append(omdc_broker_queue)\n",
    "            processors.append(omdc_order_number_to_broker_number)\n",
    "            processors.append(competitor_enrichment)\n",
    "            processors.append(foreign_counterparty_enrichment)\n",
    "            processors.append(broker_orders_enrichment)"
   ]
  },
  {
   "cell_type": "code",
   "execution_count": 0,
   "metadata": {
    "application/vnd.databricks.v1+cell": {
     "cellMetadata": {
      "byteLimit": 2048000,
      "rowLimit": 10000
     },
     "inputWidgets": {},
     "nuid": "3cdef177-9968-4761-a58c-aafd193d6054",
     "showTitle": false,
     "title": ""
    }
   },
   "outputs": [],
   "source": [
    "from collections import namedtuple\n",
    "\n",
    "import pandas as pd\n",
    "\n",
    "from foba_backtest_engine.components.order_book.utils import MyRow as MyRow\n",
    "from foba_backtest_engine.enrichment import provides\n",
    "from foba_backtest_engine.utils.base_utils import ImmutableDict\n",
    "from foba_backtest_engine.utils.time_utils import to_milli_timestamp\n",
    "\n",
    "\"\"\"\n",
    "Expected BrokerQueue (for OMDC only)\n",
    "    - Broker queue arrives in a conflated manner & is sided ... separate for ask and bid\n",
    "    \n",
    "    e.g. Ask Broker Queue example\n",
    "\n",
    "    || PRICE  || ORDERS\n",
    "       100.20  |  [1000, 2000, 1300, 5550, 1000]      (volume)\n",
    "               |  [9481, 9910, 4123, 5441, 2221]      (brokerId)\n",
    "\n",
    "       100.00  |  [4000, 5500]                        (volume)\n",
    "               |  [9481, 2221]                        (brokerId)\n",
    "\n",
    "    \n",
    "               Entry:    1    2    3    4   5   6   7   8   \n",
    "        BQ ->  Items:  9481 9910 4123 5441 2221 1 9498 2221\n",
    "                Type:    B    B    B    B   B   S   B   B\n",
    "    \n",
    "    - On the FPGA .. as the BQ arrives in a byte array stream the BEST way to store the queue is item-wise\n",
    "    - each row should have:\n",
    "        - securityCode  (from 4 byte Uint32 in message)\n",
    "        - priority_ this is a number from [0, 40] ... i.e. priority from front of BEST LEVEL (this just increments on every \"B\" item)\n",
    "        - brokerNumber_ (extracted from the item)\n",
    "        - level_    this defaults to 0 unless we receive \"S\" items .. then we increment by (1)\n",
    "\n",
    "\"\"\"\n",
    "\n",
    "OmdcBrokerQueue = namedtuple(\n",
    "    \"OmdcBrokerQueue\",\n",
    "    (\n",
    "        \"createdNanos_\",\n",
    "        \"received_\",\n",
    "        \"seq_\",\n",
    "        \"securityCode_\",\n",
    "        \"side_\",\n",
    "        \"priority_\",\n",
    "        \"brokerNumber_\",\n",
    "        \"level_\",\n",
    "    ),\n",
    ")\n",
    "\n",
    "\n",
    "def get_omdc_broker_queue(filter, security_codes):\n",
    "    start_time, end_time, date_to_pull, date_filter = (\n",
    "        to_milli_timestamp(filter.start_time) * 1e6,\n",
    "        to_milli_timestamp(filter.end_time) * 1e6,\n",
    "        filter.start_time.format(\"YYYY-MM-DD\"),\n",
    "        int(filter.start_time.format(\"YYYYMMDD\")),\n",
    "    )\n",
    "    # omdc = pd.read_feather(\n",
    "    #     \"/Users/kartikeyabisht/FobaBacktestEngine/temp_data/OMDC.feather\"\n",
    "    # )\n",
    "    omdc = pd.read_parquet(filter.conflated_broker_queue_path)\n",
    "    \n",
    "\n",
    "    omdc[\"securityCode_\"] = omdc[\"securityCode_\"].apply(\n",
    "        lambda x: str(x) if isinstance(x, int) else x\n",
    "    )\n",
    "    omdc = omdc[omdc[\"securityCode_\"].isin(security_codes)]\n",
    "    omdc_filter_time = omdc[\n",
    "        (omdc[\"createdNanos_\"] >= start_time)\n",
    "        & (omdc[\"createdNanos_\"] <= end_time)\n",
    "    ]\n",
    "    omdc_final = omdc_filter_time.sort_values(\n",
    "        by=[\"timestampNanos_\", \"side_\", \"priority_\"]\n",
    "    )\n",
    "    omdc_final_list = []\n",
    "    for _, row in omdc_final.iterrows():\n",
    "        row_dict = row.to_dict()\n",
    "        omdc_final_list.append(MyRow(row_dict))\n",
    "    return omdc_final_list\n",
    "\n",
    "\n",
    "@provides(\"omdc_broker_queue\")\n",
    "def omdc_broker_queue(filter, foba_events):\n",
    "    security_codes = ImmutableDict(\n",
    "        (event.book_id, event.book_id) for event in foba_events.values()\n",
    "    )\n",
    "    result_dict = dict()\n",
    "\n",
    "    books = []\n",
    "    codes = []\n",
    "    for book, code in security_codes.items():\n",
    "        books.append(book)\n",
    "        codes.append(code)\n",
    "\n",
    "    start = 0\n",
    "    step = 50\n",
    "    while start < len(books):\n",
    "        end = min(len(books), start + step)\n",
    "        data = get_omdc_broker_queue(filter, codes[start:end])\n",
    "        for book, code in zip(books[start:end], codes[start:end]):\n",
    "            result_dict[book] = [e for e in data if e.securityCode_ == code]\n",
    "        start = end\n",
    "\n",
    "    return ImmutableDict(\n",
    "        (book, broker_queue) for book, broker_queue in result_dict.items()\n",
    "    )\n"
   ]
  },
  {
   "cell_type": "code",
   "execution_count": 0,
   "metadata": {
    "application/vnd.databricks.v1+cell": {
     "cellMetadata": {},
     "inputWidgets": {},
     "nuid": "a14a5651-1eb7-485d-a513-ab5eff8ec496",
     "showTitle": false,
     "title": ""
    }
   },
   "outputs": [],
   "source": []
  },
  {
   "cell_type": "code",
   "execution_count": 0,
   "metadata": {
    "application/vnd.databricks.v1+cell": {
     "cellMetadata": {},
     "inputWidgets": {},
     "nuid": "4fb790a3-ee23-4f62-80c1-d13e7fe8877a",
     "showTitle": false,
     "title": ""
    }
   },
   "outputs": [],
   "source": [
    "from collections import namedtuple\n",
    "\n",
    "import pandas as pd\n",
    "\n",
    "from foba_backtest_engine.components.order_book.utils import MyRow as MyRow\n",
    "from foba_backtest_engine.enrichment import provides\n",
    "from foba_backtest_engine.utils.base_utils import ImmutableDict\n",
    "from foba_backtest_engine.utils.time_utils import to_milli_timestamp\n",
    "\n",
    "\"\"\"\n",
    "Expected BrokerQueue (for OMDC only)\n",
    "    - Broker queue arrives in a conflated manner & is sided ... separate for ask and bid\n",
    "    \n",
    "    e.g. Ask Broker Queue example\n",
    "\n",
    "    || PRICE  || ORDERS\n",
    "       100.20  |  [1000, 2000, 1300, 5550, 1000]      (volume)\n",
    "               |  [9481, 9910, 4123, 5441, 2221]      (brokerId)\n",
    "\n",
    "       100.00  |  [4000, 5500]                        (volume)\n",
    "               |  [9481, 2221]                        (brokerId)\n",
    "\n",
    "    \n",
    "               Entry:    1    2    3    4   5   6   7   8   \n",
    "        BQ ->  Items:  9481 9910 4123 5441 2221 1 9498 2221\n",
    "                Type:    B    B    B    B   B   S   B   B\n",
    "    \n",
    "    - On the FPGA .. as the BQ arrives in a byte array stream the BEST way to store the queue is item-wise\n",
    "    - each row should have:\n",
    "        - securityCode  (from 4 byte Uint32 in message)\n",
    "        - priority_ this is a number from [0, 40] ... i.e. priority from front of BEST LEVEL (this just increments on every \"B\" item)\n",
    "        - brokerNumber_ (extracted from the item)\n",
    "        - level_    this defaults to 0 unless we receive \"S\" items .. then we increment by (1)\n",
    "\n",
    "\"\"\"\n",
    "\n",
    "OmdcBrokerQueue = namedtuple(\n",
    "    \"OmdcBrokerQueue\",\n",
    "    (\n",
    "        \"createdNanos_\",\n",
    "        \"received_\",\n",
    "        \"seq_\",\n",
    "        \"securityCode_\",\n",
    "        \"side_\",\n",
    "        \"priority_\",\n",
    "        \"brokerNumber_\",\n",
    "        \"level_\",\n",
    "    ),\n",
    ")\n",
    "\n",
    "\n",
    "def get_omdc_broker_queue(filter, security_codes):\n",
    "    start_time, end_time, date_to_pull, date_filter = (\n",
    "        to_milli_timestamp(filter.start_time) * 1e6,\n",
    "        to_milli_timestamp(filter.end_time) * 1e6,\n",
    "        filter.start_time.format(\"YYYY-MM-DD\"),\n",
    "        int(filter.start_time.format(\"YYYYMMDD\")),\n",
    "    )\n",
    "    # omdc = pd.read_feather(\n",
    "    #     \"/Users/kartikeyabisht/FobaBacktestEngine/temp_data/OMDC.feather\"\n",
    "    # )\n",
    "    omdc = pd.read_parquet(filter.conflated_broker_queue_path)\n",
    "    \n",
    "\n",
    "    omdc[\"securityCode_\"] = omdc[\"securityCode_\"].apply(\n",
    "        lambda x: str(x) if isinstance(x, int) else x\n",
    "    )\n",
    "    omdc = omdc[omdc[\"securityCode_\"].isin(security_codes)]\n",
    "    omdc_filter_time = omdc[\n",
    "        (omdc[\"createdNanos_\"] >= start_time)\n",
    "        & (omdc[\"createdNanos_\"] <= end_time)\n",
    "    ]\n",
    "    omdc_final = omdc_filter_time.sort_values(\n",
    "        by=[\"timestampNanos_\", \"side_\", \"priority_\"]\n",
    "    )\n",
    "    omdc_final_list = []\n",
    "    for _, row in omdc_final.iterrows():\n",
    "        row_dict = row.to_dict()\n",
    "        omdc_final_list.append(MyRow(row_dict))\n",
    "    return omdc_final_list\n",
    "\n",
    "\n",
    "@provides(\"omdc_broker_queue\")\n",
    "def omdc_broker_queue(filter, foba_events):\n",
    "    security_codes = ImmutableDict(\n",
    "        (event.book_id, event.book_id) for event in foba_events.values()\n",
    "    )\n",
    "    result_dict = dict()\n",
    "\n",
    "    books = []\n",
    "    codes = []\n",
    "    for book, code in security_codes.items():\n",
    "        books.append(book)\n",
    "        codes.append(code)\n",
    "\n",
    "    start = 0\n",
    "    step = 50\n",
    "    while start < len(books):\n",
    "        end = min(len(books), start + step)\n",
    "        data = get_omdc_broker_queue(filter, codes[start:end])\n",
    "        for book, code in zip(books[start:end], codes[start:end]):\n",
    "            result_dict[book] = [e for e in data if e.securityCode_ == code]\n",
    "        start = end\n",
    "\n",
    "    return ImmutableDict(\n",
    "        (book, broker_queue) for book, broker_queue in result_dict.items()\n",
    "    )\n"
   ]
  },
  {
   "cell_type": "code",
   "execution_count": 0,
   "metadata": {
    "application/vnd.databricks.v1+cell": {
     "cellMetadata": {
      "byteLimit": 2048000,
      "rowLimit": 10000
     },
     "inputWidgets": {},
     "nuid": "a5a1c1ab-eceb-420e-a73e-353c9f3a39cd",
     "showTitle": false,
     "title": ""
    }
   },
   "outputs": [
    {
     "output_type": "execute_result",
     "data": {
      "text/plain": [
       "['1',\n",
       " '101',\n",
       " '1024',\n",
       " '1038',\n",
       " '1044',\n",
       " '1088',\n",
       " '1093',\n",
       " '1099',\n",
       " '11',\n",
       " '1109',\n",
       " '1113',\n",
       " '1171',\n",
       " '1177',\n",
       " '1186',\n",
       " '12',\n",
       " '1209',\n",
       " '1211',\n",
       " '1288',\n",
       " '1299',\n",
       " '1336',\n",
       " '1339',\n",
       " '1347',\n",
       " '135',\n",
       " '1359',\n",
       " '1378',\n",
       " '1398',\n",
       " '151',\n",
       " '1519',\n",
       " '16',\n",
       " '1658',\n",
       " '17',\n",
       " '175',\n",
       " '1797',\n",
       " '1800',\n",
       " '1801',\n",
       " '1810',\n",
       " '1816',\n",
       " '1833',\n",
       " '1876',\n",
       " '1898',\n",
       " '19',\n",
       " '1918',\n",
       " '1928',\n",
       " '1929',\n",
       " '1988',\n",
       " '1997',\n",
       " '2',\n",
       " '20',\n",
       " '2007',\n",
       " '2013',\n",
       " '2015',\n",
       " '2018',\n",
       " '2020',\n",
       " '2202',\n",
       " '2238',\n",
       " '2269',\n",
       " '23',\n",
       " '2313',\n",
       " '2318',\n",
       " '2319',\n",
       " '2328',\n",
       " '2331',\n",
       " '2333',\n",
       " '2359',\n",
       " '2382',\n",
       " '2388',\n",
       " '241',\n",
       " '2518',\n",
       " '2600',\n",
       " '2601',\n",
       " '2618',\n",
       " '2628',\n",
       " '267',\n",
       " '268',\n",
       " '2688',\n",
       " '27',\n",
       " '285',\n",
       " '288',\n",
       " '2899',\n",
       " '291',\n",
       " '3',\n",
       " '316',\n",
       " '322',\n",
       " '3323',\n",
       " '3328',\n",
       " '3333',\n",
       " '358',\n",
       " '3690',\n",
       " '3692',\n",
       " '384',\n",
       " '386',\n",
       " '388',\n",
       " '3888',\n",
       " '390',\n",
       " '3968',\n",
       " '3988',\n",
       " '489',\n",
       " '5',\n",
       " '522',\n",
       " '6',\n",
       " '6030',\n",
       " '6060',\n",
       " '6098',\n",
       " '6186',\n",
       " '66',\n",
       " '6618',\n",
       " '6666',\n",
       " '669',\n",
       " '6690',\n",
       " '6837',\n",
       " '6862',\n",
       " '688',\n",
       " '700',\n",
       " '728',\n",
       " '753',\n",
       " '762',\n",
       " '772',\n",
       " '777',\n",
       " '780',\n",
       " '788',\n",
       " '823',\n",
       " '836',\n",
       " '857',\n",
       " '868',\n",
       " '881',\n",
       " '883',\n",
       " '902',\n",
       " '909',\n",
       " '914',\n",
       " '939',\n",
       " '941',\n",
       " '960',\n",
       " '9618',\n",
       " '9626',\n",
       " '9633',\n",
       " '968',\n",
       " '9698',\n",
       " '981',\n",
       " '9866',\n",
       " '9868',\n",
       " '9888',\n",
       " '9898',\n",
       " '9901',\n",
       " '992',\n",
       " '9961',\n",
       " '998',\n",
       " '9988',\n",
       " '9999']"
      ]
     },
     "execution_count": 124,
     "metadata": {},
     "output_type": "execute_result"
    }
   ],
   "source": [
    "feedcodes"
   ]
  },
  {
   "cell_type": "code",
   "execution_count": 0,
   "metadata": {
    "application/vnd.databricks.v1+cell": {
     "cellMetadata": {
      "byteLimit": 2048000,
      "rowLimit": 10000
     },
     "inputWidgets": {},
     "nuid": "4a1c7dab-e3bd-4821-955a-6945cd72f6f2",
     "showTitle": false,
     "title": ""
    }
   },
   "outputs": [],
   "source": [
    "selected_columns = ['t0', 'omd_send_ts', 'eeid_event_id', 'security_code', 'side', 'item', 'type', 'broker_queue_msg_index']\n",
    "\n",
    "OMDC = (spark.read.parquet(f\"/Volumes/external/opapac-ess-prd-apse2/hacksaw/sehk/omdc_broker_queue/market_session_date={date_to_run.isoformat()}/\")\n",
    "        .filter(F.col(\"security_code\").isin(feedcodes))\n",
    "        .select(*selected_columns)\n",
    "        .toPandas())"
   ]
  },
  {
   "cell_type": "code",
   "execution_count": 0,
   "metadata": {
    "application/vnd.databricks.v1+cell": {
     "cellMetadata": {
      "byteLimit": 2048000,
      "rowLimit": 10000
     },
     "inputWidgets": {},
     "nuid": "90098e37-f02f-4aec-b096-bc147a59b0b7",
     "showTitle": false,
     "title": ""
    }
   },
   "outputs": [],
   "source": [
    "def get_and_persist_omdc(feedcodes, date_to_run, path=\"/Workspace/Users/kartikeya.bisht@optiver.com.au/FOBA_create/data/ConflatedBrokerQueue_{date_to_run}.parquet\"):\n",
    "    selected_columns = ['t0', 'omd_send_ts', 'eeid_event_id', 'security_code', 'side', 'item', 'type', 'broker_queue_msg_index']\n",
    "\n",
    "    OMDC = (spark.read.parquet(f\"/Volumes/external/opapac-ess-prd-apse2/hacksaw/sehk/omdc_broker_queue/market_session_date={date_to_run.isoformat()}/\")\n",
    "            .filter(F.col(\"security_code\").isin(feedcodes))\n",
    "            .select(*selected_columns)\n",
    "            .toPandas())\n",
    "\n",
    "    OMDC = OMDC.rename(columns = {\n",
    "        \"t0\": \"received_\",\n",
    "        \"omd_send_ts\": \"timestampNanos_\",\n",
    "        \"security_code\":\"securityCode_\",\n",
    "        \"side\": \"side_\",\n",
    "    })\n",
    "\n",
    "    OMDC[\"priority_pre_step\"] = np.where(OMDC[\"type\"] == \"B\", 1, 0)\n",
    "    OMDC = OMDC.sort_values(by=['eeid_event_id','securityCode_','side_','broker_queue_msg_index']).reset_index(drop=True)\n",
    "    OMDC[\"priority_\"] = OMDC.groupby(['eeid_event_id','securityCode_','side_'])[\"priority_pre_step\"].cumsum()-1\n",
    "    OMDC[\"level_pre_step\"] = np.where(OMDC[\"item\"] == 0, 0,np.where(OMDC[\"type\"] == \"S\", 1, 0))\n",
    "    OMDC[\"level_\"] = OMDC.groupby(['eeid_event_id','securityCode_','side_'])[\"level_pre_step\"].cumsum()\n",
    "\n",
    "    OMDC = OMDC.drop(columns=['priority_pre_step', 'level_pre_step'])\n",
    "    OMDC = OMDC.rename(columns = {\"item\":\"brokerNumber_\"})\n",
    "\n",
    "    OMDC[\"createdNanos_\"] = OMDC[\"received_\"]\n",
    "    OMDC = OMDC[OMDC[\"type\"]==\"B\"].sort_values(['eeid_event_id','securityCode_','side_','broker_queue_msg_index']).reset_index(drop = True)\n",
    "\n",
    "    path_final = path.format(date_to_run=date_to_run)\n",
    "    OMDC.to_parquet(path_final)\n",
    "    return path_final"
   ]
  },
  {
   "cell_type": "code",
   "execution_count": 0,
   "metadata": {
    "application/vnd.databricks.v1+cell": {
     "cellMetadata": {
      "byteLimit": 2048000,
      "rowLimit": 10000
     },
     "inputWidgets": {},
     "nuid": "6bcfe9d5-6318-4b1b-842f-d0109f72cf19",
     "showTitle": false,
     "title": ""
    }
   },
   "outputs": [],
   "source": [
    "OMDC[\"priority_pre_step\"] = np.where(OMDC[\"type\"] == \"B\", 1, 0)\n",
    "OMDC = OMDC.sort_values(by=['eeid_event_id','securityCode_','side_','broker_queue_msg_index']).reset_index(drop=True)\n",
    "OMDC[\"priority_\"] = OMDC.groupby(['eeid_event_id','securityCode_','side_'])[\"priority_pre_step\"].cumsum()-1\n",
    "OMDC[\"level_pre_step\"] = np.where(OMDC[\"item\"] == 0, 0,np.where(OMDC[\"type\"] == \"S\", 1, 0))\n",
    "OMDC[\"level_\"] = OMDC.groupby(['eeid_event_id','securityCode_','side_'])[\"level_pre_step\"].cumsum()"
   ]
  },
  {
   "cell_type": "code",
   "execution_count": 0,
   "metadata": {
    "application/vnd.databricks.v1+cell": {
     "cellMetadata": {
      "byteLimit": 2048000,
      "rowLimit": 10000
     },
     "inputWidgets": {},
     "nuid": "96655f20-8b68-43aa-9939-9ed81b2a2dac",
     "showTitle": false,
     "title": ""
    }
   },
   "outputs": [],
   "source": [
    "OMDC[\"level_pre_step\"] = np.where(OMDC[\"item\"] == 0, 0,np.where(OMDC[\"type\"] == \"S\", 1, 0))\n",
    "OMDC[\"level_\"] = OMDC.groupby(['eeid_event_id','securityCode_','side_'])[\"level_pre_step\"].cumsum()"
   ]
  },
  {
   "cell_type": "code",
   "execution_count": 0,
   "metadata": {
    "application/vnd.databricks.v1+cell": {
     "cellMetadata": {
      "byteLimit": 2048000,
      "rowLimit": 10000
     },
     "inputWidgets": {},
     "nuid": "0fa83b7c-01cf-423b-9a56-e342139dacc3",
     "showTitle": false,
     "title": ""
    }
   },
   "outputs": [
    {
     "output_type": "execute_result",
     "data": {
      "text/html": [
       "<div>\n",
       "<style scoped>\n",
       "    .dataframe tbody tr th:only-of-type {\n",
       "        vertical-align: middle;\n",
       "    }\n",
       "\n",
       "    .dataframe tbody tr th {\n",
       "        vertical-align: top;\n",
       "    }\n",
       "\n",
       "    .dataframe thead th {\n",
       "        text-align: right;\n",
       "    }\n",
       "</style>\n",
       "<table border=\"1\" class=\"dataframe\">\n",
       "  <thead>\n",
       "    <tr style=\"text-align: right;\">\n",
       "      <th></th>\n",
       "      <th>received_</th>\n",
       "      <th>timestampNanos_</th>\n",
       "      <th>eeid_event_id</th>\n",
       "      <th>securityCode_</th>\n",
       "      <th>side_</th>\n",
       "      <th>item</th>\n",
       "      <th>type</th>\n",
       "      <th>broker_queue_msg_index</th>\n",
       "      <th>priority_pre_step</th>\n",
       "      <th>priority_</th>\n",
       "    </tr>\n",
       "  </thead>\n",
       "  <tbody>\n",
       "    <tr>\n",
       "      <th>0</th>\n",
       "      <td>1726794000003949138</td>\n",
       "      <td>1726794000003000000</td>\n",
       "      <td>1220475499017404417</td>\n",
       "      <td>1359</td>\n",
       "      <td>1</td>\n",
       "      <td>2873</td>\n",
       "      <td>B</td>\n",
       "      <td>0</td>\n",
       "      <td>1</td>\n",
       "      <td>0</td>\n",
       "    </tr>\n",
       "    <tr>\n",
       "      <th>1</th>\n",
       "      <td>1726794000003949138</td>\n",
       "      <td>1726794000003000000</td>\n",
       "      <td>1220475499017404417</td>\n",
       "      <td>1359</td>\n",
       "      <td>1</td>\n",
       "      <td>2873</td>\n",
       "      <td>B</td>\n",
       "      <td>1</td>\n",
       "      <td>1</td>\n",
       "      <td>1</td>\n",
       "    </tr>\n",
       "    <tr>\n",
       "      <th>2</th>\n",
       "      <td>1726794000003949138</td>\n",
       "      <td>1726794000003000000</td>\n",
       "      <td>1220475499017404417</td>\n",
       "      <td>1359</td>\n",
       "      <td>1</td>\n",
       "      <td>2873</td>\n",
       "      <td>B</td>\n",
       "      <td>2</td>\n",
       "      <td>1</td>\n",
       "      <td>2</td>\n",
       "    </tr>\n",
       "    <tr>\n",
       "      <th>3</th>\n",
       "      <td>1726794000003949138</td>\n",
       "      <td>1726794000003000000</td>\n",
       "      <td>1220475499017404417</td>\n",
       "      <td>1359</td>\n",
       "      <td>1</td>\n",
       "      <td>1</td>\n",
       "      <td>S</td>\n",
       "      <td>3</td>\n",
       "      <td>0</td>\n",
       "      <td>2</td>\n",
       "    </tr>\n",
       "    <tr>\n",
       "      <th>4</th>\n",
       "      <td>1726794000003949138</td>\n",
       "      <td>1726794000003000000</td>\n",
       "      <td>1220475499017404417</td>\n",
       "      <td>1359</td>\n",
       "      <td>1</td>\n",
       "      <td>2873</td>\n",
       "      <td>B</td>\n",
       "      <td>4</td>\n",
       "      <td>1</td>\n",
       "      <td>3</td>\n",
       "    </tr>\n",
       "  </tbody>\n",
       "</table>\n",
       "</div>"
      ],
      "text/plain": [
       "             received_      timestampNanos_  ...  priority_pre_step  priority_\n",
       "0  1726794000003949138  1726794000003000000  ...                  1          0\n",
       "1  1726794000003949138  1726794000003000000  ...                  1          1\n",
       "2  1726794000003949138  1726794000003000000  ...                  1          2\n",
       "3  1726794000003949138  1726794000003000000  ...                  0          2\n",
       "4  1726794000003949138  1726794000003000000  ...                  1          3\n",
       "\n",
       "[5 rows x 10 columns]"
      ]
     },
     "execution_count": 27,
     "metadata": {},
     "output_type": "execute_result"
    }
   ],
   "source": [
    "OMDC = OMDC.drop(columns=['is_B', 'increment_level'])\n",
    "OMDC = OMDC.rename(columns = {\"item\":\"brokerNumber_\"})\n",
    "OMDC[\"createdNanos_\"] = OMDC[\"received_\"]\n",
    "OMDC = OMDC[OMDC[\"type\"]==\"B\"].sort_values([\"eeid_event_id\", \"broker_queue_msg_index\"]).reset_index(drop = True)"
   ]
  },
  {
   "cell_type": "code",
   "execution_count": 0,
   "metadata": {
    "application/vnd.databricks.v1+cell": {
     "cellMetadata": {
      "byteLimit": 2048000,
      "rowLimit": 10000
     },
     "inputWidgets": {},
     "nuid": "60e5d829-6c6d-4274-87a6-4396a8f578b9",
     "showTitle": false,
     "title": ""
    }
   },
   "outputs": [
    {
     "output_type": "execute_result",
     "data": {
      "text/html": [
       "<div>\n",
       "<style scoped>\n",
       "    .dataframe tbody tr th:only-of-type {\n",
       "        vertical-align: middle;\n",
       "    }\n",
       "\n",
       "    .dataframe tbody tr th {\n",
       "        vertical-align: top;\n",
       "    }\n",
       "\n",
       "    .dataframe thead th {\n",
       "        text-align: right;\n",
       "    }\n",
       "</style>\n",
       "<table border=\"1\" class=\"dataframe\">\n",
       "  <thead>\n",
       "    <tr style=\"text-align: right;\">\n",
       "      <th></th>\n",
       "      <th>received_</th>\n",
       "      <th>timestampNanos_</th>\n",
       "      <th>eeid_event_id</th>\n",
       "      <th>securityCode_</th>\n",
       "      <th>side_</th>\n",
       "      <th>item</th>\n",
       "      <th>type</th>\n",
       "      <th>broker_queue_msg_index</th>\n",
       "      <th>priority_pre_step</th>\n",
       "      <th>priority_</th>\n",
       "      <th>level_pre_step</th>\n",
       "      <th>level_</th>\n",
       "    </tr>\n",
       "  </thead>\n",
       "  <tbody>\n",
       "    <tr>\n",
       "      <th>0</th>\n",
       "      <td>1726794000003949138</td>\n",
       "      <td>1726794000003000000</td>\n",
       "      <td>1220475499017404417</td>\n",
       "      <td>1359</td>\n",
       "      <td>1</td>\n",
       "      <td>2873</td>\n",
       "      <td>B</td>\n",
       "      <td>0</td>\n",
       "      <td>1</td>\n",
       "      <td>0</td>\n",
       "      <td>0</td>\n",
       "      <td>0</td>\n",
       "    </tr>\n",
       "    <tr>\n",
       "      <th>1</th>\n",
       "      <td>1726794000003949138</td>\n",
       "      <td>1726794000003000000</td>\n",
       "      <td>1220475499017404417</td>\n",
       "      <td>1359</td>\n",
       "      <td>1</td>\n",
       "      <td>2873</td>\n",
       "      <td>B</td>\n",
       "      <td>1</td>\n",
       "      <td>1</td>\n",
       "      <td>1</td>\n",
       "      <td>0</td>\n",
       "      <td>0</td>\n",
       "    </tr>\n",
       "    <tr>\n",
       "      <th>2</th>\n",
       "      <td>1726794000003949138</td>\n",
       "      <td>1726794000003000000</td>\n",
       "      <td>1220475499017404417</td>\n",
       "      <td>1359</td>\n",
       "      <td>1</td>\n",
       "      <td>2873</td>\n",
       "      <td>B</td>\n",
       "      <td>2</td>\n",
       "      <td>1</td>\n",
       "      <td>2</td>\n",
       "      <td>0</td>\n",
       "      <td>0</td>\n",
       "    </tr>\n",
       "    <tr>\n",
       "      <th>3</th>\n",
       "      <td>1726794000003949138</td>\n",
       "      <td>1726794000003000000</td>\n",
       "      <td>1220475499017404417</td>\n",
       "      <td>1359</td>\n",
       "      <td>1</td>\n",
       "      <td>1</td>\n",
       "      <td>S</td>\n",
       "      <td>3</td>\n",
       "      <td>0</td>\n",
       "      <td>2</td>\n",
       "      <td>1</td>\n",
       "      <td>1</td>\n",
       "    </tr>\n",
       "    <tr>\n",
       "      <th>4</th>\n",
       "      <td>1726794000003949138</td>\n",
       "      <td>1726794000003000000</td>\n",
       "      <td>1220475499017404417</td>\n",
       "      <td>1359</td>\n",
       "      <td>1</td>\n",
       "      <td>2873</td>\n",
       "      <td>B</td>\n",
       "      <td>4</td>\n",
       "      <td>1</td>\n",
       "      <td>3</td>\n",
       "      <td>0</td>\n",
       "      <td>1</td>\n",
       "    </tr>\n",
       "    <tr>\n",
       "      <th>5</th>\n",
       "      <td>1726794000003949138</td>\n",
       "      <td>1726794000003000000</td>\n",
       "      <td>1220475499017404417</td>\n",
       "      <td>1359</td>\n",
       "      <td>1</td>\n",
       "      <td>2873</td>\n",
       "      <td>B</td>\n",
       "      <td>5</td>\n",
       "      <td>1</td>\n",
       "      <td>4</td>\n",
       "      <td>0</td>\n",
       "      <td>1</td>\n",
       "    </tr>\n",
       "    <tr>\n",
       "      <th>6</th>\n",
       "      <td>1726794000003949138</td>\n",
       "      <td>1726794000003000000</td>\n",
       "      <td>1220475499017404417</td>\n",
       "      <td>1359</td>\n",
       "      <td>1</td>\n",
       "      <td>2</td>\n",
       "      <td>S</td>\n",
       "      <td>6</td>\n",
       "      <td>0</td>\n",
       "      <td>4</td>\n",
       "      <td>1</td>\n",
       "      <td>2</td>\n",
       "    </tr>\n",
       "    <tr>\n",
       "      <th>7</th>\n",
       "      <td>1726794000003949138</td>\n",
       "      <td>1726794000003000000</td>\n",
       "      <td>1220475499017404417</td>\n",
       "      <td>1359</td>\n",
       "      <td>1</td>\n",
       "      <td>2873</td>\n",
       "      <td>B</td>\n",
       "      <td>7</td>\n",
       "      <td>1</td>\n",
       "      <td>5</td>\n",
       "      <td>0</td>\n",
       "      <td>2</td>\n",
       "    </tr>\n",
       "    <tr>\n",
       "      <th>8</th>\n",
       "      <td>1726794000003949138</td>\n",
       "      <td>1726794000003000000</td>\n",
       "      <td>1220475499017404417</td>\n",
       "      <td>1359</td>\n",
       "      <td>1</td>\n",
       "      <td>2873</td>\n",
       "      <td>B</td>\n",
       "      <td>8</td>\n",
       "      <td>1</td>\n",
       "      <td>6</td>\n",
       "      <td>0</td>\n",
       "      <td>2</td>\n",
       "    </tr>\n",
       "    <tr>\n",
       "      <th>9</th>\n",
       "      <td>1726794000003949138</td>\n",
       "      <td>1726794000003000000</td>\n",
       "      <td>1220475499017404417</td>\n",
       "      <td>1359</td>\n",
       "      <td>2</td>\n",
       "      <td>2877</td>\n",
       "      <td>B</td>\n",
       "      <td>0</td>\n",
       "      <td>1</td>\n",
       "      <td>0</td>\n",
       "      <td>0</td>\n",
       "      <td>0</td>\n",
       "    </tr>\n",
       "    <tr>\n",
       "      <th>10</th>\n",
       "      <td>1726794000003949138</td>\n",
       "      <td>1726794000003000000</td>\n",
       "      <td>1220475499017404417</td>\n",
       "      <td>1359</td>\n",
       "      <td>2</td>\n",
       "      <td>1</td>\n",
       "      <td>S</td>\n",
       "      <td>1</td>\n",
       "      <td>0</td>\n",
       "      <td>0</td>\n",
       "      <td>1</td>\n",
       "      <td>1</td>\n",
       "    </tr>\n",
       "    <tr>\n",
       "      <th>11</th>\n",
       "      <td>1726794000003949138</td>\n",
       "      <td>1726794000003000000</td>\n",
       "      <td>1220475499017404417</td>\n",
       "      <td>1359</td>\n",
       "      <td>2</td>\n",
       "      <td>2877</td>\n",
       "      <td>B</td>\n",
       "      <td>2</td>\n",
       "      <td>1</td>\n",
       "      <td>1</td>\n",
       "      <td>0</td>\n",
       "      <td>1</td>\n",
       "    </tr>\n",
       "    <tr>\n",
       "      <th>12</th>\n",
       "      <td>1726794000003949138</td>\n",
       "      <td>1726794000003000000</td>\n",
       "      <td>1220475499017404417</td>\n",
       "      <td>1359</td>\n",
       "      <td>2</td>\n",
       "      <td>2877</td>\n",
       "      <td>B</td>\n",
       "      <td>3</td>\n",
       "      <td>1</td>\n",
       "      <td>2</td>\n",
       "      <td>0</td>\n",
       "      <td>1</td>\n",
       "    </tr>\n",
       "    <tr>\n",
       "      <th>13</th>\n",
       "      <td>1726794000003995997</td>\n",
       "      <td>1726794000003000000</td>\n",
       "      <td>1220475499017404419</td>\n",
       "      <td>1918</td>\n",
       "      <td>1</td>\n",
       "      <td>2877</td>\n",
       "      <td>B</td>\n",
       "      <td>0</td>\n",
       "      <td>1</td>\n",
       "      <td>0</td>\n",
       "      <td>0</td>\n",
       "      <td>0</td>\n",
       "    </tr>\n",
       "    <tr>\n",
       "      <th>14</th>\n",
       "      <td>1726794000010997834</td>\n",
       "      <td>1726794000010000000</td>\n",
       "      <td>1220475499017404433</td>\n",
       "      <td>20</td>\n",
       "      <td>1</td>\n",
       "      <td>2874</td>\n",
       "      <td>B</td>\n",
       "      <td>0</td>\n",
       "      <td>1</td>\n",
       "      <td>0</td>\n",
       "      <td>0</td>\n",
       "      <td>0</td>\n",
       "    </tr>\n",
       "    <tr>\n",
       "      <th>15</th>\n",
       "      <td>1726794000010997834</td>\n",
       "      <td>1726794000010000000</td>\n",
       "      <td>1220475499017404433</td>\n",
       "      <td>20</td>\n",
       "      <td>1</td>\n",
       "      <td>4660</td>\n",
       "      <td>B</td>\n",
       "      <td>1</td>\n",
       "      <td>1</td>\n",
       "      <td>1</td>\n",
       "      <td>0</td>\n",
       "      <td>0</td>\n",
       "    </tr>\n",
       "    <tr>\n",
       "      <th>16</th>\n",
       "      <td>1726794000010997834</td>\n",
       "      <td>1726794000010000000</td>\n",
       "      <td>1220475499017404433</td>\n",
       "      <td>20</td>\n",
       "      <td>1</td>\n",
       "      <td>4827</td>\n",
       "      <td>B</td>\n",
       "      <td>2</td>\n",
       "      <td>1</td>\n",
       "      <td>2</td>\n",
       "      <td>0</td>\n",
       "      <td>0</td>\n",
       "    </tr>\n",
       "    <tr>\n",
       "      <th>17</th>\n",
       "      <td>1726794000010997834</td>\n",
       "      <td>1726794000010000000</td>\n",
       "      <td>1220475499017404433</td>\n",
       "      <td>20</td>\n",
       "      <td>1</td>\n",
       "      <td>7029</td>\n",
       "      <td>B</td>\n",
       "      <td>3</td>\n",
       "      <td>1</td>\n",
       "      <td>3</td>\n",
       "      <td>0</td>\n",
       "      <td>0</td>\n",
       "    </tr>\n",
       "    <tr>\n",
       "      <th>18</th>\n",
       "      <td>1726794000010997834</td>\n",
       "      <td>1726794000010000000</td>\n",
       "      <td>1220475499017404433</td>\n",
       "      <td>20</td>\n",
       "      <td>1</td>\n",
       "      <td>1</td>\n",
       "      <td>S</td>\n",
       "      <td>4</td>\n",
       "      <td>0</td>\n",
       "      <td>3</td>\n",
       "      <td>1</td>\n",
       "      <td>1</td>\n",
       "    </tr>\n",
       "    <tr>\n",
       "      <th>19</th>\n",
       "      <td>1726794000010997834</td>\n",
       "      <td>1726794000010000000</td>\n",
       "      <td>1220475499017404433</td>\n",
       "      <td>20</td>\n",
       "      <td>1</td>\n",
       "      <td>2874</td>\n",
       "      <td>B</td>\n",
       "      <td>5</td>\n",
       "      <td>1</td>\n",
       "      <td>4</td>\n",
       "      <td>0</td>\n",
       "      <td>1</td>\n",
       "    </tr>\n",
       "    <tr>\n",
       "      <th>20</th>\n",
       "      <td>1726794000010997834</td>\n",
       "      <td>1726794000010000000</td>\n",
       "      <td>1220475499017404433</td>\n",
       "      <td>20</td>\n",
       "      <td>1</td>\n",
       "      <td>8472</td>\n",
       "      <td>B</td>\n",
       "      <td>6</td>\n",
       "      <td>1</td>\n",
       "      <td>5</td>\n",
       "      <td>0</td>\n",
       "      <td>1</td>\n",
       "    </tr>\n",
       "    <tr>\n",
       "      <th>21</th>\n",
       "      <td>1726794000010997834</td>\n",
       "      <td>1726794000010000000</td>\n",
       "      <td>1220475499017404433</td>\n",
       "      <td>20</td>\n",
       "      <td>1</td>\n",
       "      <td>4636</td>\n",
       "      <td>B</td>\n",
       "      <td>7</td>\n",
       "      <td>1</td>\n",
       "      <td>6</td>\n",
       "      <td>0</td>\n",
       "      <td>1</td>\n",
       "    </tr>\n",
       "    <tr>\n",
       "      <th>22</th>\n",
       "      <td>1726794000010997834</td>\n",
       "      <td>1726794000010000000</td>\n",
       "      <td>1220475499017404433</td>\n",
       "      <td>20</td>\n",
       "      <td>1</td>\n",
       "      <td>6908</td>\n",
       "      <td>B</td>\n",
       "      <td>8</td>\n",
       "      <td>1</td>\n",
       "      <td>7</td>\n",
       "      <td>0</td>\n",
       "      <td>1</td>\n",
       "    </tr>\n",
       "    <tr>\n",
       "      <th>23</th>\n",
       "      <td>1726794000010997834</td>\n",
       "      <td>1726794000010000000</td>\n",
       "      <td>1220475499017404433</td>\n",
       "      <td>20</td>\n",
       "      <td>1</td>\n",
       "      <td>2</td>\n",
       "      <td>S</td>\n",
       "      <td>9</td>\n",
       "      <td>0</td>\n",
       "      <td>7</td>\n",
       "      <td>1</td>\n",
       "      <td>2</td>\n",
       "    </tr>\n",
       "    <tr>\n",
       "      <th>24</th>\n",
       "      <td>1726794000010997834</td>\n",
       "      <td>1726794000010000000</td>\n",
       "      <td>1220475499017404433</td>\n",
       "      <td>20</td>\n",
       "      <td>1</td>\n",
       "      <td>2874</td>\n",
       "      <td>B</td>\n",
       "      <td>10</td>\n",
       "      <td>1</td>\n",
       "      <td>8</td>\n",
       "      <td>0</td>\n",
       "      <td>2</td>\n",
       "    </tr>\n",
       "    <tr>\n",
       "      <th>25</th>\n",
       "      <td>1726794000010997834</td>\n",
       "      <td>1726794000010000000</td>\n",
       "      <td>1220475499017404433</td>\n",
       "      <td>20</td>\n",
       "      <td>1</td>\n",
       "      <td>8472</td>\n",
       "      <td>B</td>\n",
       "      <td>11</td>\n",
       "      <td>1</td>\n",
       "      <td>9</td>\n",
       "      <td>0</td>\n",
       "      <td>2</td>\n",
       "    </tr>\n",
       "    <tr>\n",
       "      <th>26</th>\n",
       "      <td>1726794000010997834</td>\n",
       "      <td>1726794000010000000</td>\n",
       "      <td>1220475499017404433</td>\n",
       "      <td>20</td>\n",
       "      <td>1</td>\n",
       "      <td>7018</td>\n",
       "      <td>B</td>\n",
       "      <td>12</td>\n",
       "      <td>1</td>\n",
       "      <td>10</td>\n",
       "      <td>0</td>\n",
       "      <td>2</td>\n",
       "    </tr>\n",
       "    <tr>\n",
       "      <th>27</th>\n",
       "      <td>1726794000010997834</td>\n",
       "      <td>1726794000010000000</td>\n",
       "      <td>1220475499017404433</td>\n",
       "      <td>20</td>\n",
       "      <td>1</td>\n",
       "      <td>3</td>\n",
       "      <td>S</td>\n",
       "      <td>13</td>\n",
       "      <td>0</td>\n",
       "      <td>10</td>\n",
       "      <td>1</td>\n",
       "      <td>3</td>\n",
       "    </tr>\n",
       "    <tr>\n",
       "      <th>28</th>\n",
       "      <td>1726794000010997834</td>\n",
       "      <td>1726794000010000000</td>\n",
       "      <td>1220475499017404433</td>\n",
       "      <td>20</td>\n",
       "      <td>1</td>\n",
       "      <td>2874</td>\n",
       "      <td>B</td>\n",
       "      <td>14</td>\n",
       "      <td>1</td>\n",
       "      <td>11</td>\n",
       "      <td>0</td>\n",
       "      <td>3</td>\n",
       "    </tr>\n",
       "    <tr>\n",
       "      <th>29</th>\n",
       "      <td>1726794000010997834</td>\n",
       "      <td>1726794000010000000</td>\n",
       "      <td>1220475499017404433</td>\n",
       "      <td>20</td>\n",
       "      <td>1</td>\n",
       "      <td>8472</td>\n",
       "      <td>B</td>\n",
       "      <td>15</td>\n",
       "      <td>1</td>\n",
       "      <td>12</td>\n",
       "      <td>0</td>\n",
       "      <td>3</td>\n",
       "    </tr>\n",
       "  </tbody>\n",
       "</table>\n",
       "</div>"
      ],
      "text/plain": [
       "              received_      timestampNanos_  ...  level_pre_step  level_\n",
       "0   1726794000003949138  1726794000003000000  ...               0       0\n",
       "1   1726794000003949138  1726794000003000000  ...               0       0\n",
       "2   1726794000003949138  1726794000003000000  ...               0       0\n",
       "3   1726794000003949138  1726794000003000000  ...               1       1\n",
       "4   1726794000003949138  1726794000003000000  ...               0       1\n",
       "5   1726794000003949138  1726794000003000000  ...               0       1\n",
       "6   1726794000003949138  1726794000003000000  ...               1       2\n",
       "7   1726794000003949138  1726794000003000000  ...               0       2\n",
       "8   1726794000003949138  1726794000003000000  ...               0       2\n",
       "9   1726794000003949138  1726794000003000000  ...               0       0\n",
       "10  1726794000003949138  1726794000003000000  ...               1       1\n",
       "11  1726794000003949138  1726794000003000000  ...               0       1\n",
       "12  1726794000003949138  1726794000003000000  ...               0       1\n",
       "13  1726794000003995997  1726794000003000000  ...               0       0\n",
       "14  1726794000010997834  1726794000010000000  ...               0       0\n",
       "15  1726794000010997834  1726794000010000000  ...               0       0\n",
       "16  1726794000010997834  1726794000010000000  ...               0       0\n",
       "17  1726794000010997834  1726794000010000000  ...               0       0\n",
       "18  1726794000010997834  1726794000010000000  ...               1       1\n",
       "19  1726794000010997834  1726794000010000000  ...               0       1\n",
       "20  1726794000010997834  1726794000010000000  ...               0       1\n",
       "21  1726794000010997834  1726794000010000000  ...               0       1\n",
       "22  1726794000010997834  1726794000010000000  ...               0       1\n",
       "23  1726794000010997834  1726794000010000000  ...               1       2\n",
       "24  1726794000010997834  1726794000010000000  ...               0       2\n",
       "25  1726794000010997834  1726794000010000000  ...               0       2\n",
       "26  1726794000010997834  1726794000010000000  ...               0       2\n",
       "27  1726794000010997834  1726794000010000000  ...               1       3\n",
       "28  1726794000010997834  1726794000010000000  ...               0       3\n",
       "29  1726794000010997834  1726794000010000000  ...               0       3\n",
       "\n",
       "[30 rows x 12 columns]"
      ]
     },
     "execution_count": 34,
     "metadata": {},
     "output_type": "execute_result"
    }
   ],
   "source": [
    "OMDC.head(30)"
   ]
  },
  {
   "cell_type": "code",
   "execution_count": 0,
   "metadata": {
    "application/vnd.databricks.v1+cell": {
     "cellMetadata": {},
     "inputWidgets": {},
     "nuid": "47231638-e3d6-4029-b024-825939d91288",
     "showTitle": false,
     "title": ""
    }
   },
   "outputs": [],
   "source": [
    "def process_packet(packet):\n",
    "    packet = packet.sort_values(by='broker_queue_msg_index').reset_index(drop=True)\n",
    "    is_S = packet['type'] == 'S'\n",
    "    is_B = ~is_S  \n",
    "    packet['priority'] = -1\n",
    "    packet.loc[is_B, 'priority'] = is_B.cumsum()[is_B] - 1\n",
    "    increment_level = is_S & packet['item'].isin([1, 2])\n",
    "    packet['level_'] = increment_level.cumsum()\n",
    "\n",
    "    return packet\n",
    "    \n",
    "def get_and_persist_omdc(feedcodes, date_to_run, path=\"/Workspace/Users/kartikeya.bisht@optiver.com.au/FOBA_create/data/ConflatedBrokerQueue_{date_to_run}.parquet\"):\n",
    "    selected_columns = ['t0', 'omd_send_ts', 'eeid_event_id', 'security_code', 'side', 'item', 'type', 'broker_queue_msg_index']\n",
    "\n",
    "    OMDC = (spark.read.parquet(f\"/Volumes/external/opapac-ess-prd-apse2/hacksaw/sehk/omdc_broker_queue/market_session_date={date_to_run.isoformat()}/\")\n",
    "            .filter(F.col(\"security_code\").isin(feedcodes))\n",
    "            .select(*selected_columns)\n",
    "            .toPandas())\n",
    "\n",
    "    OMDC = OMDC.rename(columns = {\n",
    "        \"t0\": \"received_\",\n",
    "        \"omd_send_ts\": \"timestampNanos_\",\n",
    "        \"security_code\":\"securityCode_\",\n",
    "        \"side\": \"side_\",\n",
    "    })\n",
    "\n",
    "    OMDC = OMDC.sort_values(by=['eeid_event_id', 'securityCode_', 'broker_queue_msg_index']).reset_index(drop=True)\n",
    "    OMDC2 = OMDC.copy()\n",
    "    group_keys = ['eeid_event_id', 'securityCode_']\n",
    "\n",
    "    OMDC['is_B'] = (OMDC['type'] == 'B').astype(int)\n",
    "    OMDC['priority_'] = OMDC.groupby(group_keys)['is_B'].cumsum() - 1\n",
    "\n",
    "    OMDC['increment_level'] = ((OMDC['type'] == 'S') & (OMDC['item'] != 0)).astype(int)\n",
    "    OMDC['level_'] = OMDC.groupby(group_keys)['increment_level'].cumsum()\n",
    "    OMDC = OMDC.drop(columns=['is_B', 'increment_level'])\n",
    "    OMDC = OMDC.rename(columns = {\"item\":\"brokerNumber_\"})\n",
    "    OMDC[\"createdNanos_\"] = OMDC[\"received_\"]\n",
    "    OMDC = OMDC[OMDC[\"type\"]==\"B\"].sort_values([\"eeid_event_id\", \"broker_queue_msg_index\"]).reset_index(drop = True)\n",
    "\n",
    "    path_final = path.format(date_to_run=date_to_run)\n",
    "    OMDC.to_parquet(path_final)\n",
    "    return path_final"
   ]
  }
 ],
 "metadata": {
  "application/vnd.databricks.v1+notebook": {
   "dashboards": [],
   "environmentMetadata": null,
   "language": "python",
   "notebookMetadata": {
    "pythonIndentUnit": 4
   },
   "notebookName": "foba_create",
   "widgets": {}
  }
 },
 "nbformat": 4,
 "nbformat_minor": 0
}
