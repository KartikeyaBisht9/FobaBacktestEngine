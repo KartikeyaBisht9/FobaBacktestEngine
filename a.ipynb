{
 "cells": [
  {
   "cell_type": "code",
   "execution_count": 1,
   "metadata": {},
   "outputs": [],
   "source": [
    "gg = [(100, 1000), (102, 4000), (104, 3000)]"
   ]
  },
  {
   "cell_type": "code",
   "execution_count": 4,
   "metadata": {},
   "outputs": [],
   "source": [
    "volume, ticks_through = 5500, 1\n",
    "for lvl in gg:\n",
    "    volume -= lvl[1]\n",
    "    if volume < 0:\n",
    "        break\n",
    "    else:\n",
    "        ticks_through += 1\n"
   ]
  },
  {
   "cell_type": "code",
   "execution_count": 6,
   "metadata": {},
   "outputs": [
    {
     "name": "stdout",
     "output_type": "stream",
     "text": [
      "0\n",
      "1\n",
      "2\n"
     ]
    }
   ],
   "source": [
    "for x in range(ticks_through):\n",
    "    print(x)"
   ]
  },
  {
   "cell_type": "code",
   "execution_count": 7,
   "metadata": {},
   "outputs": [],
   "source": [
    "for x in []:\n",
    "    print(x)"
   ]
  },
  {
   "cell_type": "code",
   "execution_count": 9,
   "metadata": {},
   "outputs": [],
   "source": [
    "import pandas as pd"
   ]
  },
  {
   "cell_type": "code",
   "execution_count": 10,
   "metadata": {},
   "outputs": [],
   "source": [
    "df = pd.read_feather(\"trade_confirms.feather\")"
   ]
  },
  {
   "cell_type": "code",
   "execution_count": 21,
   "metadata": {},
   "outputs": [],
   "source": [
    "df = pd.read_feather(\"/Users/kartikeyabisht/FobaBacktestEngine/deleteOrders.feather\")"
   ]
  },
  {
   "cell_type": "code",
   "execution_count": 22,
   "metadata": {},
   "outputs": [
    {
     "data": {
      "text/plain": [
       "0      1398\n",
       "1      1398\n",
       "2      1398\n",
       "3       939\n",
       "4      1398\n",
       "       ... \n",
       "959     939\n",
       "960     939\n",
       "961     939\n",
       "962     939\n",
       "963     939\n",
       "Name: feedcode, Length: 964, dtype: object"
      ]
     },
     "execution_count": 22,
     "metadata": {},
     "output_type": "execute_result"
    }
   ],
   "source": [
    "df[\"feedcode\"]"
   ]
  },
  {
   "cell_type": "code",
   "execution_count": null,
   "metadata": {},
   "outputs": [],
   "source": [
    "df = pd.readfeather(\"/Users/kartikeyabisht/FobaBacktestEngine/addOrders.feather\")\n",
    "        df = df[df[\"FEEDCODE\"].isin(feedcodes)]\n",
    "        pass\n",
    "    elif operation == \"private_trade\":\n",
    "        df = pd.readfeather(\"/Users/kartikeyabisht/FobaBacktestEngine/private_trade.feather\")\n",
    "        df = df[df[\"FEEDCODE\"].isin(symbols)]\n",
    "        pass\n",
    "    elif operation == \"delete_operation\":\n",
    "        df = pd.readfeather(\"/Users/kartikeyabisht/FobaBacktestEngine/deleteOrders.feather\")\n",
    "        df = df[df[\"FEEDCODE\"].isin(feedcodes)]"
   ]
  },
  {
   "cell_type": "code",
   "execution_count": null,
   "metadata": {},
   "outputs": [],
   "source": []
  }
 ],
 "metadata": {
  "kernelspec": {
   "display_name": "CryptoStatArbBacktester",
   "language": "python",
   "name": "python3"
  },
  "language_info": {
   "codemirror_mode": {
    "name": "ipython",
    "version": 3
   },
   "file_extension": ".py",
   "mimetype": "text/x-python",
   "name": "python",
   "nbconvert_exporter": "python",
   "pygments_lexer": "ipython3",
   "version": "3.9.19"
  }
 },
 "nbformat": 4,
 "nbformat_minor": 2
}
